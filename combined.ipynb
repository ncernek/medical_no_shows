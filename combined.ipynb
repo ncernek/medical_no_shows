{
 "cells": [
  {
   "cell_type": "markdown",
   "metadata": {
    "toc": true
   },
   "source": [
    "<h1>Table of Contents<span class=\"tocSkip\"></span></h1>\n",
    "<div class=\"toc\" style=\"margin-top: 1em;\"><ul class=\"toc-item\"><li><ul class=\"toc-item\"><li><span><a href=\"#data-dictionary\" data-toc-modified-id=\"data-dictionary-0.1\">data dictionary</a></span><ul class=\"toc-item\"><li><span><a href=\"#patient-id\" data-toc-modified-id=\"patient-id-0.1.1\">patient id</a></span></li><li><span><a href=\"#appointment-id\" data-toc-modified-id=\"appointment-id-0.1.2\">appointment id</a></span></li><li><span><a href=\"#gender\" data-toc-modified-id=\"gender-0.1.3\">gender</a></span></li><li><span><a href=\"#scheduled-day\" data-toc-modified-id=\"scheduled-day-0.1.4\">scheduled day</a></span></li><li><span><a href=\"#appointment-day\" data-toc-modified-id=\"appointment-day-0.1.5\">appointment day</a></span></li><li><span><a href=\"#age\" data-toc-modified-id=\"age-0.1.6\">age</a></span></li><li><span><a href=\"#neighborhood\" data-toc-modified-id=\"neighborhood-0.1.7\">neighborhood</a></span></li><li><span><a href=\"#scholarship\" data-toc-modified-id=\"scholarship-0.1.8\">scholarship</a></span></li><li><span><a href=\"#hypertension\" data-toc-modified-id=\"hypertension-0.1.9\">hypertension</a></span></li><li><span><a href=\"#diabetes\" data-toc-modified-id=\"diabetes-0.1.10\">diabetes</a></span></li><li><span><a href=\"#alcoholism\" data-toc-modified-id=\"alcoholism-0.1.11\">alcoholism</a></span></li><li><span><a href=\"#handicap\" data-toc-modified-id=\"handicap-0.1.12\">handicap</a></span></li><li><span><a href=\"#sms-received\" data-toc-modified-id=\"sms-received-0.1.13\">sms received</a></span></li><li><span><a href=\"#no-show\" data-toc-modified-id=\"no-show-0.1.14\">no show</a></span></li></ul></li><li><span><a href=\"#basic-exploration\" data-toc-modified-id=\"basic-exploration-0.2\">basic exploration</a></span></li><li><span><a href=\"#feature-brainstorm\" data-toc-modified-id=\"feature-brainstorm-0.3\">feature brainstorm</a></span><ul class=\"toc-item\"><li><span><a href=\"#patient-id\" data-toc-modified-id=\"patient-id-0.3.1\">patient id</a></span></li><li><span><a href=\"#appointment-id\" data-toc-modified-id=\"appointment-id-0.3.2\">appointment id</a></span></li><li><span><a href=\"#gender\" data-toc-modified-id=\"gender-0.3.3\">gender</a></span></li><li><span><a href=\"#scheduled-day\" data-toc-modified-id=\"scheduled-day-0.3.4\">scheduled day</a></span></li><li><span><a href=\"#appointment-day\" data-toc-modified-id=\"appointment-day-0.3.5\">appointment day</a></span></li><li><span><a href=\"#age\" data-toc-modified-id=\"age-0.3.6\">age</a></span></li><li><span><a href=\"#neighborhood\" data-toc-modified-id=\"neighborhood-0.3.7\">neighborhood</a></span></li><li><span><a href=\"#scholarship\" data-toc-modified-id=\"scholarship-0.3.8\">scholarship</a></span></li><li><span><a href=\"#hypertension\" data-toc-modified-id=\"hypertension-0.3.9\">hypertension</a></span></li><li><span><a href=\"#diabetes\" data-toc-modified-id=\"diabetes-0.3.10\">diabetes</a></span></li><li><span><a href=\"#alcoholism\" data-toc-modified-id=\"alcoholism-0.3.11\">alcoholism</a></span></li><li><span><a href=\"#handicap\" data-toc-modified-id=\"handicap-0.3.12\">handicap</a></span></li><li><span><a href=\"#sms-received\" data-toc-modified-id=\"sms-received-0.3.13\">sms received</a></span></li></ul></li></ul></li><li><span><a href=\"#clean\" data-toc-modified-id=\"clean-1\">clean</a></span><ul class=\"toc-item\"><li><ul class=\"toc-item\"><li><span><a href=\"#rename-columns-to-be-more-legible\" data-toc-modified-id=\"rename-columns-to-be-more-legible-1.0.1\">rename columns to be more legible</a></span></li><li><span><a href=\"#reset-index-to-appointment-id\" data-toc-modified-id=\"reset-index-to-appointment-id-1.0.2\">reset index to appointment id</a></span></li><li><span><a href=\"#convert-fields-to-proper-formats\" data-toc-modified-id=\"convert-fields-to-proper-formats-1.0.3\">convert fields to proper formats</a></span></li><li><span><a href=\"#skim-columns-for-irregularities\" data-toc-modified-id=\"skim-columns-for-irregularities-1.0.4\">skim columns for irregularities</a></span></li><li><span><a href=\"#find-irregularities-in-distributions\" data-toc-modified-id=\"find-irregularities-in-distributions-1.0.5\">find irregularities in distributions</a></span></li><li><span><a href=\"#export-to-csv\" data-toc-modified-id=\"export-to-csv-1.0.6\">export to csv</a></span></li></ul></li></ul></li><li><span><a href=\"#exploratory-data-analysis\" data-toc-modified-id=\"exploratory-data-analysis-2\">exploratory data analysis</a></span><ul class=\"toc-item\"><li><ul class=\"toc-item\"><li><span><a href=\"#goal\" data-toc-modified-id=\"goal-2.0.1\">goal</a></span></li><li><span><a href=\"#problem\" data-toc-modified-id=\"problem-2.0.2\">problem</a></span></li><li><span><a href=\"#hypothesis\" data-toc-modified-id=\"hypothesis-2.0.3\">hypothesis</a></span></li><li><span><a href=\"#assumptions\" data-toc-modified-id=\"assumptions-2.0.4\">assumptions</a></span></li><li><span><a href=\"#procedure\" data-toc-modified-id=\"procedure-2.0.5\">procedure</a></span></li><li><span><a href=\"#imports\" data-toc-modified-id=\"imports-2.0.6\">imports</a></span></li><li><span><a href=\"#clustermap\" data-toc-modified-id=\"clustermap-2.0.7\">clustermap</a></span></li></ul></li><li><span><a href=\"#days-to-appointment\" data-toc-modified-id=\"days-to-appointment-2.1\">days to appointment</a></span><ul class=\"toc-item\"><li><span><a href=\"#remove-walk-ins\" data-toc-modified-id=\"remove-walk-ins-2.1.1\">remove walk-ins</a></span></li><li><span><a href=\"#days-to-appointment-versus-no-shows\" data-toc-modified-id=\"days-to-appointment-versus-no-shows-2.1.2\">days to appointment versus no-shows</a></span></li><li><span><a href=\"#probability-of-no-show\" data-toc-modified-id=\"probability-of-no-show-2.1.3\">probability of no show</a></span></li></ul></li><li><span><a href=\"#appointments-per-patient\" data-toc-modified-id=\"appointments-per-patient-2.2\">appointments per patient</a></span></li><li><span><a href=\"#male\" data-toc-modified-id=\"male-2.3\">male</a></span><ul class=\"toc-item\"><li><span><a href=\"#probability-of-no-show\" data-toc-modified-id=\"probability-of-no-show-2.3.1\">probability of no show</a></span></li><li><span><a href=\"#significance-test:-chi-square\" data-toc-modified-id=\"significance-test:-chi-square-2.3.2\">significance test: chi-square</a></span></li><li><span><a href=\"#posterior-probability\" data-toc-modified-id=\"posterior-probability-2.3.3\">posterior probability</a></span></li></ul></li><li><span><a href=\"#scheduled-day\" data-toc-modified-id=\"scheduled-day-2.4\">scheduled day</a></span><ul class=\"toc-item\"><li><span><a href=\"#probability-of-no-show\" data-toc-modified-id=\"probability-of-no-show-2.4.1\">probability of no show</a></span></li><li><span><a href=\"#significance-test:-chi-square\" data-toc-modified-id=\"significance-test:-chi-square-2.4.2\">significance test: chi-square</a></span></li></ul></li><li><span><a href=\"#appointment-weekday\" data-toc-modified-id=\"appointment-weekday-2.5\">appointment weekday</a></span><ul class=\"toc-item\"><li><span><a href=\"#probability-of-no-show\" data-toc-modified-id=\"probability-of-no-show-2.5.1\">probability of no show</a></span></li><li><span><a href=\"#significance-test:-chi-square\" data-toc-modified-id=\"significance-test:-chi-square-2.5.2\">significance test: chi-square</a></span></li></ul></li><li><span><a href=\"#age\" data-toc-modified-id=\"age-2.6\">age</a></span><ul class=\"toc-item\"><li><span><a href=\"#probability-of-no-show\" data-toc-modified-id=\"probability-of-no-show-2.6.1\">probability of no show</a></span></li><li><span><a href=\"#age-cubed\" data-toc-modified-id=\"age-cubed-2.6.2\">age cubed</a></span></li></ul></li><li><span><a href=\"#neighborhood\" data-toc-modified-id=\"neighborhood-2.7\">neighborhood</a></span><ul class=\"toc-item\"><li><span><a href=\"#probability-of-no-show\" data-toc-modified-id=\"probability-of-no-show-2.7.1\">probability of no show</a></span></li><li><span><a href=\"#significance-test:-chi-square\" data-toc-modified-id=\"significance-test:-chi-square-2.7.2\">significance test: chi-square</a></span></li></ul></li><li><span><a href=\"#scholarship\" data-toc-modified-id=\"scholarship-2.8\">scholarship</a></span><ul class=\"toc-item\"><li><span><a href=\"#probability-of-no-show\" data-toc-modified-id=\"probability-of-no-show-2.8.1\">probability of no show</a></span></li><li><span><a href=\"#significance-test:-chi-square\" data-toc-modified-id=\"significance-test:-chi-square-2.8.2\">significance test: chi-square</a></span></li><li><span><a href=\"#posterior-probability\" data-toc-modified-id=\"posterior-probability-2.8.3\">posterior probability</a></span></li></ul></li><li><span><a href=\"#hypertension\" data-toc-modified-id=\"hypertension-2.9\">hypertension</a></span><ul class=\"toc-item\"><li><span><a href=\"#probability-of-no-show\" data-toc-modified-id=\"probability-of-no-show-2.9.1\">probability of no show</a></span></li><li><span><a href=\"#significance-test:-chi-square\" data-toc-modified-id=\"significance-test:-chi-square-2.9.2\">significance test: chi-square</a></span></li><li><span><a href=\"#posterior-probability\" data-toc-modified-id=\"posterior-probability-2.9.3\">posterior probability</a></span></li></ul></li><li><span><a href=\"#diabetes\" data-toc-modified-id=\"diabetes-2.10\">diabetes</a></span><ul class=\"toc-item\"><li><span><a href=\"#probability-of-no-show\" data-toc-modified-id=\"probability-of-no-show-2.10.1\">probability of no show</a></span></li><li><span><a href=\"#significance-test:-chi-square\" data-toc-modified-id=\"significance-test:-chi-square-2.10.2\">significance test: chi-square</a></span></li><li><span><a href=\"#posterior-probability\" data-toc-modified-id=\"posterior-probability-2.10.3\">posterior probability</a></span></li></ul></li><li><span><a href=\"#alcoholism\" data-toc-modified-id=\"alcoholism-2.11\">alcoholism</a></span><ul class=\"toc-item\"><li><span><a href=\"#probability-of-no-show\" data-toc-modified-id=\"probability-of-no-show-2.11.1\">probability of no show</a></span></li><li><span><a href=\"#significance-test:-chi-square\" data-toc-modified-id=\"significance-test:-chi-square-2.11.2\">significance test: chi-square</a></span></li><li><span><a href=\"#posterior-probability\" data-toc-modified-id=\"posterior-probability-2.11.3\">posterior probability</a></span></li></ul></li><li><span><a href=\"#handicap\" data-toc-modified-id=\"handicap-2.12\">handicap</a></span><ul class=\"toc-item\"><li><span><a href=\"#significance-test:-chi-square\" data-toc-modified-id=\"significance-test:-chi-square-2.12.1\">significance test: chi-square</a></span></li><li><span><a href=\"#posterior-probability\" data-toc-modified-id=\"posterior-probability-2.12.2\">posterior probability</a></span></li></ul></li><li><span><a href=\"#sms-received\" data-toc-modified-id=\"sms-received-2.13\">sms received</a></span><ul class=\"toc-item\"><li><span><a href=\"#probability-of-no-show\" data-toc-modified-id=\"probability-of-no-show-2.13.1\">probability of no show</a></span></li><li><span><a href=\"#significance-test:-chi-square\" data-toc-modified-id=\"significance-test:-chi-square-2.13.2\">significance test: chi-square</a></span></li><li><span><a href=\"#posterior-probability\" data-toc-modified-id=\"posterior-probability-2.13.3\">posterior probability</a></span></li></ul></li><li><span><a href=\"#Conclusion\" data-toc-modified-id=\"Conclusion-2.14\">Conclusion</a></span><ul class=\"toc-item\"><li><span><a href=\"#link-to-next-section\" data-toc-modified-id=\"link-to-next-section-2.14.1\">link to next section</a></span></li></ul></li><li><span><a href=\"#export\" data-toc-modified-id=\"export-2.15\">export</a></span></li></ul></li><li><span><a href=\"#logistic-regression\" data-toc-modified-id=\"logistic-regression-3\">logistic regression</a></span><ul class=\"toc-item\"><li><span><a href=\"#imports\" data-toc-modified-id=\"imports-3.1\">imports</a></span></li><li><span><a href=\"#prep\" data-toc-modified-id=\"prep-3.2\">prep</a></span><ul class=\"toc-item\"><li><span><a href=\"#get-dummies\" data-toc-modified-id=\"get-dummies-3.2.1\">get dummies</a></span></li><li><span><a href=\"#export\" data-toc-modified-id=\"export-3.2.2\">export</a></span></li><li><span><a href=\"#p-values\" data-toc-modified-id=\"p-values-3.2.3\">p values</a></span></li></ul></li></ul></li><li><span><a href=\"#logistic-regression\" data-toc-modified-id=\"logistic-regression-4\">logistic regression</a></span><ul class=\"toc-item\"><li><span><a href=\"#without-dummies\" data-toc-modified-id=\"without-dummies-4.1\">without dummies</a></span><ul class=\"toc-item\"><li><span><a href=\"#p-values\" data-toc-modified-id=\"p-values-4.1.1\">p values</a></span></li></ul></li><li><span><a href=\"#with-dummies\" data-toc-modified-id=\"with-dummies-4.2\">with dummies</a></span><ul class=\"toc-item\"><li><span><a href=\"#coefficients-and-correlations\" data-toc-modified-id=\"coefficients-and-correlations-4.2.1\">coefficients and correlations</a></span></li></ul></li><li><span><a href=\"#ideas\" data-toc-modified-id=\"ideas-4.3\">ideas</a></span></li></ul></li><li><span><a href=\"#random-forest\" data-toc-modified-id=\"random-forest-5\">random forest</a></span><ul class=\"toc-item\"><li><span><a href=\"#imports\" data-toc-modified-id=\"imports-5.1\">imports</a></span></li><li><span><a href=\"#prep\" data-toc-modified-id=\"prep-5.2\">prep</a></span></li><li><span><a href=\"#with-dummies\" data-toc-modified-id=\"with-dummies-5.3\">with dummies</a></span></li></ul></li></ul></div>"
   ]
  },
  {
   "cell_type": "markdown",
   "metadata": {},
   "source": [
    "## data dictionary"
   ]
  },
  {
   "cell_type": "markdown",
   "metadata": {},
   "source": [
    "### patient id\n",
    "an integer between 11 and 14 digits long that identifies the patient uniquely. There are repeat patient ids, meaning that the same patient has returned several times to the clinic.\n",
    "\n",
    "### appointment id\n",
    "an integer that is 7 digits long that identifies an appointment uniquely. There are no duplicate appointment ids.\n",
    "\n",
    "### gender\n",
    "a string that is either 'F' or 'M', designating female and male respectively. There are no other values. \n",
    "\n",
    "### scheduled day\n",
    "a dates time string in the format 'YYYY-MM-DDThh:mm:ssZ' that represents the date and time the appointment is scheduled on,i.e. the day the person booked the appointment.\n",
    "\n",
    "### appointment day\n",
    "a date time string in the format 'YYYY-MM-DDThh:mm:ssZ' that represents the date and time the appointment is for. \n",
    "\n",
    "### age\n",
    "integer representing the age the patient\n",
    "\n",
    "### neighborhood\n",
    "string representing the name of the neighborhood of Vitoria, Brazil.\n",
    "\n",
    "### scholarship\n",
    "a binary integer value that represents whether the patient received a scholarship. This scholarship signifies a government program of financial assistance to the poor exchange for good school attendance by by the recipient's children.\n",
    "\n",
    "### hypertension\n",
    "a binary integer value that represents whether the patient has hypertension,a.k.a. high blood pressure.\n",
    "\n",
    "### diabetes\n",
    "a binary integer value that represents whether the patient has diabetes.\n",
    "\n",
    "### alcoholism\n",
    "the binary integer value that represents whether the patient is an alcoholic.\n",
    "\n",
    "### handicap\n",
    "an integer value that represents the degree of handicap the patient has. the scale is from integers 0 to 4.\n",
    "\n",
    "### sms received\n",
    "a binary integer value that represents whether the patient received an sms to remind them of their appointment.\n",
    "\n",
    "### no show\n",
    "a string value that is either 'No' or 'Yes' that signifies whether the patient did not show up to their appointment.\n",
    "\n",
    "\n"
   ]
  },
  {
   "cell_type": "markdown",
   "metadata": {},
   "source": [
    "## basic exploration"
   ]
  },
  {
   "cell_type": "code",
   "execution_count": 18,
   "metadata": {},
   "outputs": [],
   "source": [
    "import pandas as pd\n",
    "import numpy as np\n",
    "import matplotlib.pyplot as plt\n",
    "import seaborn as sns\n",
    "%matplotlib inline\n",
    "\n",
    "appointments = pd.read_csv(\"../input/appointments-raw/appointments_raw.csv\")"
   ]
  },
  {
   "cell_type": "code",
   "execution_count": 2,
   "metadata": {},
   "outputs": [
    {
     "data": {
      "text/plain": [
       "(110527, 14)"
      ]
     },
     "execution_count": 2,
     "metadata": {},
     "output_type": "execute_result"
    }
   ],
   "source": [
    "appointments.shape"
   ]
  },
  {
   "cell_type": "code",
   "execution_count": 3,
   "metadata": {},
   "outputs": [
    {
     "data": {
      "text/html": [
       "<div>\n",
       "<style>\n",
       "    .dataframe thead tr:only-child th {\n",
       "        text-align: right;\n",
       "    }\n",
       "\n",
       "    .dataframe thead th {\n",
       "        text-align: left;\n",
       "    }\n",
       "\n",
       "    .dataframe tbody tr th {\n",
       "        vertical-align: top;\n",
       "    }\n",
       "</style>\n",
       "<table border=\"1\" class=\"dataframe\">\n",
       "  <thead>\n",
       "    <tr style=\"text-align: right;\">\n",
       "      <th></th>\n",
       "      <th>PatientId</th>\n",
       "      <th>AppointmentID</th>\n",
       "      <th>Age</th>\n",
       "      <th>Scholarship</th>\n",
       "      <th>Hipertension</th>\n",
       "      <th>Diabetes</th>\n",
       "      <th>Alcoholism</th>\n",
       "      <th>Handcap</th>\n",
       "      <th>SMS_received</th>\n",
       "    </tr>\n",
       "  </thead>\n",
       "  <tbody>\n",
       "    <tr>\n",
       "      <th>count</th>\n",
       "      <td>1.105270e+05</td>\n",
       "      <td>1.105270e+05</td>\n",
       "      <td>110527.000000</td>\n",
       "      <td>110527.000000</td>\n",
       "      <td>110527.000000</td>\n",
       "      <td>110527.000000</td>\n",
       "      <td>110527.000000</td>\n",
       "      <td>110527.000000</td>\n",
       "      <td>110527.000000</td>\n",
       "    </tr>\n",
       "    <tr>\n",
       "      <th>mean</th>\n",
       "      <td>1.474963e+14</td>\n",
       "      <td>5.675305e+06</td>\n",
       "      <td>37.088874</td>\n",
       "      <td>0.098266</td>\n",
       "      <td>0.197246</td>\n",
       "      <td>0.071865</td>\n",
       "      <td>0.030400</td>\n",
       "      <td>0.022248</td>\n",
       "      <td>0.321026</td>\n",
       "    </tr>\n",
       "    <tr>\n",
       "      <th>std</th>\n",
       "      <td>2.560949e+14</td>\n",
       "      <td>7.129575e+04</td>\n",
       "      <td>23.110205</td>\n",
       "      <td>0.297675</td>\n",
       "      <td>0.397921</td>\n",
       "      <td>0.258265</td>\n",
       "      <td>0.171686</td>\n",
       "      <td>0.161543</td>\n",
       "      <td>0.466873</td>\n",
       "    </tr>\n",
       "    <tr>\n",
       "      <th>min</th>\n",
       "      <td>3.921784e+04</td>\n",
       "      <td>5.030230e+06</td>\n",
       "      <td>-1.000000</td>\n",
       "      <td>0.000000</td>\n",
       "      <td>0.000000</td>\n",
       "      <td>0.000000</td>\n",
       "      <td>0.000000</td>\n",
       "      <td>0.000000</td>\n",
       "      <td>0.000000</td>\n",
       "    </tr>\n",
       "    <tr>\n",
       "      <th>25%</th>\n",
       "      <td>4.172614e+12</td>\n",
       "      <td>5.640286e+06</td>\n",
       "      <td>18.000000</td>\n",
       "      <td>0.000000</td>\n",
       "      <td>0.000000</td>\n",
       "      <td>0.000000</td>\n",
       "      <td>0.000000</td>\n",
       "      <td>0.000000</td>\n",
       "      <td>0.000000</td>\n",
       "    </tr>\n",
       "    <tr>\n",
       "      <th>50%</th>\n",
       "      <td>3.173184e+13</td>\n",
       "      <td>5.680573e+06</td>\n",
       "      <td>37.000000</td>\n",
       "      <td>0.000000</td>\n",
       "      <td>0.000000</td>\n",
       "      <td>0.000000</td>\n",
       "      <td>0.000000</td>\n",
       "      <td>0.000000</td>\n",
       "      <td>0.000000</td>\n",
       "    </tr>\n",
       "    <tr>\n",
       "      <th>75%</th>\n",
       "      <td>9.439172e+13</td>\n",
       "      <td>5.725524e+06</td>\n",
       "      <td>55.000000</td>\n",
       "      <td>0.000000</td>\n",
       "      <td>0.000000</td>\n",
       "      <td>0.000000</td>\n",
       "      <td>0.000000</td>\n",
       "      <td>0.000000</td>\n",
       "      <td>1.000000</td>\n",
       "    </tr>\n",
       "    <tr>\n",
       "      <th>max</th>\n",
       "      <td>9.999816e+14</td>\n",
       "      <td>5.790484e+06</td>\n",
       "      <td>115.000000</td>\n",
       "      <td>1.000000</td>\n",
       "      <td>1.000000</td>\n",
       "      <td>1.000000</td>\n",
       "      <td>1.000000</td>\n",
       "      <td>4.000000</td>\n",
       "      <td>1.000000</td>\n",
       "    </tr>\n",
       "  </tbody>\n",
       "</table>\n",
       "</div>"
      ],
      "text/plain": [
       "          PatientId  AppointmentID            Age    Scholarship  \\\n",
       "count  1.105270e+05   1.105270e+05  110527.000000  110527.000000   \n",
       "mean   1.474963e+14   5.675305e+06      37.088874       0.098266   \n",
       "std    2.560949e+14   7.129575e+04      23.110205       0.297675   \n",
       "min    3.921784e+04   5.030230e+06      -1.000000       0.000000   \n",
       "25%    4.172614e+12   5.640286e+06      18.000000       0.000000   \n",
       "50%    3.173184e+13   5.680573e+06      37.000000       0.000000   \n",
       "75%    9.439172e+13   5.725524e+06      55.000000       0.000000   \n",
       "max    9.999816e+14   5.790484e+06     115.000000       1.000000   \n",
       "\n",
       "        Hipertension       Diabetes     Alcoholism        Handcap  \\\n",
       "count  110527.000000  110527.000000  110527.000000  110527.000000   \n",
       "mean        0.197246       0.071865       0.030400       0.022248   \n",
       "std         0.397921       0.258265       0.171686       0.161543   \n",
       "min         0.000000       0.000000       0.000000       0.000000   \n",
       "25%         0.000000       0.000000       0.000000       0.000000   \n",
       "50%         0.000000       0.000000       0.000000       0.000000   \n",
       "75%         0.000000       0.000000       0.000000       0.000000   \n",
       "max         1.000000       1.000000       1.000000       4.000000   \n",
       "\n",
       "        SMS_received  \n",
       "count  110527.000000  \n",
       "mean        0.321026  \n",
       "std         0.466873  \n",
       "min         0.000000  \n",
       "25%         0.000000  \n",
       "50%         0.000000  \n",
       "75%         1.000000  \n",
       "max         1.000000  "
      ]
     },
     "execution_count": 3,
     "metadata": {},
     "output_type": "execute_result"
    }
   ],
   "source": [
    "appointments.describe()"
   ]
  },
  {
   "cell_type": "code",
   "execution_count": 17,
   "metadata": {},
   "outputs": [
    {
     "name": "stdout",
     "output_type": "stream",
     "text": [
      "\n",
      " PatientId\n"
     ]
    },
    {
     "data": {
      "text/plain": [
       "8.221459e+14    88\n",
       "9.963767e+10    84\n",
       "2.688613e+13    70\n",
       "3.353478e+13    65\n",
       "2.584244e+11    62\n",
       "Name: PatientId, dtype: int64"
      ]
     },
     "metadata": {},
     "output_type": "display_data"
    },
    {
     "name": "stdout",
     "output_type": "stream",
     "text": [
      "\n",
      " Gender\n"
     ]
    },
    {
     "data": {
      "text/plain": [
       "F    71840\n",
       "M    38687\n",
       "Name: Gender, dtype: int64"
      ]
     },
     "metadata": {},
     "output_type": "display_data"
    },
    {
     "name": "stdout",
     "output_type": "stream",
     "text": [
      "\n",
      " ScheduledDay\n"
     ]
    },
    {
     "data": {
      "text/plain": [
       "2016-05-06T07:09:54Z    24\n",
       "2016-05-06T07:09:53Z    23\n",
       "2016-04-25T17:17:46Z    22\n",
       "2016-04-25T17:18:27Z    22\n",
       "2016-04-25T17:17:23Z    19\n",
       "Name: ScheduledDay, dtype: int64"
      ]
     },
     "metadata": {},
     "output_type": "display_data"
    },
    {
     "name": "stdout",
     "output_type": "stream",
     "text": [
      "\n",
      " AppointmentDay\n"
     ]
    },
    {
     "data": {
      "text/plain": [
       "2016-06-06T00:00:00Z    4692\n",
       "2016-05-16T00:00:00Z    4613\n",
       "2016-05-09T00:00:00Z    4520\n",
       "2016-05-30T00:00:00Z    4514\n",
       "2016-06-08T00:00:00Z    4479\n",
       "Name: AppointmentDay, dtype: int64"
      ]
     },
     "metadata": {},
     "output_type": "display_data"
    },
    {
     "name": "stdout",
     "output_type": "stream",
     "text": [
      "\n",
      " Age\n"
     ]
    },
    {
     "data": {
      "text/plain": [
       "0     3539\n",
       "1     2273\n",
       "52    1746\n",
       "49    1652\n",
       "53    1651\n",
       "Name: Age, dtype: int64"
      ]
     },
     "metadata": {},
     "output_type": "display_data"
    },
    {
     "name": "stdout",
     "output_type": "stream",
     "text": [
      "\n",
      " Neighbourhood\n"
     ]
    },
    {
     "data": {
      "text/plain": [
       "JARDIM CAMBURI     7717\n",
       "MARIA ORTIZ        5805\n",
       "RESISTÊNCIA        4431\n",
       "JARDIM DA PENHA    3877\n",
       "ITARARÉ            3514\n",
       "Name: Neighbourhood, dtype: int64"
      ]
     },
     "metadata": {},
     "output_type": "display_data"
    },
    {
     "name": "stdout",
     "output_type": "stream",
     "text": [
      "\n",
      " Scholarship\n"
     ]
    },
    {
     "data": {
      "text/plain": [
       "0    99666\n",
       "1    10861\n",
       "Name: Scholarship, dtype: int64"
      ]
     },
     "metadata": {},
     "output_type": "display_data"
    },
    {
     "name": "stdout",
     "output_type": "stream",
     "text": [
      "\n",
      " Hipertension\n"
     ]
    },
    {
     "data": {
      "text/plain": [
       "0    88726\n",
       "1    21801\n",
       "Name: Hipertension, dtype: int64"
      ]
     },
     "metadata": {},
     "output_type": "display_data"
    },
    {
     "name": "stdout",
     "output_type": "stream",
     "text": [
      "\n",
      " Diabetes\n"
     ]
    },
    {
     "data": {
      "text/plain": [
       "0    102584\n",
       "1      7943\n",
       "Name: Diabetes, dtype: int64"
      ]
     },
     "metadata": {},
     "output_type": "display_data"
    },
    {
     "name": "stdout",
     "output_type": "stream",
     "text": [
      "\n",
      " Alcoholism\n"
     ]
    },
    {
     "data": {
      "text/plain": [
       "0    107167\n",
       "1      3360\n",
       "Name: Alcoholism, dtype: int64"
      ]
     },
     "metadata": {},
     "output_type": "display_data"
    },
    {
     "name": "stdout",
     "output_type": "stream",
     "text": [
      "\n",
      " Handcap\n"
     ]
    },
    {
     "data": {
      "text/plain": [
       "0    108286\n",
       "1      2042\n",
       "2       183\n",
       "3        13\n",
       "4         3\n",
       "Name: Handcap, dtype: int64"
      ]
     },
     "metadata": {},
     "output_type": "display_data"
    },
    {
     "name": "stdout",
     "output_type": "stream",
     "text": [
      "\n",
      " SMS_received\n"
     ]
    },
    {
     "data": {
      "text/plain": [
       "0    75045\n",
       "1    35482\n",
       "Name: SMS_received, dtype: int64"
      ]
     },
     "metadata": {},
     "output_type": "display_data"
    },
    {
     "name": "stdout",
     "output_type": "stream",
     "text": [
      "\n",
      " No-show\n"
     ]
    },
    {
     "data": {
      "text/plain": [
       "No     88208\n",
       "Yes    22319\n",
       "Name: No-show, dtype: int64"
      ]
     },
     "metadata": {},
     "output_type": "display_data"
    }
   ],
   "source": [
    "for column in appointments.columns:\n",
    "    print('\\n',column)\n",
    "    display(appointments[column].value_counts().head())\n",
    "    "
   ]
  },
  {
   "cell_type": "markdown",
   "metadata": {},
   "source": [
    "---\n",
    "## feature brainstorm\n",
    "\n",
    "### patient id\n",
    "* patients who come more frequently are less likely to have a no-show?\n",
    "* if a patient came more recently, is less likely to have a no-show?\n",
    "\n",
    "### appointment id\n",
    "* no insight\n",
    "\n",
    "### gender\n",
    "* what percentage of the population by gender is employed? if many women stay at home and take care of the house and children, perhaps this has a correlation with no-show?\n",
    "* gender itself does not have intuitive explanatory power for no-shows\n",
    "\n",
    "### scheduled day\n",
    "* if a appointment is scheduled too far in advance the patient forgets?\n",
    "* if a appointment is scheduled on a weekday the patient forgets?\n",
    "\n",
    "### appointment day\n",
    "* if the appointment is for certainty of the week the patient can't make it, like friday?\n",
    "\n",
    "### age\n",
    "* patients at various ages are more or less busy:\n",
    "    * children are more likely to make it because their parents take responsibility for them\n",
    "    * young adults are too busy or overloaded with their children to show up\n",
    "    * middle-aged adults are too busy\n",
    "    * older adults have more free time and they are more careful with their health\n",
    "    \n",
    "### neighborhood\n",
    "* poor neighborhoods have more no-shows?\n",
    "* proximity to a health center affects no-show rate?\n",
    "\n",
    "### scholarship \n",
    "* having a scholarship means you are poor, but it also means your children are not missing school\n",
    "* having a scholarship reduces likelihood of no show\n",
    "\n",
    "### hypertension\n",
    "* having health problems reduces likelihood of no show\n",
    "\n",
    "### diabetes\n",
    "* having health problems reduces likelihood of no show\n",
    "\n",
    "### alcoholism\n",
    "* maybe alcoholism is associated with difficulty in sticking to plans\n",
    "\n",
    "### handicap\n",
    "* having a physical handicap means depending on someone else to get you to a clinic\n",
    "* increases likelihood of no-show\n",
    "\n",
    "### sms received\n",
    "* reminder reduces likelihood of no-show\n"
   ]
  },
  {
   "cell_type": "markdown",
   "metadata": {},
   "source": [
    "# clean"
   ]
  },
  {
   "cell_type": "code",
   "execution_count": 3,
   "metadata": {},
   "outputs": [],
   "source": [
    "import pandas as pd\n",
    "import numpy as np\n",
    "import matplotlib.pyplot as plt\n",
    "import seaborn as sns\n",
    "%matplotlib inline\n",
    "\n",
    "appointments = pd.read_csv(\"../input/appointments-raw/appointments_raw.csv\")"
   ]
  },
  {
   "cell_type": "code",
   "execution_count": 4,
   "metadata": {
    "scrolled": true
   },
   "outputs": [
    {
     "name": "stdout",
     "output_type": "stream",
     "text": [
      "<class 'pandas.core.frame.DataFrame'>\n",
      "RangeIndex: 110527 entries, 0 to 110526\n",
      "Data columns (total 14 columns):\n",
      "PatientId         110527 non-null float64\n",
      "AppointmentID     110527 non-null int64\n",
      "Gender            110527 non-null object\n",
      "ScheduledDay      110527 non-null object\n",
      "AppointmentDay    110527 non-null object\n",
      "Age               110527 non-null int64\n",
      "Neighbourhood     110527 non-null object\n",
      "Scholarship       110527 non-null int64\n",
      "Hipertension      110527 non-null int64\n",
      "Diabetes          110527 non-null int64\n",
      "Alcoholism        110527 non-null int64\n",
      "Handcap           110527 non-null int64\n",
      "SMS_received      110527 non-null int64\n",
      "No-show           110527 non-null object\n",
      "dtypes: float64(1), int64(8), object(5)\n",
      "memory usage: 11.8+ MB\n"
     ]
    }
   ],
   "source": [
    "appointments.info()"
   ]
  },
  {
   "cell_type": "markdown",
   "metadata": {},
   "source": [
    "### rename columns to be more legible"
   ]
  },
  {
   "cell_type": "code",
   "execution_count": 5,
   "metadata": {},
   "outputs": [],
   "source": [
    "appointments = appointments.rename(index=str, columns={\n",
    "    'PatientId': 'patient_id',\n",
    "    'AppointmentID': 'appointment_id',\n",
    "    'Gender': 'gender',\n",
    "    'ScheduledDay': 'scheduled_day',\n",
    "    'AppointmentDay': 'appointment_day',\n",
    "    'Age': 'age',\n",
    "    'Neighbourhood': 'neighborhood',\n",
    "    'Scholarship': 'scholarship',\n",
    "    'Hipertension': 'hypertension',\n",
    "    'Diabetes': 'diabetes',\n",
    "    'Alcoholism': 'alcoholism',\n",
    "    'Handcap': 'handicap',\n",
    "    'SMS_received': 'sms_received',\n",
    "    'No-show': 'no_show'\n",
    "})"
   ]
  },
  {
   "cell_type": "markdown",
   "metadata": {},
   "source": [
    "### reset index to appointment id"
   ]
  },
  {
   "cell_type": "code",
   "execution_count": 6,
   "metadata": {},
   "outputs": [],
   "source": [
    "appointments = appointments.set_index('appointment_id')"
   ]
  },
  {
   "cell_type": "markdown",
   "metadata": {},
   "source": [
    "### convert fields to proper formats"
   ]
  },
  {
   "cell_type": "code",
   "execution_count": 7,
   "metadata": {},
   "outputs": [
    {
     "name": "stdout",
     "output_type": "stream",
     "text": [
      "<class 'pandas.core.frame.DataFrame'>\n",
      "Int64Index: 110527 entries, 5642903 to 5629448\n",
      "Data columns (total 13 columns):\n",
      "patient_id         110527 non-null float64\n",
      "gender             110527 non-null object\n",
      "scheduled_day      110527 non-null datetime64[ns]\n",
      "appointment_day    110527 non-null datetime64[ns]\n",
      "age                110527 non-null int64\n",
      "neighborhood       110527 non-null object\n",
      "scholarship        110527 non-null int64\n",
      "hypertension       110527 non-null int64\n",
      "diabetes           110527 non-null int64\n",
      "alcoholism         110527 non-null int64\n",
      "handicap           110527 non-null int64\n",
      "sms_received       110527 non-null int64\n",
      "no_show            110527 non-null object\n",
      "dtypes: datetime64[ns](2), float64(1), int64(7), object(3)\n",
      "memory usage: 11.8+ MB\n"
     ]
    }
   ],
   "source": [
    "# scheduled_day and appointment_day need to be datetime values\n",
    "date_format = '%Y-%m-%dT%H:%M:%SZ'\n",
    "appointments['scheduled_day'] = pd.to_datetime(appointments['scheduled_day'],format=date_format)\n",
    "appointments['appointment_day'] = pd.to_datetime(appointments['appointment_day'],format=date_format)\n",
    "appointments.info()"
   ]
  },
  {
   "cell_type": "code",
   "execution_count": 8,
   "metadata": {},
   "outputs": [],
   "source": [
    "# replace no-show with binary\n",
    "appointments['no_show'] = appointments['no_show'].map({\n",
    "    'Yes': 1,\n",
    "    'No': 0\n",
    "})"
   ]
  },
  {
   "cell_type": "code",
   "execution_count": 9,
   "metadata": {},
   "outputs": [],
   "source": [
    "# replace gender with binary\n",
    "appointments['male'] = appointments['gender'].map({\n",
    "    'M': 1,\n",
    "    'F': 0\n",
    "})\n",
    "\n",
    "# drop the gender column\n",
    "appointments = appointments.drop('gender',axis=1)"
   ]
  },
  {
   "cell_type": "markdown",
   "metadata": {},
   "source": [
    "### skim columns for irregularities"
   ]
  },
  {
   "cell_type": "code",
   "execution_count": 10,
   "metadata": {
    "scrolled": true
   },
   "outputs": [
    {
     "name": "stdout",
     "output_type": "stream",
     "text": [
      "\n",
      " patient_id\n"
     ]
    },
    {
     "data": {
      "text/plain": [
       "8.221459e+14    88\n",
       "9.963767e+10    84\n",
       "2.688613e+13    70\n",
       "Name: patient_id, dtype: int64"
      ]
     },
     "metadata": {},
     "output_type": "display_data"
    },
    {
     "name": "stdout",
     "output_type": "stream",
     "text": [
      "\n",
      " scheduled_day\n"
     ]
    },
    {
     "data": {
      "text/plain": [
       "2016-05-06 07:09:54    24\n",
       "2016-05-06 07:09:53    23\n",
       "2016-04-25 17:18:27    22\n",
       "Name: scheduled_day, dtype: int64"
      ]
     },
     "metadata": {},
     "output_type": "display_data"
    },
    {
     "name": "stdout",
     "output_type": "stream",
     "text": [
      "\n",
      " appointment_day\n"
     ]
    },
    {
     "data": {
      "text/plain": [
       "2016-06-06    4692\n",
       "2016-05-16    4613\n",
       "2016-05-09    4520\n",
       "Name: appointment_day, dtype: int64"
      ]
     },
     "metadata": {},
     "output_type": "display_data"
    },
    {
     "name": "stdout",
     "output_type": "stream",
     "text": [
      "\n",
      " age\n"
     ]
    },
    {
     "data": {
      "text/plain": [
       "0     3539\n",
       "1     2273\n",
       "52    1746\n",
       "Name: age, dtype: int64"
      ]
     },
     "metadata": {},
     "output_type": "display_data"
    },
    {
     "name": "stdout",
     "output_type": "stream",
     "text": [
      "\n",
      " neighborhood\n"
     ]
    },
    {
     "data": {
      "text/plain": [
       "JARDIM CAMBURI    7717\n",
       "MARIA ORTIZ       5805\n",
       "RESISTÊNCIA       4431\n",
       "Name: neighborhood, dtype: int64"
      ]
     },
     "metadata": {},
     "output_type": "display_data"
    },
    {
     "name": "stdout",
     "output_type": "stream",
     "text": [
      "\n",
      " scholarship\n"
     ]
    },
    {
     "data": {
      "text/plain": [
       "0    99666\n",
       "1    10861\n",
       "Name: scholarship, dtype: int64"
      ]
     },
     "metadata": {},
     "output_type": "display_data"
    },
    {
     "name": "stdout",
     "output_type": "stream",
     "text": [
      "\n",
      " hypertension\n"
     ]
    },
    {
     "data": {
      "text/plain": [
       "0    88726\n",
       "1    21801\n",
       "Name: hypertension, dtype: int64"
      ]
     },
     "metadata": {},
     "output_type": "display_data"
    },
    {
     "name": "stdout",
     "output_type": "stream",
     "text": [
      "\n",
      " diabetes\n"
     ]
    },
    {
     "data": {
      "text/plain": [
       "0    102584\n",
       "1      7943\n",
       "Name: diabetes, dtype: int64"
      ]
     },
     "metadata": {},
     "output_type": "display_data"
    },
    {
     "name": "stdout",
     "output_type": "stream",
     "text": [
      "\n",
      " alcoholism\n"
     ]
    },
    {
     "data": {
      "text/plain": [
       "0    107167\n",
       "1      3360\n",
       "Name: alcoholism, dtype: int64"
      ]
     },
     "metadata": {},
     "output_type": "display_data"
    },
    {
     "name": "stdout",
     "output_type": "stream",
     "text": [
      "\n",
      " handicap\n"
     ]
    },
    {
     "data": {
      "text/plain": [
       "0    108286\n",
       "1      2042\n",
       "2       183\n",
       "Name: handicap, dtype: int64"
      ]
     },
     "metadata": {},
     "output_type": "display_data"
    },
    {
     "name": "stdout",
     "output_type": "stream",
     "text": [
      "\n",
      " sms_received\n"
     ]
    },
    {
     "data": {
      "text/plain": [
       "0    75045\n",
       "1    35482\n",
       "Name: sms_received, dtype: int64"
      ]
     },
     "metadata": {},
     "output_type": "display_data"
    },
    {
     "name": "stdout",
     "output_type": "stream",
     "text": [
      "\n",
      " no_show\n"
     ]
    },
    {
     "data": {
      "text/plain": [
       "0    88208\n",
       "1    22319\n",
       "Name: no_show, dtype: int64"
      ]
     },
     "metadata": {},
     "output_type": "display_data"
    },
    {
     "name": "stdout",
     "output_type": "stream",
     "text": [
      "\n",
      " male\n"
     ]
    },
    {
     "data": {
      "text/plain": [
       "0    71840\n",
       "1    38687\n",
       "Name: male, dtype: int64"
      ]
     },
     "metadata": {},
     "output_type": "display_data"
    }
   ],
   "source": [
    "for column in appointments.columns:\n",
    "    print('\\n',column)\n",
    "    display(appointments[column].value_counts().head(3))\n",
    "    "
   ]
  },
  {
   "cell_type": "code",
   "execution_count": 11,
   "metadata": {
    "scrolled": true
   },
   "outputs": [
    {
     "data": {
      "text/html": [
       "<div>\n",
       "<style>\n",
       "    .dataframe thead tr:only-child th {\n",
       "        text-align: right;\n",
       "    }\n",
       "\n",
       "    .dataframe thead th {\n",
       "        text-align: left;\n",
       "    }\n",
       "\n",
       "    .dataframe tbody tr th {\n",
       "        vertical-align: top;\n",
       "    }\n",
       "</style>\n",
       "<table border=\"1\" class=\"dataframe\">\n",
       "  <thead>\n",
       "    <tr style=\"text-align: right;\">\n",
       "      <th></th>\n",
       "      <th>patient_id</th>\n",
       "      <th>age</th>\n",
       "      <th>scholarship</th>\n",
       "      <th>hypertension</th>\n",
       "      <th>diabetes</th>\n",
       "      <th>alcoholism</th>\n",
       "      <th>handicap</th>\n",
       "      <th>sms_received</th>\n",
       "      <th>no_show</th>\n",
       "      <th>male</th>\n",
       "    </tr>\n",
       "  </thead>\n",
       "  <tbody>\n",
       "    <tr>\n",
       "      <th>count</th>\n",
       "      <td>1.105270e+05</td>\n",
       "      <td>110527.000000</td>\n",
       "      <td>110527.000000</td>\n",
       "      <td>110527.000000</td>\n",
       "      <td>110527.000000</td>\n",
       "      <td>110527.000000</td>\n",
       "      <td>110527.000000</td>\n",
       "      <td>110527.000000</td>\n",
       "      <td>110527.000000</td>\n",
       "      <td>110527.000000</td>\n",
       "    </tr>\n",
       "    <tr>\n",
       "      <th>mean</th>\n",
       "      <td>1.474963e+14</td>\n",
       "      <td>37.088874</td>\n",
       "      <td>0.098266</td>\n",
       "      <td>0.197246</td>\n",
       "      <td>0.071865</td>\n",
       "      <td>0.030400</td>\n",
       "      <td>0.022248</td>\n",
       "      <td>0.321026</td>\n",
       "      <td>0.201933</td>\n",
       "      <td>0.350023</td>\n",
       "    </tr>\n",
       "    <tr>\n",
       "      <th>std</th>\n",
       "      <td>2.560949e+14</td>\n",
       "      <td>23.110205</td>\n",
       "      <td>0.297675</td>\n",
       "      <td>0.397921</td>\n",
       "      <td>0.258265</td>\n",
       "      <td>0.171686</td>\n",
       "      <td>0.161543</td>\n",
       "      <td>0.466873</td>\n",
       "      <td>0.401444</td>\n",
       "      <td>0.476979</td>\n",
       "    </tr>\n",
       "    <tr>\n",
       "      <th>min</th>\n",
       "      <td>3.921784e+04</td>\n",
       "      <td>-1.000000</td>\n",
       "      <td>0.000000</td>\n",
       "      <td>0.000000</td>\n",
       "      <td>0.000000</td>\n",
       "      <td>0.000000</td>\n",
       "      <td>0.000000</td>\n",
       "      <td>0.000000</td>\n",
       "      <td>0.000000</td>\n",
       "      <td>0.000000</td>\n",
       "    </tr>\n",
       "    <tr>\n",
       "      <th>25%</th>\n",
       "      <td>4.172614e+12</td>\n",
       "      <td>18.000000</td>\n",
       "      <td>0.000000</td>\n",
       "      <td>0.000000</td>\n",
       "      <td>0.000000</td>\n",
       "      <td>0.000000</td>\n",
       "      <td>0.000000</td>\n",
       "      <td>0.000000</td>\n",
       "      <td>0.000000</td>\n",
       "      <td>0.000000</td>\n",
       "    </tr>\n",
       "    <tr>\n",
       "      <th>50%</th>\n",
       "      <td>3.173184e+13</td>\n",
       "      <td>37.000000</td>\n",
       "      <td>0.000000</td>\n",
       "      <td>0.000000</td>\n",
       "      <td>0.000000</td>\n",
       "      <td>0.000000</td>\n",
       "      <td>0.000000</td>\n",
       "      <td>0.000000</td>\n",
       "      <td>0.000000</td>\n",
       "      <td>0.000000</td>\n",
       "    </tr>\n",
       "    <tr>\n",
       "      <th>75%</th>\n",
       "      <td>9.439172e+13</td>\n",
       "      <td>55.000000</td>\n",
       "      <td>0.000000</td>\n",
       "      <td>0.000000</td>\n",
       "      <td>0.000000</td>\n",
       "      <td>0.000000</td>\n",
       "      <td>0.000000</td>\n",
       "      <td>1.000000</td>\n",
       "      <td>0.000000</td>\n",
       "      <td>1.000000</td>\n",
       "    </tr>\n",
       "    <tr>\n",
       "      <th>max</th>\n",
       "      <td>9.999816e+14</td>\n",
       "      <td>115.000000</td>\n",
       "      <td>1.000000</td>\n",
       "      <td>1.000000</td>\n",
       "      <td>1.000000</td>\n",
       "      <td>1.000000</td>\n",
       "      <td>4.000000</td>\n",
       "      <td>1.000000</td>\n",
       "      <td>1.000000</td>\n",
       "      <td>1.000000</td>\n",
       "    </tr>\n",
       "  </tbody>\n",
       "</table>\n",
       "</div>"
      ],
      "text/plain": [
       "         patient_id            age    scholarship   hypertension  \\\n",
       "count  1.105270e+05  110527.000000  110527.000000  110527.000000   \n",
       "mean   1.474963e+14      37.088874       0.098266       0.197246   \n",
       "std    2.560949e+14      23.110205       0.297675       0.397921   \n",
       "min    3.921784e+04      -1.000000       0.000000       0.000000   \n",
       "25%    4.172614e+12      18.000000       0.000000       0.000000   \n",
       "50%    3.173184e+13      37.000000       0.000000       0.000000   \n",
       "75%    9.439172e+13      55.000000       0.000000       0.000000   \n",
       "max    9.999816e+14     115.000000       1.000000       1.000000   \n",
       "\n",
       "            diabetes     alcoholism       handicap   sms_received  \\\n",
       "count  110527.000000  110527.000000  110527.000000  110527.000000   \n",
       "mean        0.071865       0.030400       0.022248       0.321026   \n",
       "std         0.258265       0.171686       0.161543       0.466873   \n",
       "min         0.000000       0.000000       0.000000       0.000000   \n",
       "25%         0.000000       0.000000       0.000000       0.000000   \n",
       "50%         0.000000       0.000000       0.000000       0.000000   \n",
       "75%         0.000000       0.000000       0.000000       1.000000   \n",
       "max         1.000000       1.000000       4.000000       1.000000   \n",
       "\n",
       "             no_show           male  \n",
       "count  110527.000000  110527.000000  \n",
       "mean        0.201933       0.350023  \n",
       "std         0.401444       0.476979  \n",
       "min         0.000000       0.000000  \n",
       "25%         0.000000       0.000000  \n",
       "50%         0.000000       0.000000  \n",
       "75%         0.000000       1.000000  \n",
       "max         1.000000       1.000000  "
      ]
     },
     "execution_count": 11,
     "metadata": {},
     "output_type": "execute_result"
    }
   ],
   "source": [
    "appointments.describe()"
   ]
  },
  {
   "cell_type": "markdown",
   "metadata": {},
   "source": [
    "age\n",
    "* minimum age is -1; remove"
   ]
  },
  {
   "cell_type": "code",
   "execution_count": 12,
   "metadata": {},
   "outputs": [],
   "source": [
    "appointments = appointments[appointments['age']>=0]"
   ]
  },
  {
   "cell_type": "markdown",
   "metadata": {},
   "source": [
    "### find irregularities in distributions"
   ]
  },
  {
   "cell_type": "code",
   "execution_count": 13,
   "metadata": {},
   "outputs": [
    {
     "data": {
      "text/plain": [
       "<matplotlib.axes._subplots.AxesSubplot at 0x11798bbe0>"
      ]
     },
     "execution_count": 13,
     "metadata": {},
     "output_type": "execute_result"
    },
    {
     "data": {
      "image/png": "[encoded data removed]",
      "text/plain": [
       "<matplotlib.figure.Figure at 0x11796f7b8>"
      ]
     },
     "metadata": {},
     "output_type": "display_data"
    }
   ],
   "source": [
    "appointments['age'].hist(bins=50) "
   ]
  },
  {
   "cell_type": "markdown",
   "metadata": {},
   "source": [
    "this distribution of ages looks normal for a city population.\n",
    "* the peak at 0 can be explained by babies being born or having health issues."
   ]
  },
  {
   "cell_type": "code",
   "execution_count": 14,
   "metadata": {},
   "outputs": [
    {
     "data": {
      "text/plain": [
       "<matplotlib.axes._subplots.AxesSubplot at 0x10f15ba20>"
      ]
     },
     "execution_count": 14,
     "metadata": {},
     "output_type": "execute_result"
    },
    {
     "data": {
      "image/png": "[encoded data removed]",
      "text/plain": [
       "<matplotlib.figure.Figure at 0x11493e940>"
      ]
     },
     "metadata": {},
     "output_type": "display_data"
    }
   ],
   "source": [
    "appointments['scheduled_day'].hist(bins=100)"
   ]
  },
  {
   "cell_type": "markdown",
   "metadata": {},
   "source": [
    "the dataset spans 7 months, but most of the data was collected in the last 2 months\n",
    "* this doesn't look erroneous, but it could cause problems\n",
    "* why is there so little data for the first few months?"
   ]
  },
  {
   "cell_type": "code",
   "execution_count": 15,
   "metadata": {},
   "outputs": [
    {
     "data": {
      "text/plain": [
       "<matplotlib.axes._subplots.AxesSubplot at 0x10f5060b8>"
      ]
     },
     "execution_count": 15,
     "metadata": {},
     "output_type": "execute_result"
    },
    {
     "data": {
      "image/png": "[encoded data removed]",
      "text/plain": [
       "<matplotlib.figure.Figure at 0x115312438>"
      ]
     },
     "metadata": {},
     "output_type": "display_data"
    }
   ],
   "source": [
    "appointments['appointment_day'].hist(bins=30)"
   ]
  },
  {
   "cell_type": "markdown",
   "metadata": {},
   "source": [
    "so our data was sampled based on appointment day, which only spends a few months\n",
    "* this explains the scheduled day phenomena of sparsity"
   ]
  },
  {
   "cell_type": "code",
   "execution_count": 16,
   "metadata": {},
   "outputs": [
    {
     "data": {
      "text/plain": [
       "<matplotlib.axes._subplots.AxesSubplot at 0x1153a1160>"
      ]
     },
     "execution_count": 16,
     "metadata": {},
     "output_type": "execute_result"
    },
    {
     "data": {
      "image/png": "[encoded data removed]",
      "text/plain": [
       "<matplotlib.figure.Figure at 0x1101eeb00>"
      ]
     },
     "metadata": {},
     "output_type": "display_data"
    }
   ],
   "source": [
    "appointments['neighborhood'].value_counts().hist(bins=40)"
   ]
  },
  {
   "cell_type": "code",
   "execution_count": 17,
   "metadata": {
    "scrolled": true
   },
   "outputs": [
    {
     "data": {
      "text/plain": [
       "0    108285\n",
       "1      2042\n",
       "2       183\n",
       "3        13\n",
       "4         3\n",
       "Name: handicap, dtype: int64"
      ]
     },
     "execution_count": 17,
     "metadata": {},
     "output_type": "execute_result"
    }
   ],
   "source": [
    "appointments['handicap'].value_counts()"
   ]
  },
  {
   "cell_type": "markdown",
   "metadata": {},
   "source": [
    "### export to csv"
   ]
  },
  {
   "cell_type": "code",
   "execution_count": 19,
   "metadata": {},
   "outputs": [],
   "source": [
    "appointments.to_csv('../input/appointments-raw/appointments_clean.csv')"
   ]
  },
  {
   "cell_type": "markdown",
   "metadata": {},
   "source": [
    "# exploratory data analysis"
   ]
  },
  {
   "cell_type": "markdown",
   "metadata": {},
   "source": [
    "### goal\n",
    "The purpose of this notebook is to study the relationship between the variables. My goal is to shorten the list of necessary variables for my predictive model. My secondary goal is to create derived data that may have predictive power.\n",
    "\n",
    "### problem\n",
    "which variables should be included in the predictive model, and which ones should be excluded? Are there derived data that could be useful as well? Do we have any risk of multicollinearity?\n",
    "\n",
    "### hypothesis\n",
    "conducting a thorough correlation analysis, in which each predictor is analyzed versus the response variable, will answer all the questions in our problem.\n",
    "\n",
    "### assumptions\n",
    "* When doing correlation with 2 variables at a time, we are blind to the impact of variables not in that correlation.\n",
    "* fewer predictors in the model is desirable\n",
    "* There are assumptions about what each variable means listed throughout the notebook.\n",
    "\n",
    "### procedure\n",
    "* conduct global cluster maps of all variables when data is changed, removed, or added. This allows us to keep an eye on problematic correlations.\n",
    "* look at the distribution of each predictor, in relation to the response \n",
    "* do calculations of statistical significance for categorical variables\n",
    "* prune the data when an explanation for the trends observed can be quantitatively explained without the use of a predictive model\n"
   ]
  },
  {
   "cell_type": "markdown",
   "metadata": {},
   "source": [
    "---"
   ]
  },
  {
   "cell_type": "markdown",
   "metadata": {},
   "source": [
    "### imports"
   ]
  },
  {
   "cell_type": "code",
   "execution_count": 27,
   "metadata": {},
   "outputs": [
    {
     "name": "stdout",
     "output_type": "stream",
     "text": [
      "<class 'pandas.core.frame.DataFrame'>\n",
      "RangeIndex: 110526 entries, 0 to 110525\n",
      "Data columns (total 14 columns):\n",
      "appointment_id     110526 non-null int64\n",
      "patient_id         110526 non-null float64\n",
      "scheduled_day      110526 non-null datetime64[ns]\n",
      "appointment_day    110526 non-null datetime64[ns]\n",
      "age                110526 non-null int64\n",
      "neighborhood       110526 non-null object\n",
      "scholarship        110526 non-null int64\n",
      "hypertension       110526 non-null int64\n",
      "diabetes           110526 non-null int64\n",
      "alcoholism         110526 non-null int64\n",
      "handicap           110526 non-null int64\n",
      "sms_received       110526 non-null int64\n",
      "no_show            110526 non-null int64\n",
      "male               110526 non-null int64\n",
      "dtypes: datetime64[ns](2), float64(1), int64(10), object(1)\n",
      "memory usage: 11.8+ MB\n"
     ]
    }
   ],
   "source": [
    "import pandas as pd\n",
    "import numpy as np\n",
    "import matplotlib.pyplot as plt\n",
    "import seaborn as sns\n",
    "%matplotlib inline\n",
    "\n",
    "appointments_1 = pd.read_csv(\"../input/appointments-raw/appointments_clean.csv\",\n",
    "                          parse_dates=['scheduled_day','appointment_day'],\n",
    "                          )\n",
    "appointments_1.info()"
   ]
  },
  {
   "cell_type": "code",
   "execution_count": 28,
   "metadata": {},
   "outputs": [
    {
     "data": {
      "text/plain": [
       "Index(['appointment_id', 'patient_id', 'scheduled_day', 'appointment_day',\n",
       "       'age', 'neighborhood', 'scholarship', 'hypertension', 'diabetes',\n",
       "       'alcoholism', 'handicap', 'sms_received', 'no_show', 'male'],\n",
       "      dtype='object')"
      ]
     },
     "execution_count": 28,
     "metadata": {},
     "output_type": "execute_result"
    }
   ],
   "source": [
    "appointments_1.columns"
   ]
  },
  {
   "cell_type": "markdown",
   "metadata": {},
   "source": [
    "### clustermap "
   ]
  },
  {
   "cell_type": "markdown",
   "metadata": {},
   "source": [
    "This cluster map uses the Pearson correlation. \n",
    "\n",
    "\"The Pearson product-moment correlation coefficient is a measure of **the strength of the linear relationship** between two variables. It is referred to as Pearson's correlation or simply as the correlation coefficient. If the relationship between the variables is not linear, then the correlation coefficient does not adequately represent the strength of the relationship between the variables.\"\n",
    "\n",
    "[source](http://onlinestatbook.com/2/describing_bivariate_data/pearson.html) "
   ]
  },
  {
   "cell_type": "code",
   "execution_count": 29,
   "metadata": {},
   "outputs": [
    {
     "data": {
      "text/plain": [
       "<seaborn.matrix.ClusterGrid at 0x10cba7278>"
      ]
     },
     "execution_count": 29,
     "metadata": {},
     "output_type": "execute_result"
    },
    {
     "data": {
      "image/png": "[encoded data removed]",
      "text/plain": [
       "<matplotlib.figure.Figure at 0x10c744358>"
      ]
     },
     "metadata": {},
     "output_type": "display_data"
    }
   ],
   "source": [
    "sns.clustermap(appointments_1.corr(), annot=True)"
   ]
  },
  {
   "cell_type": "markdown",
   "metadata": {},
   "source": [
    "No risk of multicollinearity."
   ]
  },
  {
   "cell_type": "markdown",
   "metadata": {},
   "source": [
    "## days to appointment"
   ]
  },
  {
   "cell_type": "code",
   "execution_count": 30,
   "metadata": {},
   "outputs": [
    {
     "data": {
      "text/plain": [
       "<matplotlib.axes._subplots.AxesSubplot at 0x10bc935f8>"
      ]
     },
     "execution_count": 30,
     "metadata": {},
     "output_type": "execute_result"
    },
    {
     "data": {
      "image/png": "[encoded data removed]",
      "text/plain": [
       "<matplotlib.figure.Figure at 0x10c719b00>"
      ]
     },
     "metadata": {},
     "output_type": "display_data"
    }
   ],
   "source": [
    "def daysToAppointment(row):\n",
    "    return (row['appointment_day'] - row['scheduled_day']).days\n",
    "\n",
    "appointments_1['days_to_appointment'] = appointments_1.apply(daysToAppointment,axis=1)\n",
    "appointments_1['days_to_appointment'].hist(bins=100)"
   ]
  },
  {
   "cell_type": "markdown",
   "metadata": {},
   "source": [
    "it looks like for the majority of appointments,the scheduled day comes after the appointment day. this can be explained by the fact that these appointments were walk-ins, and they were entered into the system after the appointment took place.\n",
    "* walk-ins should be removed from the dataset, because our predictive model is only useful to predict appointments once they are scheduled"
   ]
  },
  {
   "cell_type": "markdown",
   "metadata": {},
   "source": [
    "### remove walk-ins"
   ]
  },
  {
   "cell_type": "markdown",
   "metadata": {},
   "source": [
    "I will delete all appointments were scheduled day is the same day or later."
   ]
  },
  {
   "cell_type": "code",
   "execution_count": 31,
   "metadata": {},
   "outputs": [],
   "source": [
    "appointments_2 = appointments_1[appointments_1['days_to_appointment'] > 0]"
   ]
  },
  {
   "cell_type": "code",
   "execution_count": 32,
   "metadata": {},
   "outputs": [
    {
     "data": {
      "text/plain": [
       "39.61058936358866"
      ]
     },
     "execution_count": 32,
     "metadata": {},
     "output_type": "execute_result"
    }
   ],
   "source": [
    "(appointments_1.shape[0] - appointments_2.shape[0]) / appointments_1.shape[0] * 100"
   ]
  },
  {
   "cell_type": "markdown",
   "metadata": {},
   "source": [
    "note that by removing walk-ins we reduce our data set by 40%"
   ]
  },
  {
   "cell_type": "code",
   "execution_count": 33,
   "metadata": {},
   "outputs": [
    {
     "data": {
      "text/plain": [
       "<matplotlib.axes._subplots.AxesSubplot at 0x10d5535f8>"
      ]
     },
     "execution_count": 33,
     "metadata": {},
     "output_type": "execute_result"
    },
    {
     "data": {
      "image/png": "[encoded data removed]",
      "text/plain": [
       "<matplotlib.figure.Figure at 0x10bbee7f0>"
      ]
     },
     "metadata": {},
     "output_type": "display_data"
    }
   ],
   "source": [
    "# validate the distribution looks better\n",
    "appointments_2['days_to_appointment'].hist(bins=50)"
   ]
  },
  {
   "cell_type": "markdown",
   "metadata": {},
   "source": [
    "### days to appointment versus no-shows"
   ]
  },
  {
   "cell_type": "code",
   "execution_count": 34,
   "metadata": {
    "scrolled": true
   },
   "outputs": [
    {
     "data": {
      "text/plain": [
       "<matplotlib.axes._subplots.AxesSubplot at 0x10cc0e860>"
      ]
     },
     "execution_count": 34,
     "metadata": {},
     "output_type": "execute_result"
    },
    {
     "data": {
      "image/png": "[encoded data removed]",
      "text/plain": [
       "<matplotlib.figure.Figure at 0x1083daf28>"
      ]
     },
     "metadata": {},
     "output_type": "display_data"
    }
   ],
   "source": [
    "sns.regplot(x='days_to_appointment',y='no_show',data=appointments_2,order=3)"
   ]
  },
  {
   "cell_type": "markdown",
   "metadata": {},
   "source": [
    "<div class='alert alert-danger'>\n",
    "<li>how do I know the order to pick for this regression ? here I picked 3 because it looks nice\n",
    "</div>"
   ]
  },
  {
   "cell_type": "markdown",
   "metadata": {},
   "source": [
    "\n",
    "<div class='alert alert-danger'>\n",
    "<li>if a third order polynomial is indeed a good fit for this regression, then I should introduce a new feature, days_to_appointment_cubed.\n",
    "</div>"
   ]
  },
  {
   "cell_type": "code",
   "execution_count": 35,
   "metadata": {},
   "outputs": [
    {
     "data": {
      "text/plain": [
       "<matplotlib.legend.Legend at 0x108e2f780>"
      ]
     },
     "execution_count": 35,
     "metadata": {},
     "output_type": "execute_result"
    },
    {
     "data": {
      "image/png": "[encoded data removed]",
      "text/plain": [
       "<matplotlib.figure.Figure at 0x10d3146d8>"
      ]
     },
     "metadata": {},
     "output_type": "display_data"
    }
   ],
   "source": [
    "# create a histogram for shows versus no-shows\n",
    "shows = appointments_2[appointments_2['no_show'] == 0]\n",
    "no_shows = appointments_2[appointments_2['no_show'] == 1]\n",
    "\n",
    "sns.distplot(shows['days_to_appointment'],bins=20,label='shows')\n",
    "sns.distplot(no_shows['days_to_appointment'],bins=20,label='no_shows')\n",
    "plt.legend()"
   ]
  },
  {
   "cell_type": "code",
   "execution_count": 36,
   "metadata": {},
   "outputs": [
    {
     "data": {
      "text/plain": [
       "0.0525933252157205"
      ]
     },
     "execution_count": 36,
     "metadata": {},
     "output_type": "execute_result"
    }
   ],
   "source": [
    "# see the correlation\n",
    "appointments_2['days_to_appointment'].corr(appointments_2['no_show'])"
   ]
  },
  {
   "cell_type": "markdown",
   "metadata": {},
   "source": [
    "### probability of no show"
   ]
  },
  {
   "cell_type": "code",
   "execution_count": 108,
   "metadata": {},
   "outputs": [],
   "source": [
    "# create a function that calculates the probability of no-shows\n",
    "# credit goes to somrikbanerjee\n",
    "def probabilityNoShow(data,feature):\n",
    "    rows = []\n",
    "    for instance in data[feature].unique():\n",
    "        row = {'feature': feature,'instance': instance}\n",
    "        total = len(data[data[feature] == instance])\n",
    "        no_shows = len(data[(data[feature] == instance) & (data['no_show'] == 1)])\n",
    "        row.update({\n",
    "            'probability': no_shows / total,\n",
    "            'total': total,\n",
    "            'no_shows': no_shows\n",
    "        })\n",
    "        rows.append(row)\n",
    "    return pd.DataFrame(rows)\n",
    "\n",
    "# create a bar plot\n",
    "def probabilityBarPlot(data):\n",
    "    fig, ax = plt.subplots(figsize=(10,5))\n",
    "    sns.barplot(data=data,\n",
    "                x = 'instance', y = 'probability',ax=ax)\n",
    "    ax.set_title('probability of no-show')\n",
    "    ax.set_ylabel('probability')\n",
    "    ax.set_xlabel(data['feature'].loc[0])\n",
    "    return fig, ax"
   ]
  },
  {
   "cell_type": "code",
   "execution_count": 103,
   "metadata": {},
   "outputs": [
    {
     "data": {
      "text/plain": [
       "[Text(0,0,'1'),\n",
       " Text(0,0,'11'),\n",
       " Text(0,0,'21'),\n",
       " Text(0,0,'31'),\n",
       " Text(0,0,'41'),\n",
       " Text(0,0,'51'),\n",
       " Text(0,0,'61'),\n",
       " Text(0,0,'71'),\n",
       " Text(0,0,'81'),\n",
       " Text(0,0,'91'),\n",
       " Text(0,0,'103'),\n",
       " Text(0,0,'118'),\n",
       " Text(0,0,'145')]"
      ]
     },
     "execution_count": 103,
     "metadata": {},
     "output_type": "execute_result"
    },
    {
     "data": {
      "image/png": "[encoded data removed]",
      "text/plain": [
       "<matplotlib.figure.Figure at 0x10eae1c88>"
      ]
     },
     "metadata": {},
     "output_type": "display_data"
    }
   ],
   "source": [
    "fig, ax = probabilityBarPlot(probabilityNoShow(appointments_2,'days_to_appointment'))\n",
    "# reduce number of tics\n",
    "ticks = ax.xaxis.get_ticklocs()\n",
    "ticklabels = [l.get_text() for l in ax.xaxis.get_ticklabels()]\n",
    "ax.xaxis.set_ticks(ticks[::10])\n",
    "ax.xaxis.set_ticklabels(ticklabels[::10])"
   ]
  },
  {
   "cell_type": "markdown",
   "metadata": {},
   "source": [
    "## appointments per patient"
   ]
  },
  {
   "cell_type": "markdown",
   "metadata": {},
   "source": [
    "what is the correlation between the number of appointments a patient has and no show? note that this is aggregated on patient id, so it is mapped against the percentage of no-shows for a given patient."
   ]
  },
  {
   "cell_type": "code",
   "execution_count": 38,
   "metadata": {
    "scrolled": true
   },
   "outputs": [
    {
     "data": {
      "text/plain": [
       "<matplotlib.axes._subplots.AxesSubplot at 0x108a596d8>"
      ]
     },
     "execution_count": 38,
     "metadata": {},
     "output_type": "execute_result"
    },
    {
     "data": {
      "image/png": "[encoded data removed]",
      "text/plain": [
       "<matplotlib.figure.Figure at 0x10d655978>"
      ]
     },
     "metadata": {},
     "output_type": "display_data"
    }
   ],
   "source": [
    "appointments_per_patient = appointments_2.groupby('patient_id').count()['appointment_id']\\\n",
    "    .sort_values(ascending=False).to_frame(name='appointments_per_patient')\n",
    "\n",
    "no_show_per_patient = appointments_2.groupby('patient_id').sum()['no_show']\\\n",
    "    .sort_values(ascending=False).to_frame(name='no_show_per_patient')\n",
    "    \n",
    "df = appointments_per_patient.merge(no_show_per_patient, left_index=True, right_index=True)\n",
    "df['probability_no_show'] = df['no_show_per_patient']/df['appointments_per_patient']\n",
    "\n",
    "sns.regplot(x='appointments_per_patient',y='probability_no_show',data=df)"
   ]
  },
  {
   "cell_type": "code",
   "execution_count": 26,
   "metadata": {},
   "outputs": [
    {
     "data": {
      "text/plain": [
       "-0.007020232413987291"
      ]
     },
     "execution_count": 26,
     "metadata": {},
     "output_type": "execute_result"
    }
   ],
   "source": [
    "# correlation\n",
    "df['appointments_per_patient'].corr(df['probability_no_show'])"
   ]
  },
  {
   "cell_type": "markdown",
   "metadata": {},
   "source": [
    "<div class='alert alert-warning'>\n",
    "<li>appointments_per_patient is not a good predictor, because the correlation is so small.\n",
    "</div>"
   ]
  },
  {
   "cell_type": "markdown",
   "metadata": {},
   "source": [
    "## male"
   ]
  },
  {
   "cell_type": "code",
   "execution_count": 39,
   "metadata": {
    "scrolled": true
   },
   "outputs": [
    {
     "data": {
      "text/plain": [
       "<matplotlib.axes._subplots.AxesSubplot at 0x10d2c11d0>"
      ]
     },
     "execution_count": 39,
     "metadata": {},
     "output_type": "execute_result"
    },
    {
     "data": {
      "image/png": "[encoded data removed]",
      "text/plain": [
       "<matplotlib.figure.Figure at 0x10bc74eb8>"
      ]
     },
     "metadata": {},
     "output_type": "display_data"
    }
   ],
   "source": [
    "sns.countplot(x='male', hue='no_show', data=appointments_2)"
   ]
  },
  {
   "cell_type": "markdown",
   "metadata": {},
   "source": [
    "there are twice as many women as men in the system.\n",
    "* perhaps this is a culture where men are too proud to go to the doctor\n",
    "* perhaps this is data taken from hospitals which have many births and take care of female reproductive health\n",
    "* perhaps men die younger so most of the old population is female\n",
    "* perhaps there is illness that targets females more than males"
   ]
  },
  {
   "cell_type": "markdown",
   "metadata": {},
   "source": [
    "### probability of no show"
   ]
  },
  {
   "cell_type": "code",
   "execution_count": 104,
   "metadata": {
    "scrolled": true
   },
   "outputs": [
    {
     "data": {
      "text/plain": [
       "(<matplotlib.figure.Figure at 0x109ca9f28>,\n",
       " <matplotlib.axes._subplots.AxesSubplot at 0x10f3b2c88>)"
      ]
     },
     "execution_count": 104,
     "metadata": {},
     "output_type": "execute_result"
    },
    {
     "data": {
      "image/png": "[encoded data removed]",
      "text/plain": [
       "<matplotlib.figure.Figure at 0x109ca9f28>"
      ]
     },
     "metadata": {},
     "output_type": "display_data"
    }
   ],
   "source": [
    "df = probabilityNoShow(appointments_2,'male')\n",
    "probabilityBarPlot(df)"
   ]
  },
  {
   "cell_type": "markdown",
   "metadata": {},
   "source": [
    "### significance test: chi-square\n",
    "```\n",
    "chi-square score = \n",
    "    sum of categories(\n",
    "        (expected - observed)**2 / expected\n",
    "    )\n",
    "\n",
    "degrees of freedom = \n",
    "    (# predictor values - 1) * (# target values - 1)\n",
    "    \n",
    "probability of error  = \n",
    "    p < 0.05\n",
    "```\n",
    "\n"
   ]
  },
  {
   "cell_type": "code",
   "execution_count": 84,
   "metadata": {},
   "outputs": [
    {
     "data": {
      "text/plain": [
       "0.97340583469883712"
      ]
     },
     "execution_count": 84,
     "metadata": {},
     "output_type": "execute_result"
    }
   ],
   "source": [
    "df['expected_frequency'] = df['total'] * df['no_shows'].sum() /df['total'].sum()\n",
    "\n",
    "df['chi-square'] = (df['expected_frequency'] - df['no_shows'])**2 / df['expected_frequency']\n",
    "df['chi-square'].sum()"
   ]
  },
  {
   "cell_type": "markdown",
   "metadata": {},
   "source": [
    "<div class='alert alert-warning'>\n",
    "degrees of freedom = 1\n",
    "<br>threshold = 3.841\n",
    "<br>this is not statistically significant\n",
    "</div>"
   ]
  },
  {
   "cell_type": "markdown",
   "metadata": {},
   "source": [
    "### posterior probability "
   ]
  },
  {
   "cell_type": "markdown",
   "metadata": {},
   "source": [
    "Posterior probability answers the question: what is the probability that a given feature is present when we have a no-show? It is a good measure of importance."
   ]
  },
  {
   "cell_type": "code",
   "execution_count": 122,
   "metadata": {},
   "outputs": [],
   "source": [
    "def posteriorProbability(data,a,b):\n",
    "    '''probability of A given B'''\n",
    "    p_b = data[b].sum() / data.shape[0]\n",
    "    p_a = data[a].sum() / data.shape[0]\n",
    "    p_b_given_a = data[\n",
    "            data[a] == 1\n",
    "        ][b].sum() / data[a].sum()\n",
    "\n",
    "    return p_b_given_a * p_a / p_b"
   ]
  },
  {
   "cell_type": "code",
   "execution_count": 124,
   "metadata": {
    "scrolled": true
   },
   "outputs": [
    {
     "data": {
      "text/plain": [
       "0.33412334484002265"
      ]
     },
     "execution_count": 124,
     "metadata": {},
     "output_type": "execute_result"
    }
   ],
   "source": [
    "posteriorProbability(appointments_2,'male','no_show')"
   ]
  },
  {
   "cell_type": "markdown",
   "metadata": {},
   "source": [
    "## scheduled day"
   ]
  },
  {
   "cell_type": "code",
   "execution_count": 42,
   "metadata": {},
   "outputs": [
    {
     "name": "stderr",
     "output_type": "stream",
     "text": [
      "/Users/nico/code/pydata-env/lib/python3.6/site-packages/ipykernel_launcher.py:2: SettingWithCopyWarning: \n",
      "A value is trying to be set on a copy of a slice from a DataFrame.\n",
      "Try using .loc[row_indexer,col_indexer] = value instead\n",
      "\n",
      "See the caveats in the documentation: http://pandas.pydata.org/pandas-docs/stable/indexing.html#indexing-view-versus-copy\n",
      "  \n"
     ]
    },
    {
     "data": {
      "text/plain": [
       "<matplotlib.axes._subplots.AxesSubplot at 0x109466320>"
      ]
     },
     "execution_count": 42,
     "metadata": {},
     "output_type": "execute_result"
    },
    {
     "data": {
      "image/png": "[encoded data removed]",
      "text/plain": [
       "<matplotlib.figure.Figure at 0x108e2f908>"
      ]
     },
     "metadata": {},
     "output_type": "display_data"
    }
   ],
   "source": [
    "# convert the dates into days of the week\n",
    "appointments_2['scheduled_weekday'] = appointments_2['scheduled_day'].dt.weekday\n",
    "# appointments['scheduled_weekday'].value_counts()\n",
    "sns.countplot(x='scheduled_weekday', hue='no_show', data=appointments_2)\n",
    "# 0 is monday, 6 is sunday"
   ]
  },
  {
   "cell_type": "markdown",
   "metadata": {},
   "source": [
    "### probability of no show"
   ]
  },
  {
   "cell_type": "code",
   "execution_count": 105,
   "metadata": {},
   "outputs": [
    {
     "data": {
      "text/plain": [
       "(<matplotlib.figure.Figure at 0x10f14ceb8>,\n",
       " <matplotlib.axes._subplots.AxesSubplot at 0x10f1757b8>)"
      ]
     },
     "execution_count": 105,
     "metadata": {},
     "output_type": "execute_result"
    },
    {
     "data": {
      "image/png": "[encoded data removed]",
      "text/plain": [
       "<matplotlib.figure.Figure at 0x10f14ceb8>"
      ]
     },
     "metadata": {},
     "output_type": "display_data"
    }
   ],
   "source": [
    "df = probabilityNoShow(appointments_2,'scheduled_weekday')\n",
    "probabilityBarPlot(df)"
   ]
  },
  {
   "cell_type": "markdown",
   "metadata": {},
   "source": [
    "### significance test: chi-square\n",
    "```\n",
    "chi-square score = \n",
    "    sum of categories(\n",
    "        (expected - observed)**2 / expected\n",
    "    )\n",
    "\n",
    "degrees of freedom = \n",
    "    (# predictor values - 1) * (# target values - 1)\n",
    "    \n",
    "probability of error  = \n",
    "    p < 0.05\n",
    "```\n",
    "\n"
   ]
  },
  {
   "cell_type": "code",
   "execution_count": 86,
   "metadata": {},
   "outputs": [
    {
     "data": {
      "text/plain": [
       "5.6031310136889516"
      ]
     },
     "execution_count": 86,
     "metadata": {},
     "output_type": "execute_result"
    }
   ],
   "source": [
    "df['expected_frequency'] = df['total'] * df['no_shows'].sum() /df['total'].sum()\n",
    "\n",
    "df['chi-square'] = (df['expected_frequency'] - df['no_shows'])**2 / df['expected_frequency']\n",
    "df['chi-square'].sum()"
   ]
  },
  {
   "cell_type": "markdown",
   "metadata": {},
   "source": [
    "<div class='alert alert-warning'>\n",
    "degrees of freedom = 5\n",
    "<br>threshold = 11.07\n",
    "<br>this is not statistically significant\n",
    "</div>"
   ]
  },
  {
   "cell_type": "markdown",
   "metadata": {},
   "source": [
    "## appointment weekday"
   ]
  },
  {
   "cell_type": "code",
   "execution_count": 45,
   "metadata": {},
   "outputs": [
    {
     "name": "stderr",
     "output_type": "stream",
     "text": [
      "/Users/nico/code/pydata-env/lib/python3.6/site-packages/ipykernel_launcher.py:1: SettingWithCopyWarning: \n",
      "A value is trying to be set on a copy of a slice from a DataFrame.\n",
      "Try using .loc[row_indexer,col_indexer] = value instead\n",
      "\n",
      "See the caveats in the documentation: http://pandas.pydata.org/pandas-docs/stable/indexing.html#indexing-view-versus-copy\n",
      "  \"\"\"Entry point for launching an IPython kernel.\n"
     ]
    },
    {
     "data": {
      "text/plain": [
       "<matplotlib.axes._subplots.AxesSubplot at 0x107f2b630>"
      ]
     },
     "execution_count": 45,
     "metadata": {},
     "output_type": "execute_result"
    },
    {
     "data": {
      "image/png": "[encoded data removed]",
      "text/plain": [
       "<matplotlib.figure.Figure at 0x109d14320>"
      ]
     },
     "metadata": {},
     "output_type": "display_data"
    }
   ],
   "source": [
    "appointments_2['appointment_weekday'] = appointments_2['appointment_day'].dt.weekday\n",
    "sns.countplot(x='appointment_weekday', hue='no_show', data=appointments_2)\n",
    "# 0 is monday, 6 is sunday"
   ]
  },
  {
   "cell_type": "markdown",
   "metadata": {},
   "source": [
    "### probability of no show"
   ]
  },
  {
   "cell_type": "code",
   "execution_count": 106,
   "metadata": {},
   "outputs": [
    {
     "data": {
      "text/plain": [
       "(<matplotlib.figure.Figure at 0x1100dd780>,\n",
       " <matplotlib.axes._subplots.AxesSubplot at 0x1100c7550>)"
      ]
     },
     "execution_count": 106,
     "metadata": {},
     "output_type": "execute_result"
    },
    {
     "data": {
      "image/png": "[encoded data removed]",
      "text/plain": [
       "<matplotlib.figure.Figure at 0x1100dd780>"
      ]
     },
     "metadata": {},
     "output_type": "display_data"
    }
   ],
   "source": [
    "df = probabilityNoShow(appointments_2,'appointment_weekday')\n",
    "probabilityBarPlot(df)"
   ]
  },
  {
   "cell_type": "markdown",
   "metadata": {},
   "source": [
    "### significance test: chi-square\n",
    "```\n",
    "chi-square score = \n",
    "    sum of categories(\n",
    "        (expected - observed)**2 / expected\n",
    "    )\n",
    "\n",
    "degrees of freedom = \n",
    "    (# predictor values - 1) * (# target values - 1)\n",
    "    \n",
    "probability of error  = \n",
    "    p < 0.05\n",
    "```"
   ]
  },
  {
   "cell_type": "code",
   "execution_count": 47,
   "metadata": {
    "scrolled": true
   },
   "outputs": [
    {
     "data": {
      "text/plain": [
       "25.415310343950427"
      ]
     },
     "execution_count": 47,
     "metadata": {},
     "output_type": "execute_result"
    }
   ],
   "source": [
    "df['expected_frequency'] = df['total'] * df['no_shows'].sum() /df['total'].sum()\n",
    "\n",
    "df['chi-square'] = (df['expected_frequency'] - df['no_shows'])**2 / df['expected_frequency']\n",
    "df['chi-square'].sum()"
   ]
  },
  {
   "cell_type": "markdown",
   "metadata": {},
   "source": [
    "<div class='alert alert-success'>\n",
    "degrees of freedom = 5\n",
    "<br>threshold  = 11.07\n",
    "<br>difference between days of the week is statistically significant\n",
    "</div>"
   ]
  },
  {
   "cell_type": "markdown",
   "metadata": {},
   "source": [
    "<div class='alert alert-danger'>\n",
    "There is a very high difference between my chi-square and the threshold. but documentation about chi-square tells me that this test is only a binary indicator, i.e.it can only tell you if something is or is not statistically significant.\n",
    "<li> is there a way to quantify the magnitude of this significance?\n",
    "</div>"
   ]
  },
  {
   "cell_type": "markdown",
   "metadata": {},
   "source": [
    "## age"
   ]
  },
  {
   "cell_type": "code",
   "execution_count": 48,
   "metadata": {
    "scrolled": true
   },
   "outputs": [
    {
     "data": {
      "text/plain": [
       "<matplotlib.axes._subplots.AxesSubplot at 0x108771908>"
      ]
     },
     "execution_count": 48,
     "metadata": {},
     "output_type": "execute_result"
    },
    {
     "data": {
      "image/png": "[encoded data removed]",
      "text/plain": [
       "<matplotlib.figure.Figure at 0x10945b860>"
      ]
     },
     "metadata": {},
     "output_type": "display_data"
    }
   ],
   "source": [
    "appointments_2['age'].hist(bins=50) "
   ]
  },
  {
   "cell_type": "code",
   "execution_count": 49,
   "metadata": {},
   "outputs": [
    {
     "data": {
      "text/plain": [
       "0"
      ]
     },
     "execution_count": 49,
     "metadata": {},
     "output_type": "execute_result"
    }
   ],
   "source": [
    "# just make sure we don't have erroneous data\n",
    "appointments_2['age'].min()"
   ]
  },
  {
   "cell_type": "code",
   "execution_count": 50,
   "metadata": {
    "scrolled": true
   },
   "outputs": [
    {
     "data": {
      "text/plain": [
       "<matplotlib.axes._subplots.AxesSubplot at 0x108780550>"
      ]
     },
     "execution_count": 50,
     "metadata": {},
     "output_type": "execute_result"
    },
    {
     "data": {
      "image/png": "[encoded data removed]",
      "text/plain": [
       "<matplotlib.figure.Figure at 0x109409ef0>"
      ]
     },
     "metadata": {},
     "output_type": "display_data"
    }
   ],
   "source": [
    "# does the no-show prediction change with age?\n",
    "sns.regplot(x='age',y='no_show',data=appointments_2,order=3)"
   ]
  },
  {
   "cell_type": "markdown",
   "metadata": {},
   "source": [
    "<div class='alert alert-danger'>\n",
    "<li>should I create an age cubed feature simply because a third order polynomial seems best? it is hard to determine whether this  is better than others.\n",
    "</div>"
   ]
  },
  {
   "cell_type": "code",
   "execution_count": 51,
   "metadata": {},
   "outputs": [
    {
     "data": {
      "text/plain": [
       "<matplotlib.legend.Legend at 0x1097c1048>"
      ]
     },
     "execution_count": 51,
     "metadata": {},
     "output_type": "execute_result"
    },
    {
     "data": {
      "image/png": "[encoded data removed]",
      "text/plain": [
       "<matplotlib.figure.Figure at 0x10a211dd8>"
      ]
     },
     "metadata": {},
     "output_type": "display_data"
    }
   ],
   "source": [
    "# view histogram of show versus no show\n",
    "shows = appointments_2[appointments_2['no_show'] == 0]\n",
    "no_shows = appointments_2[appointments_2['no_show'] == 1]\n",
    "\n",
    "sns.distplot(shows['age'],bins=20,label='shows')\n",
    "sns.distplot(no_shows['age'],bins=20,label='no_shows')\n",
    "plt.legend()"
   ]
  },
  {
   "cell_type": "markdown",
   "metadata": {},
   "source": [
    "<div class='alert alert-info'>\n",
    "should I add to no show percentage as a feature? \n",
    "<li>no, as this can introduce collinearity with age.\n",
    "</div>"
   ]
  },
  {
   "cell_type": "markdown",
   "metadata": {},
   "source": [
    "### probability of no show"
   ]
  },
  {
   "cell_type": "code",
   "execution_count": 109,
   "metadata": {},
   "outputs": [
    {
     "data": {
      "text/plain": [
       "[Text(0,0,'0'),\n",
       " Text(0,0,'10'),\n",
       " Text(0,0,'20'),\n",
       " Text(0,0,'30'),\n",
       " Text(0,0,'40'),\n",
       " Text(0,0,'50'),\n",
       " Text(0,0,'60'),\n",
       " Text(0,0,'70'),\n",
       " Text(0,0,'80'),\n",
       " Text(0,0,'90'),\n",
       " Text(0,0,'102')]"
      ]
     },
     "execution_count": 109,
     "metadata": {},
     "output_type": "execute_result"
    },
    {
     "data": {
      "image/png": "[encoded data removed]",
      "text/plain": [
       "<matplotlib.figure.Figure at 0x110e00710>"
      ]
     },
     "metadata": {},
     "output_type": "display_data"
    }
   ],
   "source": [
    "df = probabilityNoShow(appointments_2,'age')\n",
    "fig, ax = probabilityBarPlot(df)\n",
    "\n",
    "# reduce number of tics\n",
    "ticks = ax.xaxis.get_ticklocs()\n",
    "ticklabels = [l.get_text() for l in ax.xaxis.get_ticklabels()]\n",
    "ax.xaxis.set_ticks(ticks[::10])\n",
    "ax.xaxis.set_ticklabels(ticklabels[::10])"
   ]
  },
  {
   "cell_type": "markdown",
   "metadata": {},
   "source": [
    "### age cubed"
   ]
  },
  {
   "cell_type": "markdown",
   "metadata": {},
   "source": [
    "I am creating a new variable because it looks like the relationship between age and no-shows is cubic\n",
    "\n",
    "**edit:** I added age_cubed to the model and it significantly reduced its predictive power. this must be erroneous."
   ]
  },
  {
   "cell_type": "code",
   "execution_count": 52,
   "metadata": {},
   "outputs": [
    {
     "name": "stderr",
     "output_type": "stream",
     "text": [
      "/Users/nico/code/pydata-env/lib/python3.6/site-packages/ipykernel_launcher.py:1: SettingWithCopyWarning: \n",
      "A value is trying to be set on a copy of a slice from a DataFrame.\n",
      "Try using .loc[row_indexer,col_indexer] = value instead\n",
      "\n",
      "See the caveats in the documentation: http://pandas.pydata.org/pandas-docs/stable/indexing.html#indexing-view-versus-copy\n",
      "  \"\"\"Entry point for launching an IPython kernel.\n"
     ]
    },
    {
     "data": {
      "text/plain": [
       "<matplotlib.axes._subplots.AxesSubplot at 0x1097a5668>"
      ]
     },
     "execution_count": 52,
     "metadata": {},
     "output_type": "execute_result"
    },
    {
     "data": {
      "image/png": "[encoded data removed]",
      "text/plain": [
       "<matplotlib.figure.Figure at 0x108e91940>"
      ]
     },
     "metadata": {},
     "output_type": "display_data"
    }
   ],
   "source": [
    "appointments_2['age_cubed'] = appointments_2['age']**3\n",
    "\n",
    "# does the no-show prediction change with age?\n",
    "sns.regplot(x='age_cubed',y='no_show',data=appointments_2,order=1)"
   ]
  },
  {
   "cell_type": "markdown",
   "metadata": {},
   "source": [
    "## neighborhood"
   ]
  },
  {
   "cell_type": "markdown",
   "metadata": {},
   "source": [
    "it would be nice to know the average income of each neighborhood, but I cannot find this information online."
   ]
  },
  {
   "cell_type": "code",
   "execution_count": 53,
   "metadata": {},
   "outputs": [
    {
     "data": {
      "text/html": [
       "<div>\n",
       "<style>\n",
       "    .dataframe thead tr:only-child th {\n",
       "        text-align: right;\n",
       "    }\n",
       "\n",
       "    .dataframe thead th {\n",
       "        text-align: left;\n",
       "    }\n",
       "\n",
       "    .dataframe tbody tr th {\n",
       "        vertical-align: top;\n",
       "    }\n",
       "</style>\n",
       "<table border=\"1\" class=\"dataframe\">\n",
       "  <thead>\n",
       "    <tr style=\"text-align: right;\">\n",
       "      <th></th>\n",
       "      <th>total</th>\n",
       "    </tr>\n",
       "  </thead>\n",
       "  <tbody>\n",
       "    <tr>\n",
       "      <th>JARDIM CAMBURI</th>\n",
       "      <td>4748</td>\n",
       "    </tr>\n",
       "    <tr>\n",
       "      <th>MARIA ORTIZ</th>\n",
       "      <td>3564</td>\n",
       "    </tr>\n",
       "    <tr>\n",
       "      <th>RESISTÊNCIA</th>\n",
       "      <td>2674</td>\n",
       "    </tr>\n",
       "    <tr>\n",
       "      <th>JARDIM DA PENHA</th>\n",
       "      <td>2511</td>\n",
       "    </tr>\n",
       "    <tr>\n",
       "      <th>ITARARÉ</th>\n",
       "      <td>2208</td>\n",
       "    </tr>\n",
       "    <tr>\n",
       "      <th>CENTRO</th>\n",
       "      <td>2121</td>\n",
       "    </tr>\n",
       "    <tr>\n",
       "      <th>TABUAZEIRO</th>\n",
       "      <td>1807</td>\n",
       "    </tr>\n",
       "    <tr>\n",
       "      <th>JESUS DE NAZARETH</th>\n",
       "      <td>1599</td>\n",
       "    </tr>\n",
       "    <tr>\n",
       "      <th>BONFIM</th>\n",
       "      <td>1588</td>\n",
       "    </tr>\n",
       "    <tr>\n",
       "      <th>JABOUR</th>\n",
       "      <td>1568</td>\n",
       "    </tr>\n",
       "  </tbody>\n",
       "</table>\n",
       "</div>"
      ],
      "text/plain": [
       "                   total\n",
       "JARDIM CAMBURI      4748\n",
       "MARIA ORTIZ         3564\n",
       "RESISTÊNCIA         2674\n",
       "JARDIM DA PENHA     2511\n",
       "ITARARÉ             2208\n",
       "CENTRO              2121\n",
       "TABUAZEIRO          1807\n",
       "JESUS DE NAZARETH   1599\n",
       "BONFIM              1588\n",
       "JABOUR              1568"
      ]
     },
     "execution_count": 53,
     "metadata": {},
     "output_type": "execute_result"
    }
   ],
   "source": [
    "total = appointments_2['neighborhood'].value_counts().to_frame(name='total')\n",
    "total.head(10)"
   ]
  },
  {
   "cell_type": "markdown",
   "metadata": {},
   "source": [
    "### probability of no show"
   ]
  },
  {
   "cell_type": "code",
   "execution_count": 110,
   "metadata": {
    "scrolled": true
   },
   "outputs": [
    {
     "data": {
      "text/plain": [
       "[Text(0,0,'REPÚBLICA'),\n",
       " Text(0,0,'SOLON BORGES'),\n",
       " Text(0,0,'MÁRIO CYPRESTE'),\n",
       " Text(0,0,'MARUÍPE'),\n",
       " Text(0,0,'CENTRO'),\n",
       " Text(0,0,'SANTA TEREZA'),\n",
       " Text(0,0,'DE LOURDES'),\n",
       " Text(0,0,'ILHA DO BOI')]"
      ]
     },
     "execution_count": 110,
     "metadata": {},
     "output_type": "execute_result"
    },
    {
     "data": {
      "image/png": "[encoded data removed]",
      "text/plain": [
       "<matplotlib.figure.Figure at 0x10eea7eb8>"
      ]
     },
     "metadata": {},
     "output_type": "display_data"
    }
   ],
   "source": [
    "df = probabilityNoShow(appointments_2,'neighborhood')\n",
    "fig, ax = probabilityBarPlot(df)\n",
    "\n",
    "# reduce number of tics\n",
    "ticks = ax.xaxis.get_ticklocs()\n",
    "ticklabels = [l.get_text() for l in ax.xaxis.get_ticklabels()]\n",
    "ax.xaxis.set_ticks(ticks[::10])\n",
    "ax.xaxis.set_ticklabels(ticklabels[::10])"
   ]
  },
  {
   "cell_type": "markdown",
   "metadata": {},
   "source": [
    "### significance test: chi-square\n",
    "```\n",
    "chi-square score = \n",
    "    sum of categories(\n",
    "        (expected - observed)**2 / expected\n",
    "    )\n",
    "\n",
    "degrees of freedom = \n",
    "    (# predictor values - 1) * (# target values - 1)\n",
    "    \n",
    "probability of error  = \n",
    "    p < 0.05\n",
    "```"
   ]
  },
  {
   "cell_type": "code",
   "execution_count": 55,
   "metadata": {
    "scrolled": true
   },
   "outputs": [
    {
     "data": {
      "text/plain": [
       "360.2338765547043"
      ]
     },
     "execution_count": 55,
     "metadata": {},
     "output_type": "execute_result"
    }
   ],
   "source": [
    "df['expected_frequency'] = df['total'] * df['no_shows'].sum() /df['total'].sum()\n",
    "\n",
    "df['chi-square'] = (df['expected_frequency'] - df['no_shows'])**2 / df['expected_frequency']\n",
    "df['chi-square'].sum()"
   ]
  },
  {
   "cell_type": "markdown",
   "metadata": {},
   "source": [
    "<div class='alert alert-success'>\n",
    "degrees of freedom = 79\n",
    "<br>threshold  = 100.749 \n",
    "<br>this is statistically significant\n",
    "</div>"
   ]
  },
  {
   "cell_type": "markdown",
   "metadata": {},
   "source": [
    "## scholarship"
   ]
  },
  {
   "cell_type": "code",
   "execution_count": 56,
   "metadata": {
    "scrolled": true
   },
   "outputs": [
    {
     "data": {
      "text/plain": [
       "<matplotlib.axes._subplots.AxesSubplot at 0x10b264630>"
      ]
     },
     "execution_count": 56,
     "metadata": {},
     "output_type": "execute_result"
    },
    {
     "data": {
      "image/png": "[encoded data removed]",
      "text/plain": [
       "<matplotlib.figure.Figure at 0x109683518>"
      ]
     },
     "metadata": {},
     "output_type": "display_data"
    }
   ],
   "source": [
    "sns.countplot(x='scholarship', hue='no_show', data=appointments_2)"
   ]
  },
  {
   "cell_type": "markdown",
   "metadata": {},
   "source": [
    "### probability of no show"
   ]
  },
  {
   "cell_type": "code",
   "execution_count": 111,
   "metadata": {
    "scrolled": false
   },
   "outputs": [
    {
     "data": {
      "text/plain": [
       "(<matplotlib.figure.Figure at 0x110f19550>,\n",
       " <matplotlib.axes._subplots.AxesSubplot at 0x110f25160>)"
      ]
     },
     "execution_count": 111,
     "metadata": {},
     "output_type": "execute_result"
    },
    {
     "data": {
      "image/png": "[encoded data removed]",
      "text/plain": [
       "<matplotlib.figure.Figure at 0x110f19550>"
      ]
     },
     "metadata": {},
     "output_type": "display_data"
    }
   ],
   "source": [
    "df = probabilityNoShow(appointments_2,'scholarship')\n",
    "probabilityBarPlot(df)"
   ]
  },
  {
   "cell_type": "markdown",
   "metadata": {},
   "source": [
    "### significance test: chi-square\n",
    "```\n",
    "chi-square score = \n",
    "    sum of categories(\n",
    "        (expected - observed)**2 / expected\n",
    "    )\n",
    "\n",
    "degrees of freedom = \n",
    "    (# predictor values - 1) * (# target values - 1)\n",
    "    \n",
    "probability of error  = \n",
    "    p < 0.05\n",
    "```\n",
    "\n"
   ]
  },
  {
   "cell_type": "code",
   "execution_count": 58,
   "metadata": {},
   "outputs": [
    {
     "data": {
      "text/plain": [
       "101.49561840621962"
      ]
     },
     "execution_count": 58,
     "metadata": {},
     "output_type": "execute_result"
    }
   ],
   "source": [
    "df['expected_frequency'] = df['total'] * df['no_shows'].sum() /df['total'].sum()\n",
    "\n",
    "df['chi-square'] = (df['expected_frequency'] - df['no_shows'])**2 / df['expected_frequency']\n",
    "df['chi-square'].sum()"
   ]
  },
  {
   "cell_type": "markdown",
   "metadata": {},
   "source": [
    "<div class='alert alert-success'>\n",
    "degrees of freedom = 1\n",
    "<br>threshold = 3.841\n",
    "<br>this is statistically significant\n",
    "</div>"
   ]
  },
  {
   "cell_type": "markdown",
   "metadata": {},
   "source": [
    "Scholarships are financial assistance given to poor families. According to this, patients who receive scholarships are more likely to miss appointments.\n",
    "* is financial wealth a stronger indicator for whether someone will miss appointment? it is possible that by separating by scholarship, we are mostly separating by wealth."
   ]
  },
  {
   "cell_type": "markdown",
   "metadata": {},
   "source": [
    "### posterior probability "
   ]
  },
  {
   "cell_type": "code",
   "execution_count": 125,
   "metadata": {},
   "outputs": [
    {
     "data": {
      "text/plain": [
       "0.11510124169199858"
      ]
     },
     "execution_count": 125,
     "metadata": {},
     "output_type": "execute_result"
    }
   ],
   "source": [
    "posteriorProbability(appointments_2,'scholarship','no_show')"
   ]
  },
  {
   "cell_type": "markdown",
   "metadata": {},
   "source": [
    "## hypertension"
   ]
  },
  {
   "cell_type": "code",
   "execution_count": 59,
   "metadata": {
    "scrolled": true
   },
   "outputs": [
    {
     "data": {
      "text/plain": [
       "<matplotlib.axes._subplots.AxesSubplot at 0x108e83550>"
      ]
     },
     "execution_count": 59,
     "metadata": {},
     "output_type": "execute_result"
    },
    {
     "data": {
      "image/png": "[encoded data removed]",
      "text/plain": [
       "<matplotlib.figure.Figure at 0x109c24ac8>"
      ]
     },
     "metadata": {},
     "output_type": "display_data"
    }
   ],
   "source": [
    "sns.countplot(x='hypertension', hue='no_show', data=appointments_2)"
   ]
  },
  {
   "cell_type": "markdown",
   "metadata": {},
   "source": [
    "### probability of no show"
   ]
  },
  {
   "cell_type": "code",
   "execution_count": 112,
   "metadata": {
    "scrolled": false
   },
   "outputs": [
    {
     "data": {
      "text/plain": [
       "(<matplotlib.figure.Figure at 0x112130be0>,\n",
       " <matplotlib.axes._subplots.AxesSubplot at 0x1120b92b0>)"
      ]
     },
     "execution_count": 112,
     "metadata": {},
     "output_type": "execute_result"
    },
    {
     "data": {
      "image/png": "[encoded data removed]",
      "text/plain": [
       "<matplotlib.figure.Figure at 0x112130be0>"
      ]
     },
     "metadata": {},
     "output_type": "display_data"
    }
   ],
   "source": [
    "df = probabilityNoShow(appointments_2,'hypertension')\n",
    "probabilityBarPlot(df)"
   ]
  },
  {
   "cell_type": "markdown",
   "metadata": {},
   "source": [
    "### significance test: chi-square\n",
    "```\n",
    "chi-square score = \n",
    "    sum of categories(\n",
    "        (expected - observed)**2 / expected\n",
    "    )\n",
    "\n",
    "degrees of freedom = \n",
    "    (# predictor values - 1) * (# target values - 1)\n",
    "    \n",
    "probability of error  = \n",
    "    p < 0.05\n",
    "```\n",
    "\n"
   ]
  },
  {
   "cell_type": "code",
   "execution_count": 61,
   "metadata": {},
   "outputs": [
    {
     "data": {
      "text/plain": [
       "154.14064362652306"
      ]
     },
     "execution_count": 61,
     "metadata": {},
     "output_type": "execute_result"
    }
   ],
   "source": [
    "df['expected_frequency'] = df['total'] * df['no_shows'].sum() /df['total'].sum()\n",
    "\n",
    "df['chi-square'] = (df['expected_frequency'] - df['no_shows'])**2 / df['expected_frequency']\n",
    "df['chi-square'].sum()"
   ]
  },
  {
   "cell_type": "markdown",
   "metadata": {},
   "source": [
    "<div class='alert alert-success'>\n",
    "degrees of freedom = 1\n",
    "<br>threshold = 3.841\n",
    "<br>this is statistically significant\n",
    "</div>"
   ]
  },
  {
   "cell_type": "markdown",
   "metadata": {},
   "source": [
    "Those without hypertension are more likely to miss an appointment. This is intuitive, as people with poor health conditions are more likely to take their care seriously."
   ]
  },
  {
   "cell_type": "markdown",
   "metadata": {},
   "source": [
    "<div class='alert alert-info'>\n",
    "if I have too many features that are good predictors, how do I prioritize which ones to include in my model? There must be a quantitative way to decide.\n",
    "<li>make the model, then remove those with lower p values\n",
    "</div>"
   ]
  },
  {
   "cell_type": "markdown",
   "metadata": {},
   "source": [
    "### posterior probability "
   ]
  },
  {
   "cell_type": "code",
   "execution_count": 126,
   "metadata": {},
   "outputs": [
    {
     "data": {
      "text/plain": [
       "0.16992117059096296"
      ]
     },
     "execution_count": 126,
     "metadata": {},
     "output_type": "execute_result"
    }
   ],
   "source": [
    "posteriorProbability(appointments_2,'hypertension','no_show')"
   ]
  },
  {
   "cell_type": "markdown",
   "metadata": {},
   "source": [
    "\n",
    "## diabetes"
   ]
  },
  {
   "cell_type": "code",
   "execution_count": 62,
   "metadata": {
    "scrolled": true
   },
   "outputs": [
    {
     "data": {
      "text/plain": [
       "<matplotlib.axes._subplots.AxesSubplot at 0x108fbd7f0>"
      ]
     },
     "execution_count": 62,
     "metadata": {},
     "output_type": "execute_result"
    },
    {
     "data": {
      "image/png": "[encoded data removed]",
      "text/plain": [
       "<matplotlib.figure.Figure at 0x109c24128>"
      ]
     },
     "metadata": {},
     "output_type": "display_data"
    }
   ],
   "source": [
    "sns.countplot(x='diabetes', hue='no_show', data=appointments_2)"
   ]
  },
  {
   "cell_type": "markdown",
   "metadata": {},
   "source": [
    "### probability of no show"
   ]
  },
  {
   "cell_type": "code",
   "execution_count": 113,
   "metadata": {
    "scrolled": true
   },
   "outputs": [
    {
     "data": {
      "text/plain": [
       "(<matplotlib.figure.Figure at 0x111c80978>,\n",
       " <matplotlib.axes._subplots.AxesSubplot at 0x110d50b00>)"
      ]
     },
     "execution_count": 113,
     "metadata": {},
     "output_type": "execute_result"
    },
    {
     "data": {
      "image/png": "[encoded data removed]",
      "text/plain": [
       "<matplotlib.figure.Figure at 0x111c80978>"
      ]
     },
     "metadata": {},
     "output_type": "display_data"
    }
   ],
   "source": [
    "df = probabilityNoShow(appointments_2,'diabetes')\n",
    "probabilityBarPlot(df)"
   ]
  },
  {
   "cell_type": "markdown",
   "metadata": {},
   "source": [
    "### significance test: chi-square\n",
    "```\n",
    "chi-square score = \n",
    "    sum of categories(\n",
    "        (expected - observed)**2 / expected\n",
    "    )\n",
    "\n",
    "degrees of freedom = \n",
    "    (# predictor values - 1) * (# target values - 1)\n",
    "    \n",
    "probability of error  = \n",
    "    p < 0.05\n",
    "```\n",
    "\n"
   ]
  },
  {
   "cell_type": "code",
   "execution_count": 64,
   "metadata": {},
   "outputs": [
    {
     "data": {
      "text/plain": [
       "23.994803364923261"
      ]
     },
     "execution_count": 64,
     "metadata": {},
     "output_type": "execute_result"
    }
   ],
   "source": [
    "df['expected_frequency'] = df['total'] * df['no_shows'].sum() /df['total'].sum()\n",
    "\n",
    "df['chi-square'] = (df['expected_frequency'] - df['no_shows'])**2 / df['expected_frequency']\n",
    "df['chi-square'].sum()"
   ]
  },
  {
   "cell_type": "markdown",
   "metadata": {},
   "source": [
    "<div class='alert alert-success'>\n",
    "<li>degrees of freedom = 1\n",
    "<li>threshold = 3.841\n",
    "<li>this is statistically significant\n",
    "</div>"
   ]
  },
  {
   "cell_type": "markdown",
   "metadata": {},
   "source": [
    "Those without diabetes are more likely to miss an appointment. This is intuitive, as people with poor health conditions are more likely to take their care seriously."
   ]
  },
  {
   "cell_type": "markdown",
   "metadata": {},
   "source": [
    "### posterior probability "
   ]
  },
  {
   "cell_type": "code",
   "execution_count": 127,
   "metadata": {},
   "outputs": [
    {
     "data": {
      "text/plain": [
       "0.063578752125302701"
      ]
     },
     "execution_count": 127,
     "metadata": {},
     "output_type": "execute_result"
    }
   ],
   "source": [
    "posteriorProbability(appointments_2,'diabetes','no_show')"
   ]
  },
  {
   "cell_type": "markdown",
   "metadata": {},
   "source": [
    "## alcoholism"
   ]
  },
  {
   "cell_type": "code",
   "execution_count": 65,
   "metadata": {
    "scrolled": true
   },
   "outputs": [
    {
     "data": {
      "text/plain": [
       "<matplotlib.axes._subplots.AxesSubplot at 0x10915eeb8>"
      ]
     },
     "execution_count": 65,
     "metadata": {},
     "output_type": "execute_result"
    },
    {
     "data": {
      "image/png": "[encoded data removed]",
      "text/plain": [
       "<matplotlib.figure.Figure at 0x1090b7ef0>"
      ]
     },
     "metadata": {},
     "output_type": "display_data"
    }
   ],
   "source": [
    "sns.countplot(x='alcoholism', hue='no_show', data=appointments_2)"
   ]
  },
  {
   "cell_type": "markdown",
   "metadata": {},
   "source": [
    "### probability of no show"
   ]
  },
  {
   "cell_type": "code",
   "execution_count": 114,
   "metadata": {
    "scrolled": true
   },
   "outputs": [
    {
     "data": {
      "text/plain": [
       "(<matplotlib.figure.Figure at 0x10f567390>,\n",
       " <matplotlib.axes._subplots.AxesSubplot at 0x10ff5af60>)"
      ]
     },
     "execution_count": 114,
     "metadata": {},
     "output_type": "execute_result"
    },
    {
     "data": {
      "image/png": "[encoded data removed]",
      "text/plain": [
       "<matplotlib.figure.Figure at 0x10f567390>"
      ]
     },
     "metadata": {},
     "output_type": "display_data"
    }
   ],
   "source": [
    "df = probabilityNoShow(appointments_2,'alcoholism')\n",
    "probabilityBarPlot(df)"
   ]
  },
  {
   "cell_type": "markdown",
   "metadata": {},
   "source": [
    "### significance test: chi-square\n",
    "```\n",
    "chi-square score = \n",
    "    sum of categories(\n",
    "        (expected - observed)**2 / expected\n",
    "    )\n",
    "\n",
    "degrees of freedom = \n",
    "    (# predictor values - 1) * (# target values - 1)\n",
    "    \n",
    "probability of error  = \n",
    "    p < 0.05\n",
    "```\n",
    "\n"
   ]
  },
  {
   "cell_type": "code",
   "execution_count": 67,
   "metadata": {},
   "outputs": [
    {
     "data": {
      "text/plain": [
       "17.515147557809769"
      ]
     },
     "execution_count": 67,
     "metadata": {},
     "output_type": "execute_result"
    }
   ],
   "source": [
    "df['expected_frequency'] = df['total'] * df['no_shows'].sum() /df['total'].sum()\n",
    "\n",
    "df['chi-square'] = (df['expected_frequency'] - df['no_shows'])**2 / df['expected_frequency']\n",
    "df['chi-square'].sum()"
   ]
  },
  {
   "cell_type": "markdown",
   "metadata": {},
   "source": [
    "<div class='alert alert-success'>\n",
    "<li>degrees of freedom = 1\n",
    "<li>threshold = 3.841\n",
    "<li>this is statistically significant\n",
    "</div>"
   ]
  },
  {
   "cell_type": "markdown",
   "metadata": {},
   "source": [
    "Alcoholics are more likely to miss their appointments. This is intuitive because alcoholism is correlated with difficulty in taking responsibility."
   ]
  },
  {
   "cell_type": "markdown",
   "metadata": {},
   "source": [
    "### posterior probability "
   ]
  },
  {
   "cell_type": "code",
   "execution_count": 128,
   "metadata": {},
   "outputs": [
    {
     "data": {
      "text/plain": [
       "0.029728476479983515"
      ]
     },
     "execution_count": 128,
     "metadata": {},
     "output_type": "execute_result"
    }
   ],
   "source": [
    "posteriorProbability(appointments_2,'alcoholism','no_show')"
   ]
  },
  {
   "cell_type": "markdown",
   "metadata": {},
   "source": [
    "## handicap"
   ]
  },
  {
   "cell_type": "code",
   "execution_count": 68,
   "metadata": {
    "scrolled": true
   },
   "outputs": [
    {
     "data": {
      "text/plain": [
       "<matplotlib.axes._subplots.AxesSubplot at 0x109248978>"
      ]
     },
     "execution_count": 68,
     "metadata": {},
     "output_type": "execute_result"
    },
    {
     "data": {
      "image/png": "[encoded data removed]",
      "text/plain": [
       "<matplotlib.figure.Figure at 0x1090a92b0>"
      ]
     },
     "metadata": {},
     "output_type": "display_data"
    }
   ],
   "source": [
    "sns.countplot(x='handicap', hue='no_show', data=appointments_2)"
   ]
  },
  {
   "cell_type": "markdown",
   "metadata": {},
   "source": [
    "Since there is so little data for the handicap levels 1, 2, 3, 4, I am going to combine them into a binary handicap column."
   ]
  },
  {
   "cell_type": "code",
   "execution_count": 69,
   "metadata": {},
   "outputs": [
    {
     "name": "stderr",
     "output_type": "stream",
     "text": [
      "/Users/nico/code/pydata-env/lib/python3.6/site-packages/ipykernel_launcher.py:7: SettingWithCopyWarning: \n",
      "A value is trying to be set on a copy of a slice from a DataFrame.\n",
      "Try using .loc[row_indexer,col_indexer] = value instead\n",
      "\n",
      "See the caveats in the documentation: http://pandas.pydata.org/pandas-docs/stable/indexing.html#indexing-view-versus-copy\n",
      "  import sys\n"
     ]
    }
   ],
   "source": [
    "def sortHandicap(entry):\n",
    "    if entry > 0:\n",
    "        return 1\n",
    "    else:\n",
    "        return 0\n",
    "    \n",
    "appointments_2['handicap_binary'] = appointments_2['handicap'].apply(sortHandicap)"
   ]
  },
  {
   "cell_type": "code",
   "execution_count": 70,
   "metadata": {},
   "outputs": [
    {
     "data": {
      "text/plain": [
       "<matplotlib.axes._subplots.AxesSubplot at 0x1091985c0>"
      ]
     },
     "execution_count": 70,
     "metadata": {},
     "output_type": "execute_result"
    },
    {
     "data": {
      "image/png": "[encoded data removed]",
      "text/plain": [
       "<matplotlib.figure.Figure at 0x10b7dee80>"
      ]
     },
     "metadata": {},
     "output_type": "display_data"
    }
   ],
   "source": [
    "sns.countplot(x='handicap_binary', hue='no_show', data=appointments_2)"
   ]
  },
  {
   "cell_type": "code",
   "execution_count": 115,
   "metadata": {
    "scrolled": true
   },
   "outputs": [
    {
     "data": {
      "text/plain": [
       "(<matplotlib.figure.Figure at 0x10f5e1550>,\n",
       " <matplotlib.axes._subplots.AxesSubplot at 0x10f582048>)"
      ]
     },
     "execution_count": 115,
     "metadata": {},
     "output_type": "execute_result"
    },
    {
     "data": {
      "image/png": "[encoded data removed]",
      "text/plain": [
       "<matplotlib.figure.Figure at 0x10f5e1550>"
      ]
     },
     "metadata": {},
     "output_type": "display_data"
    }
   ],
   "source": [
    "df = probabilityNoShow(appointments_2,'handicap_binary')\n",
    "probabilityBarPlot(df)"
   ]
  },
  {
   "cell_type": "markdown",
   "metadata": {},
   "source": [
    "### significance test: chi-square\n",
    "```\n",
    "chi-square score = \n",
    "    sum of categories(\n",
    "        (expected - observed)**2 / expected\n",
    "    )\n",
    "\n",
    "degrees of freedom = \n",
    "    (# predictor values - 1) * (# target values - 1)\n",
    "    \n",
    "probability of error  = \n",
    "    p < 0.05\n",
    "```\n",
    "\n"
   ]
  },
  {
   "cell_type": "code",
   "execution_count": 72,
   "metadata": {},
   "outputs": [
    {
     "data": {
      "text/plain": [
       "3.5339217836422061"
      ]
     },
     "execution_count": 72,
     "metadata": {},
     "output_type": "execute_result"
    }
   ],
   "source": [
    "df['expected_frequency'] = df['total'] * df['no_shows'].sum() /df['total'].sum()\n",
    "\n",
    "df['chi-square'] = (df['expected_frequency'] - df['no_shows'])**2 / df['expected_frequency']\n",
    "df['chi-square'].sum()"
   ]
  },
  {
   "cell_type": "markdown",
   "metadata": {},
   "source": [
    "<div class='alert alert-warning'>\n",
    "<li> degrees of freedom = 1\n",
    "<li> threshold = 3.841\n",
    "<li> this is not statistically significant\n",
    "</div>"
   ]
  },
  {
   "cell_type": "markdown",
   "metadata": {},
   "source": [
    "### posterior probability "
   ]
  },
  {
   "cell_type": "code",
   "execution_count": 129,
   "metadata": {},
   "outputs": [
    {
     "data": {
      "text/plain": [
       "0.015971971765675715"
      ]
     },
     "execution_count": 129,
     "metadata": {},
     "output_type": "execute_result"
    }
   ],
   "source": [
    "posteriorProbability(appointments_2,'handicap_binary','no_show')"
   ]
  },
  {
   "cell_type": "markdown",
   "metadata": {},
   "source": [
    "## sms received"
   ]
  },
  {
   "cell_type": "code",
   "execution_count": 73,
   "metadata": {
    "scrolled": true
   },
   "outputs": [
    {
     "data": {
      "text/plain": [
       "<matplotlib.axes._subplots.AxesSubplot at 0x109c7b7b8>"
      ]
     },
     "execution_count": 73,
     "metadata": {},
     "output_type": "execute_result"
    },
    {
     "data": {
      "image/png": "[encoded data removed]",
      "text/plain": [
       "<matplotlib.figure.Figure at 0x109c46780>"
      ]
     },
     "metadata": {},
     "output_type": "display_data"
    }
   ],
   "source": [
    "sns.countplot(x='sms_received', hue='no_show', data=appointments_2)"
   ]
  },
  {
   "cell_type": "markdown",
   "metadata": {},
   "source": [
    "### probability of no show"
   ]
  },
  {
   "cell_type": "code",
   "execution_count": 116,
   "metadata": {
    "scrolled": true
   },
   "outputs": [
    {
     "data": {
      "text/plain": [
       "(<matplotlib.figure.Figure at 0x10f640ac8>,\n",
       " <matplotlib.axes._subplots.AxesSubplot at 0x10f5fa9b0>)"
      ]
     },
     "execution_count": 116,
     "metadata": {},
     "output_type": "execute_result"
    },
    {
     "data": {
      "image/png": "[encoded data removed]",
      "text/plain": [
       "<matplotlib.figure.Figure at 0x10f640ac8>"
      ]
     },
     "metadata": {},
     "output_type": "display_data"
    }
   ],
   "source": [
    "df = probabilityNoShow(appointments_2,'sms_received')\n",
    "probabilityBarPlot(df)"
   ]
  },
  {
   "cell_type": "markdown",
   "metadata": {},
   "source": [
    "### significance test: chi-square\n",
    "```\n",
    "chi-square score = \n",
    "    sum of categories(\n",
    "        (expected - observed)**2 / expected\n",
    "    )\n",
    "\n",
    "degrees of freedom = \n",
    "    (# predictor values - 1) * (# target values - 1)\n",
    "    \n",
    "probability of error  = \n",
    "    p < 0.05\n",
    "```\n",
    "\n"
   ]
  },
  {
   "cell_type": "code",
   "execution_count": 75,
   "metadata": {},
   "outputs": [
    {
     "data": {
      "text/plain": [
       "58.953472890568378"
      ]
     },
     "execution_count": 75,
     "metadata": {},
     "output_type": "execute_result"
    }
   ],
   "source": [
    "df['expected_frequency'] = df['total'] * df['no_shows'].sum() /df['total'].sum()\n",
    "\n",
    "df['chi-square'] = (df['expected_frequency'] - df['no_shows'])**2 / df['expected_frequency']\n",
    "df['chi-square'].sum()"
   ]
  },
  {
   "cell_type": "markdown",
   "metadata": {},
   "source": [
    "<div class='alert alert-success'>\n",
    "<li>degrees of freedom = 1\n",
    "<li> threshold = 3.841\n",
    "<li> this is statistically significant\n",
    "</div>"
   ]
  },
  {
   "cell_type": "markdown",
   "metadata": {},
   "source": [
    "sending an sms very slightly increases the likelihood that someone will show up to their appointment."
   ]
  },
  {
   "cell_type": "markdown",
   "metadata": {},
   "source": [
    "### posterior probability "
   ]
  },
  {
   "cell_type": "code",
   "execution_count": 130,
   "metadata": {},
   "outputs": [
    {
     "data": {
      "text/plain": [
       "0.50409603792055235"
      ]
     },
     "execution_count": 130,
     "metadata": {},
     "output_type": "execute_result"
    }
   ],
   "source": [
    "posteriorProbability(appointments_2,'sms_received','no_show')"
   ]
  },
  {
   "cell_type": "markdown",
   "metadata": {},
   "source": [
    "## Conclusion"
   ]
  },
  {
   "cell_type": "markdown",
   "metadata": {},
   "source": [
    "### link to next section\n",
    "[logistic_regression](logistic_regression.ipynb)\n",
    "\n",
    "[random_forest](random_forest.ipynb)\n"
   ]
  },
  {
   "cell_type": "markdown",
   "metadata": {},
   "source": [
    "## export"
   ]
  },
  {
   "cell_type": "code",
   "execution_count": 76,
   "metadata": {},
   "outputs": [],
   "source": [
    "appointments_2.to_csv('../input/appointments-raw/appointments_2.csv')"
   ]
  },
  {
   "cell_type": "markdown",
   "metadata": {},
   "source": [
    "# logistic regression"
   ]
  },
  {
   "cell_type": "markdown",
   "metadata": {},
   "source": [
    "## imports"
   ]
  },
  {
   "cell_type": "code",
   "execution_count": 259,
   "metadata": {},
   "outputs": [],
   "source": [
    "import pandas as pd\n",
    "import numpy as np\n",
    "import matplotlib.pyplot as plt\n",
    "import seaborn as sns\n",
    "%matplotlib inline"
   ]
  },
  {
   "cell_type": "code",
   "execution_count": 260,
   "metadata": {},
   "outputs": [],
   "source": [
    "from sklearn.model_selection import train_test_split\n",
    "from sklearn.linear_model import LogisticRegression\n",
    "from sklearn.metrics import classification_report\n",
    "\n",
    "# user generated wrapper function with p values\n",
    "# https://gist.github.com/rspeare/77061e6e317896be29c6de9a85db301d\n",
    "# from p_values_for_logreg import LogisticReg"
   ]
  },
  {
   "cell_type": "markdown",
   "metadata": {},
   "source": [
    "## prep"
   ]
  },
  {
   "cell_type": "code",
   "execution_count": 261,
   "metadata": {},
   "outputs": [
    {
     "name": "stdout",
     "output_type": "stream",
     "text": [
      "<class 'pandas.core.frame.DataFrame'>\n",
      "RangeIndex: 66746 entries, 0 to 66745\n",
      "Data columns (total 20 columns):\n",
      "Unnamed: 0             66746 non-null int64\n",
      "appointment_id         66746 non-null int64\n",
      "patient_id             66746 non-null float64\n",
      "scheduled_day          66746 non-null object\n",
      "appointment_day        66746 non-null object\n",
      "age                    66746 non-null int64\n",
      "neighborhood           66746 non-null object\n",
      "scholarship            66746 non-null int64\n",
      "hypertension           66746 non-null int64\n",
      "diabetes               66746 non-null int64\n",
      "alcoholism             66746 non-null int64\n",
      "handicap               66746 non-null int64\n",
      "sms_received           66746 non-null int64\n",
      "no_show                66746 non-null int64\n",
      "male                   66746 non-null int64\n",
      "days_to_appointment    66746 non-null int64\n",
      "scheduled_weekday      66746 non-null int64\n",
      "appointment_weekday    66746 non-null int64\n",
      "age_cubed              66746 non-null int64\n",
      "handicap_binary        66746 non-null int64\n",
      "dtypes: float64(1), int64(16), object(3)\n",
      "memory usage: 10.2+ MB\n"
     ]
    }
   ],
   "source": [
    "appointments = pd.read_csv(\"../input/appointments-raw/appointments_2.csv\")\n",
    "appointments.info()"
   ]
  },
  {
   "cell_type": "code",
   "execution_count": 262,
   "metadata": {},
   "outputs": [],
   "source": [
    "# drop the useless features\n",
    "appointments = appointments.drop(['Unnamed: 0', 'appointment_id', \n",
    "                                  'patient_id', 'scheduled_day',\n",
    "                                  'appointment_day','age_cubed'],\n",
    "                                 axis=1\n",
    "                                )"
   ]
  },
  {
   "cell_type": "markdown",
   "metadata": {},
   "source": [
    "### get dummies"
   ]
  },
  {
   "cell_type": "code",
   "execution_count": 263,
   "metadata": {},
   "outputs": [],
   "source": [
    "# get dummies for categorical data: appointment day, neighborhood\n",
    "# only do this for categorical features we know have statistical significance\n",
    "appointments_dummies = pd.get_dummies(\n",
    "    appointments, \n",
    "    columns=['scheduled_weekday','appointment_weekday','neighborhood'],\n",
    "    drop_first=True)"
   ]
  },
  {
   "cell_type": "markdown",
   "metadata": {},
   "source": [
    "### export"
   ]
  },
  {
   "cell_type": "code",
   "execution_count": 281,
   "metadata": {},
   "outputs": [],
   "source": [
    "# export dummies\n",
    "appointments_dummies.to_csv('../input/appointments-raw/appointments_dummies.csv',index=False)"
   ]
  },
  {
   "cell_type": "code",
   "execution_count": 265,
   "metadata": {},
   "outputs": [],
   "source": [
    "# create feature sets to facilitate trying different features in model\n",
    "features_dummies = set(appointments_dummies.columns) - set(appointments.columns)\n",
    "\n",
    "features_neighborhood = []\n",
    "for column in features_dummies:\n",
    "    if 'neighborhood' in column:\n",
    "            features_neighborhood.append(column)\n",
    "            \n",
    "features_weekday = []\n",
    "for column in features_dummies:\n",
    "    if 'weekday' in column:\n",
    "            features_weekday.append(column)"
   ]
  },
  {
   "cell_type": "code",
   "execution_count": 266,
   "metadata": {},
   "outputs": [],
   "source": [
    "appointments = appointments.drop('neighborhood',axis=1)"
   ]
  },
  {
   "cell_type": "markdown",
   "metadata": {},
   "source": [
    "### p values"
   ]
  },
  {
   "cell_type": "code",
   "execution_count": 267,
   "metadata": {},
   "outputs": [
    {
     "data": {
      "text/html": [
       "<div>\n",
       "<style>\n",
       "    .dataframe thead tr:only-child th {\n",
       "        text-align: right;\n",
       "    }\n",
       "\n",
       "    .dataframe thead th {\n",
       "        text-align: left;\n",
       "    }\n",
       "\n",
       "    .dataframe tbody tr th {\n",
       "        vertical-align: top;\n",
       "    }\n",
       "</style>\n",
       "<table border=\"1\" class=\"dataframe\">\n",
       "  <thead>\n",
       "    <tr style=\"text-align: right;\">\n",
       "      <th></th>\n",
       "      <th>p_value</th>\n",
       "    </tr>\n",
       "  </thead>\n",
       "  <tbody>\n",
       "    <tr>\n",
       "      <th>male</th>\n",
       "      <td>3.378687e-01</td>\n",
       "    </tr>\n",
       "    <tr>\n",
       "      <th>appointment_weekday</th>\n",
       "      <td>1.485553e-01</td>\n",
       "    </tr>\n",
       "    <tr>\n",
       "      <th>scheduled_weekday</th>\n",
       "      <td>8.865173e-02</td>\n",
       "    </tr>\n",
       "    <tr>\n",
       "      <th>handicap</th>\n",
       "      <td>4.695163e-02</td>\n",
       "    </tr>\n",
       "    <tr>\n",
       "      <th>handicap_binary</th>\n",
       "      <td>2.694353e-02</td>\n",
       "    </tr>\n",
       "    <tr>\n",
       "      <th>alcoholism</th>\n",
       "      <td>9.249300e-07</td>\n",
       "    </tr>\n",
       "    <tr>\n",
       "      <th>diabetes</th>\n",
       "      <td>2.129059e-08</td>\n",
       "    </tr>\n",
       "    <tr>\n",
       "      <th>sms_received</th>\n",
       "      <td>4.378920e-10</td>\n",
       "    </tr>\n",
       "    <tr>\n",
       "      <th>scholarship</th>\n",
       "      <td>4.867132e-30</td>\n",
       "    </tr>\n",
       "    <tr>\n",
       "      <th>hypertension</th>\n",
       "      <td>2.024157e-39</td>\n",
       "    </tr>\n",
       "    <tr>\n",
       "      <th>age</th>\n",
       "      <td>0.000000e+00</td>\n",
       "    </tr>\n",
       "    <tr>\n",
       "      <th>days_to_appointment</th>\n",
       "      <td>0.000000e+00</td>\n",
       "    </tr>\n",
       "  </tbody>\n",
       "</table>\n",
       "</div>"
      ],
      "text/plain": [
       "                          p_value\n",
       "male                 3.378687e-01\n",
       "appointment_weekday  1.485553e-01\n",
       "scheduled_weekday    8.865173e-02\n",
       "handicap             4.695163e-02\n",
       "handicap_binary      2.694353e-02\n",
       "alcoholism           9.249300e-07\n",
       "diabetes             2.129059e-08\n",
       "sms_received         4.378920e-10\n",
       "scholarship          4.867132e-30\n",
       "hypertension         2.024157e-39\n",
       "age                  0.000000e+00\n",
       "days_to_appointment  0.000000e+00"
      ]
     },
     "execution_count": 267,
     "metadata": {},
     "output_type": "execute_result"
    }
   ],
   "source": [
    "# find the p values to know which features are most highly correlated\n",
    "from sklearn.feature_selection import chi2\n",
    "\n",
    "data = appointments.drop(['no_show'],axis=1)\n",
    "X = data.loc[:,:]\n",
    "y = appointments['no_show'].loc[:]\n",
    "\n",
    "scores, p_values = chi2(X, y)\n",
    "\n",
    "\n",
    "pd.DataFrame(data=p_values,index=data.columns,columns=['p_value'])\\\n",
    "    .sort_values(by='p_value', ascending=False)"
   ]
  },
  {
   "cell_type": "markdown",
   "metadata": {},
   "source": [
    "<div class='alert alert-danger'>\n",
    "<li>source: https://stackoverflow.com/questions/22306341/python-sklearn-how-to-calculate-p-values\n",
    "<li>These p values do not correspond to the research I did previously on correlations. Appointment weekday has a higher correlation than male,for example. Is this p value the same as what paul recommended?\n",
    "<li>in retrospect, it looks like this was not to the right test\n",
    "<li>separately, this library did not use the 'frequency' features of age and days to appointment. I must've done it wrong.\n",
    "</div>"
   ]
  },
  {
   "cell_type": "markdown",
   "metadata": {},
   "source": [
    "# logistic regression"
   ]
  },
  {
   "cell_type": "markdown",
   "metadata": {},
   "source": [
    "## without dummies"
   ]
  },
  {
   "cell_type": "markdown",
   "metadata": {},
   "source": [
    "This is a test run. a simpler model is easier to play around with."
   ]
  },
  {
   "cell_type": "code",
   "execution_count": 268,
   "metadata": {},
   "outputs": [
    {
     "data": {
      "text/plain": [
       "LogisticRegression(C=1.0, class_weight=None, dual=False, fit_intercept=True,\n",
       "          intercept_scaling=1, max_iter=100, multi_class='ovr', n_jobs=1,\n",
       "          penalty='l2', random_state=None, solver='liblinear', tol=0.0001,\n",
       "          verbose=0, warm_start=False)"
      ]
     },
     "execution_count": 268,
     "metadata": {},
     "output_type": "execute_result"
    }
   ],
   "source": [
    "# split the data for training and testing\n",
    "x = appointments.drop('no_show',axis=1)\n",
    "y = appointments['no_show']\n",
    "\n",
    "x_train, x_test, y_train, y_test = train_test_split(x, y, test_size=0.2, random_state=1)\n",
    "\n",
    "# train the model\n",
    "model = LogisticRegression()\n",
    "model.fit(x_train,y_train)"
   ]
  },
  {
   "cell_type": "code",
   "execution_count": 269,
   "metadata": {},
   "outputs": [
    {
     "name": "stdout",
     "output_type": "stream",
     "text": [
      "             precision    recall  f1-score   support\n",
      "\n",
      "          0       0.71      1.00      0.83      9466\n",
      "          1       0.50      0.00      0.01      3884\n",
      "\n",
      "avg / total       0.65      0.71      0.59     13350\n",
      "\n"
     ]
    }
   ],
   "source": [
    "predictions = model.predict(x_test)\n",
    "\n",
    "print(classification_report(y_test,predictions))"
   ]
  },
  {
   "cell_type": "markdown",
   "metadata": {},
   "source": [
    "<div class='alert alert-danger'>\n",
    "<li>I included age_cubed into my model, and it ruined it. does this mean that I need to use standard scaler to make this play nice with the others? if that is the case,screws how does the standard scaler differentiate between frequency and boolean variables?\n",
    "</div>"
   ]
  },
  {
   "cell_type": "markdown",
   "metadata": {},
   "source": [
    "### p values"
   ]
  },
  {
   "cell_type": "code",
   "execution_count": 270,
   "metadata": {},
   "outputs": [],
   "source": [
    "# look at the p values for all predictors\n",
    "# this will tell you which ones are most valuable"
   ]
  },
  {
   "cell_type": "markdown",
   "metadata": {},
   "source": [
    "<div class='alert alert-danger'>\n",
    "<li>https://datascience.stackexchange.com/questions/15398/how-to-get-p-value-and-confident-interval-in-logisticregression-with-sklearn\n",
    "<li>according to the link above, there's no built-in way to do this. this seems problematic for scikit learn\n",
    "</div>"
   ]
  },
  {
   "cell_type": "code",
   "execution_count": 271,
   "metadata": {
    "scrolled": false
   },
   "outputs": [
    {
     "data": {
      "text/html": [
       "<div>\n",
       "<style>\n",
       "    .dataframe thead tr:only-child th {\n",
       "        text-align: right;\n",
       "    }\n",
       "\n",
       "    .dataframe thead th {\n",
       "        text-align: left;\n",
       "    }\n",
       "\n",
       "    .dataframe tbody tr th {\n",
       "        vertical-align: top;\n",
       "    }\n",
       "</style>\n",
       "<table border=\"1\" class=\"dataframe\">\n",
       "  <thead>\n",
       "    <tr style=\"text-align: right;\">\n",
       "      <th></th>\n",
       "      <th>coefficient</th>\n",
       "    </tr>\n",
       "  </thead>\n",
       "  <tbody>\n",
       "    <tr>\n",
       "      <th>alcoholism</th>\n",
       "      <td>0.401292</td>\n",
       "    </tr>\n",
       "    <tr>\n",
       "      <th>scholarship</th>\n",
       "      <td>0.271958</td>\n",
       "    </tr>\n",
       "    <tr>\n",
       "      <th>diabetes</th>\n",
       "      <td>0.114890</td>\n",
       "    </tr>\n",
       "    <tr>\n",
       "      <th>handicap</th>\n",
       "      <td>0.012920</td>\n",
       "    </tr>\n",
       "    <tr>\n",
       "      <th>days_to_appointment</th>\n",
       "      <td>0.007787</td>\n",
       "    </tr>\n",
       "    <tr>\n",
       "      <th>scheduled_weekday</th>\n",
       "      <td>-0.005487</td>\n",
       "    </tr>\n",
       "    <tr>\n",
       "      <th>age</th>\n",
       "      <td>-0.009865</td>\n",
       "    </tr>\n",
       "    <tr>\n",
       "      <th>appointment_weekday</th>\n",
       "      <td>-0.021474</td>\n",
       "    </tr>\n",
       "    <tr>\n",
       "      <th>male</th>\n",
       "      <td>-0.024309</td>\n",
       "    </tr>\n",
       "    <tr>\n",
       "      <th>handicap_binary</th>\n",
       "      <td>-0.026300</td>\n",
       "    </tr>\n",
       "    <tr>\n",
       "      <th>hypertension</th>\n",
       "      <td>-0.058539</td>\n",
       "    </tr>\n",
       "    <tr>\n",
       "      <th>sms_received</th>\n",
       "      <td>-0.250705</td>\n",
       "    </tr>\n",
       "  </tbody>\n",
       "</table>\n",
       "</div>"
      ],
      "text/plain": [
       "                     coefficient\n",
       "alcoholism              0.401292\n",
       "scholarship             0.271958\n",
       "diabetes                0.114890\n",
       "handicap                0.012920\n",
       "days_to_appointment     0.007787\n",
       "scheduled_weekday      -0.005487\n",
       "age                    -0.009865\n",
       "appointment_weekday    -0.021474\n",
       "male                   -0.024309\n",
       "handicap_binary        -0.026300\n",
       "hypertension           -0.058539\n",
       "sms_received           -0.250705"
      ]
     },
     "execution_count": 271,
     "metadata": {},
     "output_type": "execute_result"
    }
   ],
   "source": [
    "# look at the coefficients just for curiosity sake\n",
    "pd.DataFrame(data=model.coef_[0],index=x.columns,columns=['coefficient'])\\\n",
    "    .sort_values(by='coefficient', ascending=False)"
   ]
  },
  {
   "cell_type": "markdown",
   "metadata": {},
   "source": [
    "<div class='alert alert-info'>\n",
    "I observed that the optimal list has very little to do with the coefficient size. I was able to remove features with higher coefficients without changing my outcomes. yet when I removed features with very little coefficients, I got worse outcomes. it appears that looking at a coefficient is the wrong way to determine if a feature should be part of the model.\n",
    "<li>why is this the case?\n",
    "<li>Coefficients determine the slope of a function, not how well the function fits the data. High coefficients merely mean a different type of slope.\n",
    "</div>"
   ]
  },
  {
   "cell_type": "markdown",
   "metadata": {},
   "source": [
    "## with dummies"
   ]
  },
  {
   "cell_type": "markdown",
   "metadata": {},
   "source": [
    "Here I use all predictors. With so many dummies we lose explanatory power, but we potentially increase prediction."
   ]
  },
  {
   "cell_type": "code",
   "execution_count": 272,
   "metadata": {},
   "outputs": [
    {
     "data": {
      "text/plain": [
       "LogisticRegression(C=1.0, class_weight=None, dual=False, fit_intercept=True,\n",
       "          intercept_scaling=1, max_iter=100, multi_class='ovr', n_jobs=1,\n",
       "          penalty='l2', random_state=None, solver='liblinear', tol=0.0001,\n",
       "          verbose=0, warm_start=False)"
      ]
     },
     "execution_count": 272,
     "metadata": {},
     "output_type": "execute_result"
    }
   ],
   "source": [
    "# split the data for training and testing\n",
    "x = appointments_dummies.drop(['no_show'],axis=1)\n",
    "y = appointments_dummies['no_show']\n",
    "\n",
    "x_train, x_test, y_train, y_test = train_test_split(x, y, test_size=0.2, random_state=1)\n",
    "\n",
    "# train the model\n",
    "model = LogisticRegression()\n",
    "model.fit(x_train,y_train)"
   ]
  },
  {
   "cell_type": "code",
   "execution_count": 273,
   "metadata": {},
   "outputs": [
    {
     "name": "stdout",
     "output_type": "stream",
     "text": [
      "             precision    recall  f1-score   support\n",
      "\n",
      "          0       0.71      1.00      0.83      9466\n",
      "          1       0.52      0.01      0.01      3884\n",
      "\n",
      "avg / total       0.65      0.71      0.59     13350\n",
      "\n"
     ]
    }
   ],
   "source": [
    "predictions = model.predict(x_test)\n",
    "\n",
    "print(classification_report(y_test,predictions))"
   ]
  },
  {
   "cell_type": "markdown",
   "metadata": {},
   "source": [
    "### coefficients and correlations"
   ]
  },
  {
   "cell_type": "markdown",
   "metadata": {},
   "source": [
    "I want to see the connection between correlation and coefficient stats. this will not help the model, but I am curious."
   ]
  },
  {
   "cell_type": "code",
   "execution_count": 280,
   "metadata": {},
   "outputs": [
    {
     "data": {
      "text/html": [
       "<div>\n",
       "<style>\n",
       "    .dataframe thead tr:only-child th {\n",
       "        text-align: right;\n",
       "    }\n",
       "\n",
       "    .dataframe thead th {\n",
       "        text-align: left;\n",
       "    }\n",
       "\n",
       "    .dataframe tbody tr th {\n",
       "        vertical-align: top;\n",
       "    }\n",
       "</style>\n",
       "<table border=\"1\" class=\"dataframe\">\n",
       "  <thead>\n",
       "    <tr style=\"text-align: right;\">\n",
       "      <th></th>\n",
       "      <th>coefficient</th>\n",
       "      <th>correlation</th>\n",
       "    </tr>\n",
       "  </thead>\n",
       "  <tbody>\n",
       "    <tr>\n",
       "      <th>neighborhood_ANDORINHAS</th>\n",
       "      <td>0.221020</td>\n",
       "      <td>0.012861</td>\n",
       "    </tr>\n",
       "    <tr>\n",
       "      <th>neighborhood_ANTÔNIO HONÓRIO</th>\n",
       "      <td>-0.190862</td>\n",
       "      <td>-0.004915</td>\n",
       "    </tr>\n",
       "    <tr>\n",
       "      <th>neighborhood_ARIOVALDO FAVALESSA</th>\n",
       "      <td>0.347410</td>\n",
       "      <td>0.006062</td>\n",
       "    </tr>\n",
       "    <tr>\n",
       "      <th>neighborhood_BARRO VERMELHO</th>\n",
       "      <td>0.211257</td>\n",
       "      <td>-0.001008</td>\n",
       "    </tr>\n",
       "    <tr>\n",
       "      <th>neighborhood_BELA VISTA</th>\n",
       "      <td>0.023389</td>\n",
       "      <td>-0.000075</td>\n",
       "    </tr>\n",
       "    <tr>\n",
       "      <th>neighborhood_BENTO FERREIRA</th>\n",
       "      <td>0.047623</td>\n",
       "      <td>-0.003097</td>\n",
       "    </tr>\n",
       "    <tr>\n",
       "      <th>neighborhood_BOA VISTA</th>\n",
       "      <td>-0.186964</td>\n",
       "      <td>-0.004543</td>\n",
       "    </tr>\n",
       "    <tr>\n",
       "      <th>neighborhood_BONFIM</th>\n",
       "      <td>0.071392</td>\n",
       "      <td>0.005028</td>\n",
       "    </tr>\n",
       "    <tr>\n",
       "      <th>neighborhood_CARATOÍRA</th>\n",
       "      <td>0.228883</td>\n",
       "      <td>0.014007</td>\n",
       "    </tr>\n",
       "    <tr>\n",
       "      <th>neighborhood_CENTRO</th>\n",
       "      <td>0.110621</td>\n",
       "      <td>0.000045</td>\n",
       "    </tr>\n",
       "    <tr>\n",
       "      <th>neighborhood_COMDUSA</th>\n",
       "      <td>-0.125387</td>\n",
       "      <td>-0.005699</td>\n",
       "    </tr>\n",
       "    <tr>\n",
       "      <th>neighborhood_CONQUISTA</th>\n",
       "      <td>0.052349</td>\n",
       "      <td>0.003774</td>\n",
       "    </tr>\n",
       "    <tr>\n",
       "      <th>neighborhood_CONSOLAÇÃO</th>\n",
       "      <td>-0.088916</td>\n",
       "      <td>-0.002981</td>\n",
       "    </tr>\n",
       "    <tr>\n",
       "      <th>neighborhood_CRUZAMENTO</th>\n",
       "      <td>-0.091177</td>\n",
       "      <td>-0.002379</td>\n",
       "    </tr>\n",
       "    <tr>\n",
       "      <th>neighborhood_DA PENHA</th>\n",
       "      <td>0.035694</td>\n",
       "      <td>-0.001211</td>\n",
       "    </tr>\n",
       "    <tr>\n",
       "      <th>neighborhood_DE LOURDES</th>\n",
       "      <td>-0.267452</td>\n",
       "      <td>-0.011255</td>\n",
       "    </tr>\n",
       "    <tr>\n",
       "      <th>neighborhood_DO CABRAL</th>\n",
       "      <td>-0.295543</td>\n",
       "      <td>-0.008987</td>\n",
       "    </tr>\n",
       "    <tr>\n",
       "      <th>neighborhood_DO MOSCOSO</th>\n",
       "      <td>-0.043984</td>\n",
       "      <td>0.001047</td>\n",
       "    </tr>\n",
       "    <tr>\n",
       "      <th>neighborhood_DO QUADRO</th>\n",
       "      <td>-0.420555</td>\n",
       "      <td>-0.014351</td>\n",
       "    </tr>\n",
       "    <tr>\n",
       "      <th>neighborhood_ENSEADA DO SUÁ</th>\n",
       "      <td>0.305976</td>\n",
       "      <td>0.002078</td>\n",
       "    </tr>\n",
       "    <tr>\n",
       "      <th>neighborhood_ESTRELINHA</th>\n",
       "      <td>-0.010903</td>\n",
       "      <td>-0.002845</td>\n",
       "    </tr>\n",
       "    <tr>\n",
       "      <th>neighborhood_FONTE GRANDE</th>\n",
       "      <td>0.003338</td>\n",
       "      <td>0.001028</td>\n",
       "    </tr>\n",
       "    <tr>\n",
       "      <th>neighborhood_FORTE SÃO JOÃO</th>\n",
       "      <td>-0.197629</td>\n",
       "      <td>-0.013491</td>\n",
       "    </tr>\n",
       "    <tr>\n",
       "      <th>neighborhood_FRADINHOS</th>\n",
       "      <td>-0.152702</td>\n",
       "      <td>-0.003398</td>\n",
       "    </tr>\n",
       "    <tr>\n",
       "      <th>neighborhood_GOIABEIRAS</th>\n",
       "      <td>-0.138450</td>\n",
       "      <td>-0.012229</td>\n",
       "    </tr>\n",
       "    <tr>\n",
       "      <th>neighborhood_GRANDE VITÓRIA</th>\n",
       "      <td>-0.014530</td>\n",
       "      <td>-0.004950</td>\n",
       "    </tr>\n",
       "    <tr>\n",
       "      <th>neighborhood_GURIGICA</th>\n",
       "      <td>0.427915</td>\n",
       "      <td>0.026887</td>\n",
       "    </tr>\n",
       "    <tr>\n",
       "      <th>neighborhood_HORTO</th>\n",
       "      <td>0.598090</td>\n",
       "      <td>0.007888</td>\n",
       "    </tr>\n",
       "    <tr>\n",
       "      <th>neighborhood_ILHA DAS CAIEIRAS</th>\n",
       "      <td>-0.089291</td>\n",
       "      <td>-0.002016</td>\n",
       "    </tr>\n",
       "    <tr>\n",
       "      <th>neighborhood_ILHA DE SANTA MARIA</th>\n",
       "      <td>-0.131406</td>\n",
       "      <td>-0.005512</td>\n",
       "    </tr>\n",
       "    <tr>\n",
       "      <th>...</th>\n",
       "      <td>...</td>\n",
       "      <td>...</td>\n",
       "    </tr>\n",
       "    <tr>\n",
       "      <th>neighborhood_NOVA PALESTINA</th>\n",
       "      <td>0.075127</td>\n",
       "      <td>0.002391</td>\n",
       "    </tr>\n",
       "    <tr>\n",
       "      <th>neighborhood_PARQUE MOSCOSO</th>\n",
       "      <td>0.085632</td>\n",
       "      <td>-0.002684</td>\n",
       "    </tr>\n",
       "    <tr>\n",
       "      <th>neighborhood_PIEDADE</th>\n",
       "      <td>0.026587</td>\n",
       "      <td>0.002058</td>\n",
       "    </tr>\n",
       "    <tr>\n",
       "      <th>neighborhood_PONTAL DE CAMBURI</th>\n",
       "      <td>0.025396</td>\n",
       "      <td>-0.001830</td>\n",
       "    </tr>\n",
       "    <tr>\n",
       "      <th>neighborhood_PRAIA DO CANTO</th>\n",
       "      <td>0.051145</td>\n",
       "      <td>-0.007635</td>\n",
       "    </tr>\n",
       "    <tr>\n",
       "      <th>neighborhood_PRAIA DO SUÁ</th>\n",
       "      <td>0.167640</td>\n",
       "      <td>0.004365</td>\n",
       "    </tr>\n",
       "    <tr>\n",
       "      <th>neighborhood_REDENÇÃO</th>\n",
       "      <td>0.056657</td>\n",
       "      <td>-0.002739</td>\n",
       "    </tr>\n",
       "    <tr>\n",
       "      <th>neighborhood_REPÚBLICA</th>\n",
       "      <td>-0.132546</td>\n",
       "      <td>-0.011136</td>\n",
       "    </tr>\n",
       "    <tr>\n",
       "      <th>neighborhood_RESISTÊNCIA</th>\n",
       "      <td>0.037161</td>\n",
       "      <td>0.009998</td>\n",
       "    </tr>\n",
       "    <tr>\n",
       "      <th>neighborhood_ROMÃO</th>\n",
       "      <td>0.135896</td>\n",
       "      <td>0.004999</td>\n",
       "    </tr>\n",
       "    <tr>\n",
       "      <th>neighborhood_SANTA CECÍLIA</th>\n",
       "      <td>0.273838</td>\n",
       "      <td>0.009560</td>\n",
       "    </tr>\n",
       "    <tr>\n",
       "      <th>neighborhood_SANTA CLARA</th>\n",
       "      <td>0.192198</td>\n",
       "      <td>0.008108</td>\n",
       "    </tr>\n",
       "    <tr>\n",
       "      <th>neighborhood_SANTA HELENA</th>\n",
       "      <td>0.051422</td>\n",
       "      <td>-0.000697</td>\n",
       "    </tr>\n",
       "    <tr>\n",
       "      <th>neighborhood_SANTA LUÍZA</th>\n",
       "      <td>-0.265724</td>\n",
       "      <td>-0.008151</td>\n",
       "    </tr>\n",
       "    <tr>\n",
       "      <th>neighborhood_SANTA LÚCIA</th>\n",
       "      <td>0.059669</td>\n",
       "      <td>-0.004528</td>\n",
       "    </tr>\n",
       "    <tr>\n",
       "      <th>neighborhood_SANTA MARTHA</th>\n",
       "      <td>-0.044650</td>\n",
       "      <td>-0.000164</td>\n",
       "    </tr>\n",
       "    <tr>\n",
       "      <th>neighborhood_SANTA TEREZA</th>\n",
       "      <td>-0.144815</td>\n",
       "      <td>-0.005020</td>\n",
       "    </tr>\n",
       "    <tr>\n",
       "      <th>neighborhood_SANTO ANDRÉ</th>\n",
       "      <td>0.141239</td>\n",
       "      <td>0.003908</td>\n",
       "    </tr>\n",
       "    <tr>\n",
       "      <th>neighborhood_SANTO ANTÔNIO</th>\n",
       "      <td>-0.047946</td>\n",
       "      <td>-0.011231</td>\n",
       "    </tr>\n",
       "    <tr>\n",
       "      <th>neighborhood_SANTOS DUMONT</th>\n",
       "      <td>0.288667</td>\n",
       "      <td>0.016241</td>\n",
       "    </tr>\n",
       "    <tr>\n",
       "      <th>neighborhood_SANTOS REIS</th>\n",
       "      <td>-0.034322</td>\n",
       "      <td>-0.001866</td>\n",
       "    </tr>\n",
       "    <tr>\n",
       "      <th>neighborhood_SEGURANÇA DO LAR</th>\n",
       "      <td>-0.204313</td>\n",
       "      <td>-0.004509</td>\n",
       "    </tr>\n",
       "    <tr>\n",
       "      <th>neighborhood_SOLON BORGES</th>\n",
       "      <td>-0.649419</td>\n",
       "      <td>-0.015078</td>\n",
       "    </tr>\n",
       "    <tr>\n",
       "      <th>neighborhood_SÃO BENEDITO</th>\n",
       "      <td>0.058303</td>\n",
       "      <td>0.005796</td>\n",
       "    </tr>\n",
       "    <tr>\n",
       "      <th>neighborhood_SÃO CRISTÓVÃO</th>\n",
       "      <td>-0.051301</td>\n",
       "      <td>-0.003465</td>\n",
       "    </tr>\n",
       "    <tr>\n",
       "      <th>neighborhood_SÃO JOSÉ</th>\n",
       "      <td>0.030793</td>\n",
       "      <td>-0.003005</td>\n",
       "    </tr>\n",
       "    <tr>\n",
       "      <th>neighborhood_SÃO PEDRO</th>\n",
       "      <td>0.035948</td>\n",
       "      <td>-0.002099</td>\n",
       "    </tr>\n",
       "    <tr>\n",
       "      <th>neighborhood_TABUAZEIRO</th>\n",
       "      <td>-0.048662</td>\n",
       "      <td>-0.004768</td>\n",
       "    </tr>\n",
       "    <tr>\n",
       "      <th>neighborhood_UNIVERSITÁRIO</th>\n",
       "      <td>0.213514</td>\n",
       "      <td>-0.000682</td>\n",
       "    </tr>\n",
       "    <tr>\n",
       "      <th>neighborhood_VILA RUBIM</th>\n",
       "      <td>-0.193976</td>\n",
       "      <td>-0.012552</td>\n",
       "    </tr>\n",
       "  </tbody>\n",
       "</table>\n",
       "<p>79 rows × 2 columns</p>\n",
       "</div>"
      ],
      "text/plain": [
       "                                  coefficient  correlation\n",
       "neighborhood_ANDORINHAS              0.221020     0.012861\n",
       "neighborhood_ANTÔNIO HONÓRIO        -0.190862    -0.004915\n",
       "neighborhood_ARIOVALDO FAVALESSA     0.347410     0.006062\n",
       "neighborhood_BARRO VERMELHO          0.211257    -0.001008\n",
       "neighborhood_BELA VISTA              0.023389    -0.000075\n",
       "neighborhood_BENTO FERREIRA          0.047623    -0.003097\n",
       "neighborhood_BOA VISTA              -0.186964    -0.004543\n",
       "neighborhood_BONFIM                  0.071392     0.005028\n",
       "neighborhood_CARATOÍRA               0.228883     0.014007\n",
       "neighborhood_CENTRO                  0.110621     0.000045\n",
       "neighborhood_COMDUSA                -0.125387    -0.005699\n",
       "neighborhood_CONQUISTA               0.052349     0.003774\n",
       "neighborhood_CONSOLAÇÃO             -0.088916    -0.002981\n",
       "neighborhood_CRUZAMENTO             -0.091177    -0.002379\n",
       "neighborhood_DA PENHA                0.035694    -0.001211\n",
       "neighborhood_DE LOURDES             -0.267452    -0.011255\n",
       "neighborhood_DO CABRAL              -0.295543    -0.008987\n",
       "neighborhood_DO MOSCOSO             -0.043984     0.001047\n",
       "neighborhood_DO QUADRO              -0.420555    -0.014351\n",
       "neighborhood_ENSEADA DO SUÁ          0.305976     0.002078\n",
       "neighborhood_ESTRELINHA             -0.010903    -0.002845\n",
       "neighborhood_FONTE GRANDE            0.003338     0.001028\n",
       "neighborhood_FORTE SÃO JOÃO         -0.197629    -0.013491\n",
       "neighborhood_FRADINHOS              -0.152702    -0.003398\n",
       "neighborhood_GOIABEIRAS             -0.138450    -0.012229\n",
       "neighborhood_GRANDE VITÓRIA         -0.014530    -0.004950\n",
       "neighborhood_GURIGICA                0.427915     0.026887\n",
       "neighborhood_HORTO                   0.598090     0.007888\n",
       "neighborhood_ILHA DAS CAIEIRAS      -0.089291    -0.002016\n",
       "neighborhood_ILHA DE SANTA MARIA    -0.131406    -0.005512\n",
       "...                                       ...          ...\n",
       "neighborhood_NOVA PALESTINA          0.075127     0.002391\n",
       "neighborhood_PARQUE MOSCOSO          0.085632    -0.002684\n",
       "neighborhood_PIEDADE                 0.026587     0.002058\n",
       "neighborhood_PONTAL DE CAMBURI       0.025396    -0.001830\n",
       "neighborhood_PRAIA DO CANTO          0.051145    -0.007635\n",
       "neighborhood_PRAIA DO SUÁ            0.167640     0.004365\n",
       "neighborhood_REDENÇÃO                0.056657    -0.002739\n",
       "neighborhood_REPÚBLICA              -0.132546    -0.011136\n",
       "neighborhood_RESISTÊNCIA             0.037161     0.009998\n",
       "neighborhood_ROMÃO                   0.135896     0.004999\n",
       "neighborhood_SANTA CECÍLIA           0.273838     0.009560\n",
       "neighborhood_SANTA CLARA             0.192198     0.008108\n",
       "neighborhood_SANTA HELENA            0.051422    -0.000697\n",
       "neighborhood_SANTA LUÍZA            -0.265724    -0.008151\n",
       "neighborhood_SANTA LÚCIA             0.059669    -0.004528\n",
       "neighborhood_SANTA MARTHA           -0.044650    -0.000164\n",
       "neighborhood_SANTA TEREZA           -0.144815    -0.005020\n",
       "neighborhood_SANTO ANDRÉ             0.141239     0.003908\n",
       "neighborhood_SANTO ANTÔNIO          -0.047946    -0.011231\n",
       "neighborhood_SANTOS DUMONT           0.288667     0.016241\n",
       "neighborhood_SANTOS REIS            -0.034322    -0.001866\n",
       "neighborhood_SEGURANÇA DO LAR       -0.204313    -0.004509\n",
       "neighborhood_SOLON BORGES           -0.649419    -0.015078\n",
       "neighborhood_SÃO BENEDITO            0.058303     0.005796\n",
       "neighborhood_SÃO CRISTÓVÃO          -0.051301    -0.003465\n",
       "neighborhood_SÃO JOSÉ                0.030793    -0.003005\n",
       "neighborhood_SÃO PEDRO               0.035948    -0.002099\n",
       "neighborhood_TABUAZEIRO             -0.048662    -0.004768\n",
       "neighborhood_UNIVERSITÁRIO           0.213514    -0.000682\n",
       "neighborhood_VILA RUBIM             -0.193976    -0.012552\n",
       "\n",
       "[79 rows x 2 columns]"
      ]
     },
     "execution_count": 280,
     "metadata": {},
     "output_type": "execute_result"
    }
   ],
   "source": [
    "# make coefficients in the data frame to merge with correlations\n",
    "coefficients = pd.DataFrame(\n",
    "    data=model.coef_[0],\n",
    "    index=x.columns,\n",
    "    columns=['coefficient']\n",
    ")\n",
    "    \n",
    "# calculate correlations     \n",
    "correlations = appointments_dummies.corr()\n",
    "correlations = correlations.loc[features_neighborhood,'no_show']    \n",
    "\n",
    "correlations = pd.DataFrame(\n",
    "    data=correlations.values,\n",
    "    index=correlations.index,\n",
    "    columns=['correlation']\n",
    ")\n",
    "\n",
    "# join the 2\n",
    "coefficients.merge(correlations,left_index=True,right_index=True)"
   ]
  },
  {
   "cell_type": "markdown",
   "metadata": {},
   "source": [
    "<div class='alert alert-info'>\n",
    "why do some of these neighborhoods have such high coefficients, even though their \n",
    "correlations are very low?\n",
    "<li>coefficient does not mean correlation\n",
    "these neighborhoods have higher coefficients than my other features, but my guess is that there are so many of them that they decrease the precision by adding a lot of noise. does that mean there is potential to improve this model by removing some of these neighborhoods but not all? if so,which ones?\n",
    "<li>a bad predictor is better than no predictor. you do not need to remove columns unless you are trying to optimize for time constraints, or explanatory power.\n",
    "</div>"
   ]
  },
  {
   "cell_type": "markdown",
   "metadata": {},
   "source": [
    "## ideas\n",
    "https://en.wikipedia.org/wiki/Stepwise_regression"
   ]
  },
  {
   "cell_type": "markdown",
   "metadata": {},
   "source": [
    "# random forest"
   ]
  },
  {
   "cell_type": "markdown",
   "metadata": {},
   "source": [
    "## imports"
   ]
  },
  {
   "cell_type": "code",
   "execution_count": 1,
   "metadata": {},
   "outputs": [],
   "source": [
    "import pandas as pd\n",
    "import numpy as np\n",
    "import matplotlib.pyplot as plt\n",
    "import seaborn as sns\n",
    "%matplotlib inline"
   ]
  },
  {
   "cell_type": "code",
   "execution_count": 2,
   "metadata": {},
   "outputs": [],
   "source": [
    "from sklearn.model_selection import train_test_split\n",
    "from sklearn.ensemble import RandomForestClassifier\n",
    "from sklearn.metrics import classification_report,confusion_matrix\n",
    "\n",
    "# user generated wrapper function with p values\n",
    "# https://gist.github.com/rspeare/77061e6e317896be29c6de9a85db301d\n",
    "# from p_values_for_logreg import LogisticReg"
   ]
  },
  {
   "cell_type": "markdown",
   "metadata": {},
   "source": [
    "## prep"
   ]
  },
  {
   "cell_type": "code",
   "execution_count": 6,
   "metadata": {},
   "outputs": [
    {
     "data": {
      "text/plain": [
       "Index(['age', 'scholarship', 'hypertension', 'diabetes', 'alcoholism',\n",
       "       'handicap', 'sms_received', 'no_show', 'male', 'days_to_appointment',\n",
       "       'handicap_binary', 'scheduled_weekday_1', 'scheduled_weekday_2',\n",
       "       'scheduled_weekday_3', 'scheduled_weekday_4', 'scheduled_weekday_5',\n",
       "       'appointment_weekday_1', 'appointment_weekday_2',\n",
       "       'appointment_weekday_3', 'appointment_weekday_4',\n",
       "       'appointment_weekday_5', 'neighborhood_ANDORINHAS',\n",
       "       'neighborhood_ANTÔNIO HONÓRIO', 'neighborhood_ARIOVALDO FAVALESSA',\n",
       "       'neighborhood_BARRO VERMELHO', 'neighborhood_BELA VISTA',\n",
       "       'neighborhood_BENTO FERREIRA', 'neighborhood_BOA VISTA',\n",
       "       'neighborhood_BONFIM', 'neighborhood_CARATOÍRA', 'neighborhood_CENTRO',\n",
       "       'neighborhood_COMDUSA', 'neighborhood_CONQUISTA',\n",
       "       'neighborhood_CONSOLAÇÃO', 'neighborhood_CRUZAMENTO',\n",
       "       'neighborhood_DA PENHA', 'neighborhood_DE LOURDES',\n",
       "       'neighborhood_DO CABRAL', 'neighborhood_DO MOSCOSO',\n",
       "       'neighborhood_DO QUADRO', 'neighborhood_ENSEADA DO SUÁ',\n",
       "       'neighborhood_ESTRELINHA', 'neighborhood_FONTE GRANDE',\n",
       "       'neighborhood_FORTE SÃO JOÃO', 'neighborhood_FRADINHOS',\n",
       "       'neighborhood_GOIABEIRAS', 'neighborhood_GRANDE VITÓRIA',\n",
       "       'neighborhood_GURIGICA', 'neighborhood_HORTO',\n",
       "       'neighborhood_ILHA DAS CAIEIRAS', 'neighborhood_ILHA DE SANTA MARIA',\n",
       "       'neighborhood_ILHA DO BOI', 'neighborhood_ILHA DO FRADE',\n",
       "       'neighborhood_ILHA DO PRÍNCIPE',\n",
       "       'neighborhood_ILHAS OCEÂNICAS DE TRINDADE', 'neighborhood_INHANGUETÁ',\n",
       "       'neighborhood_ITARARÉ', 'neighborhood_JABOUR',\n",
       "       'neighborhood_JARDIM CAMBURI', 'neighborhood_JARDIM DA PENHA',\n",
       "       'neighborhood_JESUS DE NAZARETH', 'neighborhood_JOANA D´ARC',\n",
       "       'neighborhood_JUCUTUQUARA', 'neighborhood_MARIA ORTIZ',\n",
       "       'neighborhood_MARUÍPE', 'neighborhood_MATA DA PRAIA',\n",
       "       'neighborhood_MONTE BELO', 'neighborhood_MORADA DE CAMBURI',\n",
       "       'neighborhood_MÁRIO CYPRESTE', 'neighborhood_NAZARETH',\n",
       "       'neighborhood_NOVA PALESTINA', 'neighborhood_PARQUE MOSCOSO',\n",
       "       'neighborhood_PIEDADE', 'neighborhood_PONTAL DE CAMBURI',\n",
       "       'neighborhood_PRAIA DO CANTO', 'neighborhood_PRAIA DO SUÁ',\n",
       "       'neighborhood_REDENÇÃO', 'neighborhood_REPÚBLICA',\n",
       "       'neighborhood_RESISTÊNCIA', 'neighborhood_ROMÃO',\n",
       "       'neighborhood_SANTA CECÍLIA', 'neighborhood_SANTA CLARA',\n",
       "       'neighborhood_SANTA HELENA', 'neighborhood_SANTA LUÍZA',\n",
       "       'neighborhood_SANTA LÚCIA', 'neighborhood_SANTA MARTHA',\n",
       "       'neighborhood_SANTA TEREZA', 'neighborhood_SANTO ANDRÉ',\n",
       "       'neighborhood_SANTO ANTÔNIO', 'neighborhood_SANTOS DUMONT',\n",
       "       'neighborhood_SANTOS REIS', 'neighborhood_SEGURANÇA DO LAR',\n",
       "       'neighborhood_SOLON BORGES', 'neighborhood_SÃO BENEDITO',\n",
       "       'neighborhood_SÃO CRISTÓVÃO', 'neighborhood_SÃO JOSÉ',\n",
       "       'neighborhood_SÃO PEDRO', 'neighborhood_TABUAZEIRO',\n",
       "       'neighborhood_UNIVERSITÁRIO', 'neighborhood_VILA RUBIM'],\n",
       "      dtype='object')"
      ]
     },
     "execution_count": 6,
     "metadata": {},
     "output_type": "execute_result"
    }
   ],
   "source": [
    "appointments_dummies = pd.read_csv(\"../input/appointments-raw/appointments_dummies.csv\")\n",
    "appointments_dummies.columns"
   ]
  },
  {
   "cell_type": "code",
   "execution_count": 265,
   "metadata": {},
   "outputs": [],
   "source": [
    "# create feature sets to facilitate trying different features in model\n",
    "features_dummies = set(appointments_dummies.columns) - set(appointments.columns)\n",
    "\n",
    "features_neighborhood = []\n",
    "for column in features_dummies:\n",
    "    if 'neighborhood' in column:\n",
    "            features_neighborhood.append(column)\n",
    "            \n",
    "features_weekday = []\n",
    "for column in features_dummies:\n",
    "    if 'weekday' in column:\n",
    "            features_weekday.append(column)"
   ]
  },
  {
   "cell_type": "code",
   "execution_count": 266,
   "metadata": {},
   "outputs": [],
   "source": [
    "appointments = appointments.drop('neighborhood',axis=1)"
   ]
  },
  {
   "cell_type": "markdown",
   "metadata": {},
   "source": [
    "## with dummies"
   ]
  },
  {
   "cell_type": "markdown",
   "metadata": {},
   "source": [
    "Here I use all predictors. With so many dummies we lose explanatory power, but we potentially increase prediction."
   ]
  },
  {
   "cell_type": "code",
   "execution_count": 7,
   "metadata": {},
   "outputs": [
    {
     "data": {
      "text/plain": [
       "RandomForestClassifier(bootstrap=True, class_weight=None, criterion='gini',\n",
       "            max_depth=None, max_features='auto', max_leaf_nodes=None,\n",
       "            min_impurity_decrease=0.0, min_impurity_split=None,\n",
       "            min_samples_leaf=1, min_samples_split=2,\n",
       "            min_weight_fraction_leaf=0.0, n_estimators=600, n_jobs=1,\n",
       "            oob_score=False, random_state=None, verbose=0,\n",
       "            warm_start=False)"
      ]
     },
     "execution_count": 7,
     "metadata": {},
     "output_type": "execute_result"
    }
   ],
   "source": [
    "# split the data for training and testing\n",
    "x = appointments_dummies.drop(['no_show'],axis=1)\n",
    "y = appointments_dummies['no_show']\n",
    "\n",
    "x_train, x_test, y_train, y_test = train_test_split(x, y, test_size=0.2, random_state=1)\n",
    "\n",
    "# train the model\n",
    "model = RandomForestClassifier(n_estimators=600)\n",
    "model.fit(x_train,y_train)"
   ]
  },
  {
   "cell_type": "code",
   "execution_count": 8,
   "metadata": {},
   "outputs": [
    {
     "name": "stdout",
     "output_type": "stream",
     "text": [
      "             precision    recall  f1-score   support\n",
      "\n",
      "          0       0.73      0.89      0.80      9466\n",
      "          1       0.43      0.20      0.28      3884\n",
      "\n",
      "avg / total       0.64      0.69      0.65     13350\n",
      "\n"
     ]
    }
   ],
   "source": [
    "predictions = model.predict(x_test)\n",
    "\n",
    "print(classification_report(y_test,predictions))"
   ]
  }
 ],
 "metadata": {
  "kernelspec": {
   "display_name": "Python 3",
   "language": "python",
   "name": "python3"
  },
  "language_info": {
   "codemirror_mode": {
    "name": "ipython",
    "version": 3
   },
   "file_extension": ".py",
   "mimetype": "text/x-python",
   "name": "python",
   "nbconvert_exporter": "python",
   "pygments_lexer": "ipython3",
   "version": "3.6.2"
  },
  "toc": {
   "nav_menu": {},
   "number_sections": false,
   "sideBar": true,
   "skip_h1_title": false,
   "toc_cell": true,
   "toc_position": {},
   "toc_section_display": "block",
   "toc_window_display": false
  }
 },
 "nbformat": 4,
 "nbformat_minor": 2
}
