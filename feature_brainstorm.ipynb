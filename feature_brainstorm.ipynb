{
 "cells": [
  {
   "cell_type": "markdown",
   "metadata": {},
   "source": [
    "---\n",
    "## feature brainstorm\n",
    "\n",
    "### patient id\n",
    "* patients who come more frequently are less likely to have a no-show?\n",
    "* if a patient came more recently, is less likely to have a no-show?\n",
    "\n",
    "### appointment id\n",
    "* no insight\n",
    "\n",
    "### gender\n",
    "* what percentage of the population by gender is employed? if many women stay at home and take care of the house and children, perhaps this has a correlation with no-show?\n",
    "* gender itself does not have intuitive explanatory power for no-shows\n",
    "\n",
    "### scheduled day\n",
    "* if a appointment is scheduled too far in advance the patient forgets?\n",
    "* if a appointment is scheduled on a weekday the patient forgets?\n",
    "\n",
    "### appointment day\n",
    "* if the appointment is for certainty of the week the patient can't make it, like friday?\n",
    "\n",
    "### age\n",
    "* patients at various ages are more or less busy:\n",
    "    * children are more likely to make it because their parents take responsibility for them\n",
    "    * young adults are too busy or overloaded with their children to show up\n",
    "    * middle-aged adults are too busy\n",
    "    * older adults have more free time and they are more careful with their health\n",
    "    \n",
    "### neighborhood\n",
    "* poor neighborhoods have more no-shows?\n",
    "* proximity to a health center affects no-show rate?\n",
    "\n",
    "### scholarship \n",
    "* having a scholarship means you are poor, but it also means your children are not missing school\n",
    "* having a scholarship reduces likelihood of no show\n",
    "\n",
    "### hypertension\n",
    "* having health problems reduces likelihood of no show\n",
    "\n",
    "### diabetes\n",
    "* having health problems reduces likelihood of no show\n",
    "\n",
    "### alcoholism\n",
    "* maybe alcoholism is associated with difficulty in sticking to plans\n",
    "\n",
    "### handicap\n",
    "* having a physical handicap means depending on someone else to get you to a clinic\n",
    "* increases likelihood of no-show\n",
    "\n",
    "### sms received\n",
    "* reminder reduces likelihood of no-show\n"
   ]
  }
 ],
 "metadata": {
  "kernelspec": {
   "display_name": "Python 3",
   "language": "python",
   "name": "python3"
  },
  "language_info": {
   "codemirror_mode": {
    "name": "ipython",
    "version": 3
   },
   "file_extension": ".py",
   "mimetype": "text/x-python",
   "name": "python",
   "nbconvert_exporter": "python",
   "pygments_lexer": "ipython3",
   "version": "3.6.2"
  },
  "toc": {
   "nav_menu": {},
   "number_sections": false,
   "sideBar": true,
   "skip_h1_title": false,
   "toc_cell": false,
   "toc_position": {},
   "toc_section_display": "block",
   "toc_window_display": true
  }
 },
 "nbformat": 4,
 "nbformat_minor": 2
}
