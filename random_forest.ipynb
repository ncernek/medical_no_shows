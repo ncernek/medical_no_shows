{
 "cells": [
  {
   "cell_type": "markdown",
   "metadata": {},
   "source": [
    "# random forest"
   ]
  },
  {
   "cell_type": "markdown",
   "metadata": {},
   "source": [
    "## imports"
   ]
  },
  {
   "cell_type": "code",
   "execution_count": 1,
   "metadata": {},
   "outputs": [],
   "source": [
    "import pandas as pd\n",
    "import numpy as np\n",
    "import matplotlib.pyplot as plt\n",
    "import seaborn as sns\n",
    "%matplotlib inline"
   ]
  },
  {
   "cell_type": "code",
   "execution_count": 2,
   "metadata": {},
   "outputs": [],
   "source": [
    "from sklearn.model_selection import train_test_split\n",
    "from sklearn.ensemble import RandomForestClassifier\n",
    "from sklearn.metrics import classification_report,confusion_matrix\n",
    "\n",
    "# user generated wrapper function with p values\n",
    "# https://gist.github.com/rspeare/77061e6e317896be29c6de9a85db301d\n",
    "# from p_values_for_logreg import LogisticReg"
   ]
  },
  {
   "cell_type": "markdown",
   "metadata": {},
   "source": [
    "## prep"
   ]
  },
  {
   "cell_type": "code",
   "execution_count": 6,
   "metadata": {},
   "outputs": [
    {
     "data": {
      "text/plain": [
       "Index(['age', 'scholarship', 'hypertension', 'diabetes', 'alcoholism',\n",
       "       'handicap', 'sms_received', 'no_show', 'male', 'days_to_appointment',\n",
       "       'handicap_binary', 'scheduled_weekday_1', 'scheduled_weekday_2',\n",
       "       'scheduled_weekday_3', 'scheduled_weekday_4', 'scheduled_weekday_5',\n",
       "       'appointment_weekday_1', 'appointment_weekday_2',\n",
       "       'appointment_weekday_3', 'appointment_weekday_4',\n",
       "       'appointment_weekday_5', 'neighborhood_ANDORINHAS',\n",
       "       'neighborhood_ANTÔNIO HONÓRIO', 'neighborhood_ARIOVALDO FAVALESSA',\n",
       "       'neighborhood_BARRO VERMELHO', 'neighborhood_BELA VISTA',\n",
       "       'neighborhood_BENTO FERREIRA', 'neighborhood_BOA VISTA',\n",
       "       'neighborhood_BONFIM', 'neighborhood_CARATOÍRA', 'neighborhood_CENTRO',\n",
       "       'neighborhood_COMDUSA', 'neighborhood_CONQUISTA',\n",
       "       'neighborhood_CONSOLAÇÃO', 'neighborhood_CRUZAMENTO',\n",
       "       'neighborhood_DA PENHA', 'neighborhood_DE LOURDES',\n",
       "       'neighborhood_DO CABRAL', 'neighborhood_DO MOSCOSO',\n",
       "       'neighborhood_DO QUADRO', 'neighborhood_ENSEADA DO SUÁ',\n",
       "       'neighborhood_ESTRELINHA', 'neighborhood_FONTE GRANDE',\n",
       "       'neighborhood_FORTE SÃO JOÃO', 'neighborhood_FRADINHOS',\n",
       "       'neighborhood_GOIABEIRAS', 'neighborhood_GRANDE VITÓRIA',\n",
       "       'neighborhood_GURIGICA', 'neighborhood_HORTO',\n",
       "       'neighborhood_ILHA DAS CAIEIRAS', 'neighborhood_ILHA DE SANTA MARIA',\n",
       "       'neighborhood_ILHA DO BOI', 'neighborhood_ILHA DO FRADE',\n",
       "       'neighborhood_ILHA DO PRÍNCIPE',\n",
       "       'neighborhood_ILHAS OCEÂNICAS DE TRINDADE', 'neighborhood_INHANGUETÁ',\n",
       "       'neighborhood_ITARARÉ', 'neighborhood_JABOUR',\n",
       "       'neighborhood_JARDIM CAMBURI', 'neighborhood_JARDIM DA PENHA',\n",
       "       'neighborhood_JESUS DE NAZARETH', 'neighborhood_JOANA D´ARC',\n",
       "       'neighborhood_JUCUTUQUARA', 'neighborhood_MARIA ORTIZ',\n",
       "       'neighborhood_MARUÍPE', 'neighborhood_MATA DA PRAIA',\n",
       "       'neighborhood_MONTE BELO', 'neighborhood_MORADA DE CAMBURI',\n",
       "       'neighborhood_MÁRIO CYPRESTE', 'neighborhood_NAZARETH',\n",
       "       'neighborhood_NOVA PALESTINA', 'neighborhood_PARQUE MOSCOSO',\n",
       "       'neighborhood_PIEDADE', 'neighborhood_PONTAL DE CAMBURI',\n",
       "       'neighborhood_PRAIA DO CANTO', 'neighborhood_PRAIA DO SUÁ',\n",
       "       'neighborhood_REDENÇÃO', 'neighborhood_REPÚBLICA',\n",
       "       'neighborhood_RESISTÊNCIA', 'neighborhood_ROMÃO',\n",
       "       'neighborhood_SANTA CECÍLIA', 'neighborhood_SANTA CLARA',\n",
       "       'neighborhood_SANTA HELENA', 'neighborhood_SANTA LUÍZA',\n",
       "       'neighborhood_SANTA LÚCIA', 'neighborhood_SANTA MARTHA',\n",
       "       'neighborhood_SANTA TEREZA', 'neighborhood_SANTO ANDRÉ',\n",
       "       'neighborhood_SANTO ANTÔNIO', 'neighborhood_SANTOS DUMONT',\n",
       "       'neighborhood_SANTOS REIS', 'neighborhood_SEGURANÇA DO LAR',\n",
       "       'neighborhood_SOLON BORGES', 'neighborhood_SÃO BENEDITO',\n",
       "       'neighborhood_SÃO CRISTÓVÃO', 'neighborhood_SÃO JOSÉ',\n",
       "       'neighborhood_SÃO PEDRO', 'neighborhood_TABUAZEIRO',\n",
       "       'neighborhood_UNIVERSITÁRIO', 'neighborhood_VILA RUBIM'],\n",
       "      dtype='object')"
      ]
     },
     "execution_count": 6,
     "metadata": {},
     "output_type": "execute_result"
    }
   ],
   "source": [
    "appointments_dummies = pd.read_csv(\"data/appointments_dummies.csv\")\n",
    "appointments_dummies.columns"
   ]
  },
  {
   "cell_type": "code",
   "execution_count": 265,
   "metadata": {},
   "outputs": [],
   "source": [
    "# create feature sets to facilitate trying different features in model\n",
    "features_dummies = set(appointments_dummies.columns) - set(appointments.columns)\n",
    "\n",
    "features_neighborhood = []\n",
    "for column in features_dummies:\n",
    "    if 'neighborhood' in column:\n",
    "            features_neighborhood.append(column)\n",
    "            \n",
    "features_weekday = []\n",
    "for column in features_dummies:\n",
    "    if 'weekday' in column:\n",
    "            features_weekday.append(column)"
   ]
  },
  {
   "cell_type": "code",
   "execution_count": 266,
   "metadata": {},
   "outputs": [],
   "source": [
    "appointments = appointments.drop('neighborhood',axis=1)"
   ]
  },
  {
   "cell_type": "markdown",
   "metadata": {},
   "source": [
    "## with dummies"
   ]
  },
  {
   "cell_type": "markdown",
   "metadata": {},
   "source": [
    "Here I use all predictors. With so many dummies we lose explanatory power, but we potentially increase prediction."
   ]
  },
  {
   "cell_type": "code",
   "execution_count": 7,
   "metadata": {},
   "outputs": [
    {
     "data": {
      "text/plain": [
       "RandomForestClassifier(bootstrap=True, class_weight=None, criterion='gini',\n",
       "            max_depth=None, max_features='auto', max_leaf_nodes=None,\n",
       "            min_impurity_decrease=0.0, min_impurity_split=None,\n",
       "            min_samples_leaf=1, min_samples_split=2,\n",
       "            min_weight_fraction_leaf=0.0, n_estimators=600, n_jobs=1,\n",
       "            oob_score=False, random_state=None, verbose=0,\n",
       "            warm_start=False)"
      ]
     },
     "execution_count": 7,
     "metadata": {},
     "output_type": "execute_result"
    }
   ],
   "source": [
    "# split the data for training and testing\n",
    "x = appointments_dummies.drop(['no_show'],axis=1)\n",
    "y = appointments_dummies['no_show']\n",
    "\n",
    "x_train, x_test, y_train, y_test = train_test_split(x, y, test_size=0.2, random_state=1)\n",
    "\n",
    "# train the model\n",
    "model = RandomForestClassifier(n_estimators=600)\n",
    "model.fit(x_train,y_train)"
   ]
  },
  {
   "cell_type": "code",
   "execution_count": 8,
   "metadata": {},
   "outputs": [
    {
     "name": "stdout",
     "output_type": "stream",
     "text": [
      "             precision    recall  f1-score   support\n",
      "\n",
      "          0       0.73      0.89      0.80      9466\n",
      "          1       0.43      0.20      0.28      3884\n",
      "\n",
      "avg / total       0.64      0.69      0.65     13350\n",
      "\n"
     ]
    }
   ],
   "source": [
    "predictions = model.predict(x_test)\n",
    "\n",
    "print(classification_report(y_test,predictions))"
   ]
  }
 ],
 "metadata": {
  "kernelspec": {
   "display_name": "Python 3",
   "language": "python",
   "name": "python3"
  },
  "language_info": {
   "codemirror_mode": {
    "name": "ipython",
    "version": 3
   },
   "file_extension": ".py",
   "mimetype": "text/x-python",
   "name": "python",
   "nbconvert_exporter": "python",
   "pygments_lexer": "ipython3",
   "version": "3.6.2"
  },
  "toc": {
   "nav_menu": {},
   "number_sections": false,
   "sideBar": true,
   "skip_h1_title": false,
   "toc_cell": false,
   "toc_position": {
    "height": "562px",
    "left": "0px",
    "right": "1067.01px",
    "top": "67px",
    "width": "213px"
   },
   "toc_section_display": "block",
   "toc_window_display": true
  }
 },
 "nbformat": 4,
 "nbformat_minor": 2
}
