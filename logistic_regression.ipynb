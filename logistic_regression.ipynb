{
 "cells": [
  {
   "cell_type": "markdown",
   "metadata": {},
   "source": [
    "# logistic regression"
   ]
  },
  {
   "cell_type": "markdown",
   "metadata": {},
   "source": [
    "## imports"
   ]
  },
  {
   "cell_type": "code",
   "execution_count": 259,
   "metadata": {},
   "outputs": [],
   "source": [
    "import pandas as pd\n",
    "import numpy as np\n",
    "import matplotlib.pyplot as plt\n",
    "import seaborn as sns\n",
    "%matplotlib inline"
   ]
  },
  {
   "cell_type": "code",
   "execution_count": 260,
   "metadata": {},
   "outputs": [],
   "source": [
    "from sklearn.model_selection import train_test_split\n",
    "from sklearn.linear_model import LogisticRegression\n",
    "from sklearn.metrics import classification_report\n",
    "\n",
    "# user generated wrapper function with p values\n",
    "# https://gist.github.com/rspeare/77061e6e317896be29c6de9a85db301d\n",
    "# from p_values_for_logreg import LogisticReg"
   ]
  },
  {
   "cell_type": "markdown",
   "metadata": {},
   "source": [
    "## prep"
   ]
  },
  {
   "cell_type": "code",
   "execution_count": 261,
   "metadata": {},
   "outputs": [
    {
     "name": "stdout",
     "output_type": "stream",
     "text": [
      "<class 'pandas.core.frame.DataFrame'>\n",
      "RangeIndex: 66746 entries, 0 to 66745\n",
      "Data columns (total 20 columns):\n",
      "Unnamed: 0             66746 non-null int64\n",
      "appointment_id         66746 non-null int64\n",
      "patient_id             66746 non-null float64\n",
      "scheduled_day          66746 non-null object\n",
      "appointment_day        66746 non-null object\n",
      "age                    66746 non-null int64\n",
      "neighborhood           66746 non-null object\n",
      "scholarship            66746 non-null int64\n",
      "hypertension           66746 non-null int64\n",
      "diabetes               66746 non-null int64\n",
      "alcoholism             66746 non-null int64\n",
      "handicap               66746 non-null int64\n",
      "sms_received           66746 non-null int64\n",
      "no_show                66746 non-null int64\n",
      "male                   66746 non-null int64\n",
      "days_to_appointment    66746 non-null int64\n",
      "scheduled_weekday      66746 non-null int64\n",
      "appointment_weekday    66746 non-null int64\n",
      "age_cubed              66746 non-null int64\n",
      "handicap_binary        66746 non-null int64\n",
      "dtypes: float64(1), int64(16), object(3)\n",
      "memory usage: 10.2+ MB\n"
     ]
    }
   ],
   "source": [
    "appointments = pd.read_csv(\"data/appointments_2.csv\")\n",
    "appointments.info()"
   ]
  },
  {
   "cell_type": "code",
   "execution_count": 262,
   "metadata": {},
   "outputs": [],
   "source": [
    "# drop the useless features\n",
    "appointments = appointments.drop(['Unnamed: 0', 'appointment_id', \n",
    "                                  'patient_id', 'scheduled_day',\n",
    "                                  'appointment_day','age_cubed'],\n",
    "                                 axis=1\n",
    "                                )"
   ]
  },
  {
   "cell_type": "markdown",
   "metadata": {},
   "source": [
    "### get dummies"
   ]
  },
  {
   "cell_type": "code",
   "execution_count": 263,
   "metadata": {},
   "outputs": [],
   "source": [
    "# get dummies for categorical data: appointment day, neighborhood\n",
    "# only do this for categorical features we know have statistical significance\n",
    "appointments_dummies = pd.get_dummies(\n",
    "    appointments, \n",
    "    columns=['scheduled_weekday','appointment_weekday','neighborhood'],\n",
    "    drop_first=True)"
   ]
  },
  {
   "cell_type": "markdown",
   "metadata": {},
   "source": [
    "### export"
   ]
  },
  {
   "cell_type": "code",
   "execution_count": 281,
   "metadata": {},
   "outputs": [],
   "source": [
    "# export dummies\n",
    "appointments_dummies.to_csv('data/appointments_dummies.csv',index=False)"
   ]
  },
  {
   "cell_type": "code",
   "execution_count": 265,
   "metadata": {},
   "outputs": [],
   "source": [
    "# create feature sets to facilitate trying different features in model\n",
    "features_dummies = set(appointments_dummies.columns) - set(appointments.columns)\n",
    "\n",
    "features_neighborhood = []\n",
    "for column in features_dummies:\n",
    "    if 'neighborhood' in column:\n",
    "            features_neighborhood.append(column)\n",
    "            \n",
    "features_weekday = []\n",
    "for column in features_dummies:\n",
    "    if 'weekday' in column:\n",
    "            features_weekday.append(column)"
   ]
  },
  {
   "cell_type": "code",
   "execution_count": 266,
   "metadata": {},
   "outputs": [],
   "source": [
    "appointments = appointments.drop('neighborhood',axis=1)"
   ]
  },
  {
   "cell_type": "markdown",
   "metadata": {},
   "source": [
    "### p values"
   ]
  },
  {
   "cell_type": "code",
   "execution_count": 267,
   "metadata": {},
   "outputs": [
    {
     "data": {
      "text/html": [
       "<div>\n",
       "<style>\n",
       "    .dataframe thead tr:only-child th {\n",
       "        text-align: right;\n",
       "    }\n",
       "\n",
       "    .dataframe thead th {\n",
       "        text-align: left;\n",
       "    }\n",
       "\n",
       "    .dataframe tbody tr th {\n",
       "        vertical-align: top;\n",
       "    }\n",
       "</style>\n",
       "<table border=\"1\" class=\"dataframe\">\n",
       "  <thead>\n",
       "    <tr style=\"text-align: right;\">\n",
       "      <th></th>\n",
       "      <th>p_value</th>\n",
       "    </tr>\n",
       "  </thead>\n",
       "  <tbody>\n",
       "    <tr>\n",
       "      <th>male</th>\n",
       "      <td>3.378687e-01</td>\n",
       "    </tr>\n",
       "    <tr>\n",
       "      <th>appointment_weekday</th>\n",
       "      <td>1.485553e-01</td>\n",
       "    </tr>\n",
       "    <tr>\n",
       "      <th>scheduled_weekday</th>\n",
       "      <td>8.865173e-02</td>\n",
       "    </tr>\n",
       "    <tr>\n",
       "      <th>handicap</th>\n",
       "      <td>4.695163e-02</td>\n",
       "    </tr>\n",
       "    <tr>\n",
       "      <th>handicap_binary</th>\n",
       "      <td>2.694353e-02</td>\n",
       "    </tr>\n",
       "    <tr>\n",
       "      <th>alcoholism</th>\n",
       "      <td>9.249300e-07</td>\n",
       "    </tr>\n",
       "    <tr>\n",
       "      <th>diabetes</th>\n",
       "      <td>2.129059e-08</td>\n",
       "    </tr>\n",
       "    <tr>\n",
       "      <th>sms_received</th>\n",
       "      <td>4.378920e-10</td>\n",
       "    </tr>\n",
       "    <tr>\n",
       "      <th>scholarship</th>\n",
       "      <td>4.867132e-30</td>\n",
       "    </tr>\n",
       "    <tr>\n",
       "      <th>hypertension</th>\n",
       "      <td>2.024157e-39</td>\n",
       "    </tr>\n",
       "    <tr>\n",
       "      <th>age</th>\n",
       "      <td>0.000000e+00</td>\n",
       "    </tr>\n",
       "    <tr>\n",
       "      <th>days_to_appointment</th>\n",
       "      <td>0.000000e+00</td>\n",
       "    </tr>\n",
       "  </tbody>\n",
       "</table>\n",
       "</div>"
      ],
      "text/plain": [
       "                          p_value\n",
       "male                 3.378687e-01\n",
       "appointment_weekday  1.485553e-01\n",
       "scheduled_weekday    8.865173e-02\n",
       "handicap             4.695163e-02\n",
       "handicap_binary      2.694353e-02\n",
       "alcoholism           9.249300e-07\n",
       "diabetes             2.129059e-08\n",
       "sms_received         4.378920e-10\n",
       "scholarship          4.867132e-30\n",
       "hypertension         2.024157e-39\n",
       "age                  0.000000e+00\n",
       "days_to_appointment  0.000000e+00"
      ]
     },
     "execution_count": 267,
     "metadata": {},
     "output_type": "execute_result"
    }
   ],
   "source": [
    "# find the p values to know which features are most highly correlated\n",
    "from sklearn.feature_selection import chi2\n",
    "\n",
    "data = appointments.drop(['no_show'],axis=1)\n",
    "X = data.loc[:,:]\n",
    "y = appointments['no_show'].loc[:]\n",
    "\n",
    "scores, p_values = chi2(X, y)\n",
    "\n",
    "\n",
    "pd.DataFrame(data=p_values,index=data.columns,columns=['p_value'])\\\n",
    "    .sort_values(by='p_value', ascending=False)"
   ]
  },
  {
   "cell_type": "markdown",
   "metadata": {},
   "source": [
    "<div class='alert alert-danger'>\n",
    "<li>source: https://stackoverflow.com/questions/22306341/python-sklearn-how-to-calculate-p-values\n",
    "<li>These p values do not correspond to the research I did previously on correlations. Appointment weekday has a higher correlation than male,for example. Is this p value the same as what paul recommended?\n",
    "<li>in retrospect, it looks like this was not to the right test\n",
    "<li>separately, this library did not use the 'frequency' features of age and days to appointment. I must've done it wrong.\n",
    "</div>"
   ]
  },
  {
   "cell_type": "markdown",
   "metadata": {},
   "source": [
    "# logistic regression"
   ]
  },
  {
   "cell_type": "markdown",
   "metadata": {},
   "source": [
    "## without dummies"
   ]
  },
  {
   "cell_type": "markdown",
   "metadata": {},
   "source": [
    "This is a test run. a simpler model is easier to play around with."
   ]
  },
  {
   "cell_type": "code",
   "execution_count": 268,
   "metadata": {},
   "outputs": [
    {
     "data": {
      "text/plain": [
       "LogisticRegression(C=1.0, class_weight=None, dual=False, fit_intercept=True,\n",
       "          intercept_scaling=1, max_iter=100, multi_class='ovr', n_jobs=1,\n",
       "          penalty='l2', random_state=None, solver='liblinear', tol=0.0001,\n",
       "          verbose=0, warm_start=False)"
      ]
     },
     "execution_count": 268,
     "metadata": {},
     "output_type": "execute_result"
    }
   ],
   "source": [
    "# split the data for training and testing\n",
    "x = appointments.drop('no_show',axis=1)\n",
    "y = appointments['no_show']\n",
    "\n",
    "x_train, x_test, y_train, y_test = train_test_split(x, y, test_size=0.2, random_state=1)\n",
    "\n",
    "# train the model\n",
    "model = LogisticRegression()\n",
    "model.fit(x_train,y_train)"
   ]
  },
  {
   "cell_type": "code",
   "execution_count": 269,
   "metadata": {},
   "outputs": [
    {
     "name": "stdout",
     "output_type": "stream",
     "text": [
      "             precision    recall  f1-score   support\n",
      "\n",
      "          0       0.71      1.00      0.83      9466\n",
      "          1       0.50      0.00      0.01      3884\n",
      "\n",
      "avg / total       0.65      0.71      0.59     13350\n",
      "\n"
     ]
    }
   ],
   "source": [
    "predictions = model.predict(x_test)\n",
    "\n",
    "print(classification_report(y_test,predictions))"
   ]
  },
  {
   "cell_type": "markdown",
   "metadata": {},
   "source": [
    "<div class='alert alert-danger'>\n",
    "<li>I included age_cubed into my model, and it ruined it. does this mean that I need to use standard scaler to make this play nice with the others? if that is the case,screws how does the standard scaler differentiate between frequency and boolean variables?\n",
    "</div>"
   ]
  },
  {
   "cell_type": "markdown",
   "metadata": {},
   "source": [
    "### p values"
   ]
  },
  {
   "cell_type": "code",
   "execution_count": 270,
   "metadata": {},
   "outputs": [],
   "source": [
    "# look at the p values for all predictors\n",
    "# this will tell you which ones are most valuable"
   ]
  },
  {
   "cell_type": "markdown",
   "metadata": {},
   "source": [
    "<div class='alert alert-danger'>\n",
    "<li>https://datascience.stackexchange.com/questions/15398/how-to-get-p-value-and-confident-interval-in-logisticregression-with-sklearn\n",
    "<li>according to the link above, there's no built-in way to do this. this seems problematic for scikit learn\n",
    "</div>"
   ]
  },
  {
   "cell_type": "code",
   "execution_count": 271,
   "metadata": {
    "scrolled": false
   },
   "outputs": [
    {
     "data": {
      "text/html": [
       "<div>\n",
       "<style>\n",
       "    .dataframe thead tr:only-child th {\n",
       "        text-align: right;\n",
       "    }\n",
       "\n",
       "    .dataframe thead th {\n",
       "        text-align: left;\n",
       "    }\n",
       "\n",
       "    .dataframe tbody tr th {\n",
       "        vertical-align: top;\n",
       "    }\n",
       "</style>\n",
       "<table border=\"1\" class=\"dataframe\">\n",
       "  <thead>\n",
       "    <tr style=\"text-align: right;\">\n",
       "      <th></th>\n",
       "      <th>coefficient</th>\n",
       "    </tr>\n",
       "  </thead>\n",
       "  <tbody>\n",
       "    <tr>\n",
       "      <th>alcoholism</th>\n",
       "      <td>0.401292</td>\n",
       "    </tr>\n",
       "    <tr>\n",
       "      <th>scholarship</th>\n",
       "      <td>0.271958</td>\n",
       "    </tr>\n",
       "    <tr>\n",
       "      <th>diabetes</th>\n",
       "      <td>0.114890</td>\n",
       "    </tr>\n",
       "    <tr>\n",
       "      <th>handicap</th>\n",
       "      <td>0.012920</td>\n",
       "    </tr>\n",
       "    <tr>\n",
       "      <th>days_to_appointment</th>\n",
       "      <td>0.007787</td>\n",
       "    </tr>\n",
       "    <tr>\n",
       "      <th>scheduled_weekday</th>\n",
       "      <td>-0.005487</td>\n",
       "    </tr>\n",
       "    <tr>\n",
       "      <th>age</th>\n",
       "      <td>-0.009865</td>\n",
       "    </tr>\n",
       "    <tr>\n",
       "      <th>appointment_weekday</th>\n",
       "      <td>-0.021474</td>\n",
       "    </tr>\n",
       "    <tr>\n",
       "      <th>male</th>\n",
       "      <td>-0.024309</td>\n",
       "    </tr>\n",
       "    <tr>\n",
       "      <th>handicap_binary</th>\n",
       "      <td>-0.026300</td>\n",
       "    </tr>\n",
       "    <tr>\n",
       "      <th>hypertension</th>\n",
       "      <td>-0.058539</td>\n",
       "    </tr>\n",
       "    <tr>\n",
       "      <th>sms_received</th>\n",
       "      <td>-0.250705</td>\n",
       "    </tr>\n",
       "  </tbody>\n",
       "</table>\n",
       "</div>"
      ],
      "text/plain": [
       "                     coefficient\n",
       "alcoholism              0.401292\n",
       "scholarship             0.271958\n",
       "diabetes                0.114890\n",
       "handicap                0.012920\n",
       "days_to_appointment     0.007787\n",
       "scheduled_weekday      -0.005487\n",
       "age                    -0.009865\n",
       "appointment_weekday    -0.021474\n",
       "male                   -0.024309\n",
       "handicap_binary        -0.026300\n",
       "hypertension           -0.058539\n",
       "sms_received           -0.250705"
      ]
     },
     "execution_count": 271,
     "metadata": {},
     "output_type": "execute_result"
    }
   ],
   "source": [
    "# look at the coefficients just for curiosity sake\n",
    "pd.DataFrame(data=model.coef_[0],index=x.columns,columns=['coefficient'])\\\n",
    "    .sort_values(by='coefficient', ascending=False)"
   ]
  },
  {
   "cell_type": "markdown",
   "metadata": {},
   "source": [
    "<div class='alert alert-info'>\n",
    "I observed that the optimal list has very little to do with the coefficient size. I was able to remove features with higher coefficients without changing my outcomes. yet when I removed features with very little coefficients, I got worse outcomes. it appears that looking at a coefficient is the wrong way to determine if a feature should be part of the model.\n",
    "<li>why is this the case?\n",
    "<li>Coefficients determine the slope of a function, not how well the function fits the data. High coefficients merely mean a different type of slope.\n",
    "</div>"
   ]
  },
  {
   "cell_type": "markdown",
   "metadata": {},
   "source": [
    "## with dummies"
   ]
  },
  {
   "cell_type": "markdown",
   "metadata": {},
   "source": [
    "Here I use all predictors. With so many dummies we lose explanatory power, but we potentially increase prediction."
   ]
  },
  {
   "cell_type": "code",
   "execution_count": 272,
   "metadata": {},
   "outputs": [
    {
     "data": {
      "text/plain": [
       "LogisticRegression(C=1.0, class_weight=None, dual=False, fit_intercept=True,\n",
       "          intercept_scaling=1, max_iter=100, multi_class='ovr', n_jobs=1,\n",
       "          penalty='l2', random_state=None, solver='liblinear', tol=0.0001,\n",
       "          verbose=0, warm_start=False)"
      ]
     },
     "execution_count": 272,
     "metadata": {},
     "output_type": "execute_result"
    }
   ],
   "source": [
    "# split the data for training and testing\n",
    "x = appointments_dummies.drop(['no_show'],axis=1)\n",
    "y = appointments_dummies['no_show']\n",
    "\n",
    "x_train, x_test, y_train, y_test = train_test_split(x, y, test_size=0.2, random_state=1)\n",
    "\n",
    "# train the model\n",
    "model = LogisticRegression()\n",
    "model.fit(x_train,y_train)"
   ]
  },
  {
   "cell_type": "code",
   "execution_count": 273,
   "metadata": {},
   "outputs": [
    {
     "name": "stdout",
     "output_type": "stream",
     "text": [
      "             precision    recall  f1-score   support\n",
      "\n",
      "          0       0.71      1.00      0.83      9466\n",
      "          1       0.52      0.01      0.01      3884\n",
      "\n",
      "avg / total       0.65      0.71      0.59     13350\n",
      "\n"
     ]
    }
   ],
   "source": [
    "predictions = model.predict(x_test)\n",
    "\n",
    "print(classification_report(y_test,predictions))"
   ]
  },
  {
   "cell_type": "markdown",
   "metadata": {},
   "source": [
    "### coefficients and correlations"
   ]
  },
  {
   "cell_type": "markdown",
   "metadata": {},
   "source": [
    "I want to see the connection between correlation and coefficient stats. this will not help the model, but I am curious."
   ]
  },
  {
   "cell_type": "code",
   "execution_count": 280,
   "metadata": {},
   "outputs": [
    {
     "data": {
      "text/html": [
       "<div>\n",
       "<style>\n",
       "    .dataframe thead tr:only-child th {\n",
       "        text-align: right;\n",
       "    }\n",
       "\n",
       "    .dataframe thead th {\n",
       "        text-align: left;\n",
       "    }\n",
       "\n",
       "    .dataframe tbody tr th {\n",
       "        vertical-align: top;\n",
       "    }\n",
       "</style>\n",
       "<table border=\"1\" class=\"dataframe\">\n",
       "  <thead>\n",
       "    <tr style=\"text-align: right;\">\n",
       "      <th></th>\n",
       "      <th>coefficient</th>\n",
       "      <th>correlation</th>\n",
       "    </tr>\n",
       "  </thead>\n",
       "  <tbody>\n",
       "    <tr>\n",
       "      <th>neighborhood_ANDORINHAS</th>\n",
       "      <td>0.221020</td>\n",
       "      <td>0.012861</td>\n",
       "    </tr>\n",
       "    <tr>\n",
       "      <th>neighborhood_ANTÔNIO HONÓRIO</th>\n",
       "      <td>-0.190862</td>\n",
       "      <td>-0.004915</td>\n",
       "    </tr>\n",
       "    <tr>\n",
       "      <th>neighborhood_ARIOVALDO FAVALESSA</th>\n",
       "      <td>0.347410</td>\n",
       "      <td>0.006062</td>\n",
       "    </tr>\n",
       "    <tr>\n",
       "      <th>neighborhood_BARRO VERMELHO</th>\n",
       "      <td>0.211257</td>\n",
       "      <td>-0.001008</td>\n",
       "    </tr>\n",
       "    <tr>\n",
       "      <th>neighborhood_BELA VISTA</th>\n",
       "      <td>0.023389</td>\n",
       "      <td>-0.000075</td>\n",
       "    </tr>\n",
       "    <tr>\n",
       "      <th>neighborhood_BENTO FERREIRA</th>\n",
       "      <td>0.047623</td>\n",
       "      <td>-0.003097</td>\n",
       "    </tr>\n",
       "    <tr>\n",
       "      <th>neighborhood_BOA VISTA</th>\n",
       "      <td>-0.186964</td>\n",
       "      <td>-0.004543</td>\n",
       "    </tr>\n",
       "    <tr>\n",
       "      <th>neighborhood_BONFIM</th>\n",
       "      <td>0.071392</td>\n",
       "      <td>0.005028</td>\n",
       "    </tr>\n",
       "    <tr>\n",
       "      <th>neighborhood_CARATOÍRA</th>\n",
       "      <td>0.228883</td>\n",
       "      <td>0.014007</td>\n",
       "    </tr>\n",
       "    <tr>\n",
       "      <th>neighborhood_CENTRO</th>\n",
       "      <td>0.110621</td>\n",
       "      <td>0.000045</td>\n",
       "    </tr>\n",
       "    <tr>\n",
       "      <th>neighborhood_COMDUSA</th>\n",
       "      <td>-0.125387</td>\n",
       "      <td>-0.005699</td>\n",
       "    </tr>\n",
       "    <tr>\n",
       "      <th>neighborhood_CONQUISTA</th>\n",
       "      <td>0.052349</td>\n",
       "      <td>0.003774</td>\n",
       "    </tr>\n",
       "    <tr>\n",
       "      <th>neighborhood_CONSOLAÇÃO</th>\n",
       "      <td>-0.088916</td>\n",
       "      <td>-0.002981</td>\n",
       "    </tr>\n",
       "    <tr>\n",
       "      <th>neighborhood_CRUZAMENTO</th>\n",
       "      <td>-0.091177</td>\n",
       "      <td>-0.002379</td>\n",
       "    </tr>\n",
       "    <tr>\n",
       "      <th>neighborhood_DA PENHA</th>\n",
       "      <td>0.035694</td>\n",
       "      <td>-0.001211</td>\n",
       "    </tr>\n",
       "    <tr>\n",
       "      <th>neighborhood_DE LOURDES</th>\n",
       "      <td>-0.267452</td>\n",
       "      <td>-0.011255</td>\n",
       "    </tr>\n",
       "    <tr>\n",
       "      <th>neighborhood_DO CABRAL</th>\n",
       "      <td>-0.295543</td>\n",
       "      <td>-0.008987</td>\n",
       "    </tr>\n",
       "    <tr>\n",
       "      <th>neighborhood_DO MOSCOSO</th>\n",
       "      <td>-0.043984</td>\n",
       "      <td>0.001047</td>\n",
       "    </tr>\n",
       "    <tr>\n",
       "      <th>neighborhood_DO QUADRO</th>\n",
       "      <td>-0.420555</td>\n",
       "      <td>-0.014351</td>\n",
       "    </tr>\n",
       "    <tr>\n",
       "      <th>neighborhood_ENSEADA DO SUÁ</th>\n",
       "      <td>0.305976</td>\n",
       "      <td>0.002078</td>\n",
       "    </tr>\n",
       "    <tr>\n",
       "      <th>neighborhood_ESTRELINHA</th>\n",
       "      <td>-0.010903</td>\n",
       "      <td>-0.002845</td>\n",
       "    </tr>\n",
       "    <tr>\n",
       "      <th>neighborhood_FONTE GRANDE</th>\n",
       "      <td>0.003338</td>\n",
       "      <td>0.001028</td>\n",
       "    </tr>\n",
       "    <tr>\n",
       "      <th>neighborhood_FORTE SÃO JOÃO</th>\n",
       "      <td>-0.197629</td>\n",
       "      <td>-0.013491</td>\n",
       "    </tr>\n",
       "    <tr>\n",
       "      <th>neighborhood_FRADINHOS</th>\n",
       "      <td>-0.152702</td>\n",
       "      <td>-0.003398</td>\n",
       "    </tr>\n",
       "    <tr>\n",
       "      <th>neighborhood_GOIABEIRAS</th>\n",
       "      <td>-0.138450</td>\n",
       "      <td>-0.012229</td>\n",
       "    </tr>\n",
       "    <tr>\n",
       "      <th>neighborhood_GRANDE VITÓRIA</th>\n",
       "      <td>-0.014530</td>\n",
       "      <td>-0.004950</td>\n",
       "    </tr>\n",
       "    <tr>\n",
       "      <th>neighborhood_GURIGICA</th>\n",
       "      <td>0.427915</td>\n",
       "      <td>0.026887</td>\n",
       "    </tr>\n",
       "    <tr>\n",
       "      <th>neighborhood_HORTO</th>\n",
       "      <td>0.598090</td>\n",
       "      <td>0.007888</td>\n",
       "    </tr>\n",
       "    <tr>\n",
       "      <th>neighborhood_ILHA DAS CAIEIRAS</th>\n",
       "      <td>-0.089291</td>\n",
       "      <td>-0.002016</td>\n",
       "    </tr>\n",
       "    <tr>\n",
       "      <th>neighborhood_ILHA DE SANTA MARIA</th>\n",
       "      <td>-0.131406</td>\n",
       "      <td>-0.005512</td>\n",
       "    </tr>\n",
       "    <tr>\n",
       "      <th>...</th>\n",
       "      <td>...</td>\n",
       "      <td>...</td>\n",
       "    </tr>\n",
       "    <tr>\n",
       "      <th>neighborhood_NOVA PALESTINA</th>\n",
       "      <td>0.075127</td>\n",
       "      <td>0.002391</td>\n",
       "    </tr>\n",
       "    <tr>\n",
       "      <th>neighborhood_PARQUE MOSCOSO</th>\n",
       "      <td>0.085632</td>\n",
       "      <td>-0.002684</td>\n",
       "    </tr>\n",
       "    <tr>\n",
       "      <th>neighborhood_PIEDADE</th>\n",
       "      <td>0.026587</td>\n",
       "      <td>0.002058</td>\n",
       "    </tr>\n",
       "    <tr>\n",
       "      <th>neighborhood_PONTAL DE CAMBURI</th>\n",
       "      <td>0.025396</td>\n",
       "      <td>-0.001830</td>\n",
       "    </tr>\n",
       "    <tr>\n",
       "      <th>neighborhood_PRAIA DO CANTO</th>\n",
       "      <td>0.051145</td>\n",
       "      <td>-0.007635</td>\n",
       "    </tr>\n",
       "    <tr>\n",
       "      <th>neighborhood_PRAIA DO SUÁ</th>\n",
       "      <td>0.167640</td>\n",
       "      <td>0.004365</td>\n",
       "    </tr>\n",
       "    <tr>\n",
       "      <th>neighborhood_REDENÇÃO</th>\n",
       "      <td>0.056657</td>\n",
       "      <td>-0.002739</td>\n",
       "    </tr>\n",
       "    <tr>\n",
       "      <th>neighborhood_REPÚBLICA</th>\n",
       "      <td>-0.132546</td>\n",
       "      <td>-0.011136</td>\n",
       "    </tr>\n",
       "    <tr>\n",
       "      <th>neighborhood_RESISTÊNCIA</th>\n",
       "      <td>0.037161</td>\n",
       "      <td>0.009998</td>\n",
       "    </tr>\n",
       "    <tr>\n",
       "      <th>neighborhood_ROMÃO</th>\n",
       "      <td>0.135896</td>\n",
       "      <td>0.004999</td>\n",
       "    </tr>\n",
       "    <tr>\n",
       "      <th>neighborhood_SANTA CECÍLIA</th>\n",
       "      <td>0.273838</td>\n",
       "      <td>0.009560</td>\n",
       "    </tr>\n",
       "    <tr>\n",
       "      <th>neighborhood_SANTA CLARA</th>\n",
       "      <td>0.192198</td>\n",
       "      <td>0.008108</td>\n",
       "    </tr>\n",
       "    <tr>\n",
       "      <th>neighborhood_SANTA HELENA</th>\n",
       "      <td>0.051422</td>\n",
       "      <td>-0.000697</td>\n",
       "    </tr>\n",
       "    <tr>\n",
       "      <th>neighborhood_SANTA LUÍZA</th>\n",
       "      <td>-0.265724</td>\n",
       "      <td>-0.008151</td>\n",
       "    </tr>\n",
       "    <tr>\n",
       "      <th>neighborhood_SANTA LÚCIA</th>\n",
       "      <td>0.059669</td>\n",
       "      <td>-0.004528</td>\n",
       "    </tr>\n",
       "    <tr>\n",
       "      <th>neighborhood_SANTA MARTHA</th>\n",
       "      <td>-0.044650</td>\n",
       "      <td>-0.000164</td>\n",
       "    </tr>\n",
       "    <tr>\n",
       "      <th>neighborhood_SANTA TEREZA</th>\n",
       "      <td>-0.144815</td>\n",
       "      <td>-0.005020</td>\n",
       "    </tr>\n",
       "    <tr>\n",
       "      <th>neighborhood_SANTO ANDRÉ</th>\n",
       "      <td>0.141239</td>\n",
       "      <td>0.003908</td>\n",
       "    </tr>\n",
       "    <tr>\n",
       "      <th>neighborhood_SANTO ANTÔNIO</th>\n",
       "      <td>-0.047946</td>\n",
       "      <td>-0.011231</td>\n",
       "    </tr>\n",
       "    <tr>\n",
       "      <th>neighborhood_SANTOS DUMONT</th>\n",
       "      <td>0.288667</td>\n",
       "      <td>0.016241</td>\n",
       "    </tr>\n",
       "    <tr>\n",
       "      <th>neighborhood_SANTOS REIS</th>\n",
       "      <td>-0.034322</td>\n",
       "      <td>-0.001866</td>\n",
       "    </tr>\n",
       "    <tr>\n",
       "      <th>neighborhood_SEGURANÇA DO LAR</th>\n",
       "      <td>-0.204313</td>\n",
       "      <td>-0.004509</td>\n",
       "    </tr>\n",
       "    <tr>\n",
       "      <th>neighborhood_SOLON BORGES</th>\n",
       "      <td>-0.649419</td>\n",
       "      <td>-0.015078</td>\n",
       "    </tr>\n",
       "    <tr>\n",
       "      <th>neighborhood_SÃO BENEDITO</th>\n",
       "      <td>0.058303</td>\n",
       "      <td>0.005796</td>\n",
       "    </tr>\n",
       "    <tr>\n",
       "      <th>neighborhood_SÃO CRISTÓVÃO</th>\n",
       "      <td>-0.051301</td>\n",
       "      <td>-0.003465</td>\n",
       "    </tr>\n",
       "    <tr>\n",
       "      <th>neighborhood_SÃO JOSÉ</th>\n",
       "      <td>0.030793</td>\n",
       "      <td>-0.003005</td>\n",
       "    </tr>\n",
       "    <tr>\n",
       "      <th>neighborhood_SÃO PEDRO</th>\n",
       "      <td>0.035948</td>\n",
       "      <td>-0.002099</td>\n",
       "    </tr>\n",
       "    <tr>\n",
       "      <th>neighborhood_TABUAZEIRO</th>\n",
       "      <td>-0.048662</td>\n",
       "      <td>-0.004768</td>\n",
       "    </tr>\n",
       "    <tr>\n",
       "      <th>neighborhood_UNIVERSITÁRIO</th>\n",
       "      <td>0.213514</td>\n",
       "      <td>-0.000682</td>\n",
       "    </tr>\n",
       "    <tr>\n",
       "      <th>neighborhood_VILA RUBIM</th>\n",
       "      <td>-0.193976</td>\n",
       "      <td>-0.012552</td>\n",
       "    </tr>\n",
       "  </tbody>\n",
       "</table>\n",
       "<p>79 rows × 2 columns</p>\n",
       "</div>"
      ],
      "text/plain": [
       "                                  coefficient  correlation\n",
       "neighborhood_ANDORINHAS              0.221020     0.012861\n",
       "neighborhood_ANTÔNIO HONÓRIO        -0.190862    -0.004915\n",
       "neighborhood_ARIOVALDO FAVALESSA     0.347410     0.006062\n",
       "neighborhood_BARRO VERMELHO          0.211257    -0.001008\n",
       "neighborhood_BELA VISTA              0.023389    -0.000075\n",
       "neighborhood_BENTO FERREIRA          0.047623    -0.003097\n",
       "neighborhood_BOA VISTA              -0.186964    -0.004543\n",
       "neighborhood_BONFIM                  0.071392     0.005028\n",
       "neighborhood_CARATOÍRA               0.228883     0.014007\n",
       "neighborhood_CENTRO                  0.110621     0.000045\n",
       "neighborhood_COMDUSA                -0.125387    -0.005699\n",
       "neighborhood_CONQUISTA               0.052349     0.003774\n",
       "neighborhood_CONSOLAÇÃO             -0.088916    -0.002981\n",
       "neighborhood_CRUZAMENTO             -0.091177    -0.002379\n",
       "neighborhood_DA PENHA                0.035694    -0.001211\n",
       "neighborhood_DE LOURDES             -0.267452    -0.011255\n",
       "neighborhood_DO CABRAL              -0.295543    -0.008987\n",
       "neighborhood_DO MOSCOSO             -0.043984     0.001047\n",
       "neighborhood_DO QUADRO              -0.420555    -0.014351\n",
       "neighborhood_ENSEADA DO SUÁ          0.305976     0.002078\n",
       "neighborhood_ESTRELINHA             -0.010903    -0.002845\n",
       "neighborhood_FONTE GRANDE            0.003338     0.001028\n",
       "neighborhood_FORTE SÃO JOÃO         -0.197629    -0.013491\n",
       "neighborhood_FRADINHOS              -0.152702    -0.003398\n",
       "neighborhood_GOIABEIRAS             -0.138450    -0.012229\n",
       "neighborhood_GRANDE VITÓRIA         -0.014530    -0.004950\n",
       "neighborhood_GURIGICA                0.427915     0.026887\n",
       "neighborhood_HORTO                   0.598090     0.007888\n",
       "neighborhood_ILHA DAS CAIEIRAS      -0.089291    -0.002016\n",
       "neighborhood_ILHA DE SANTA MARIA    -0.131406    -0.005512\n",
       "...                                       ...          ...\n",
       "neighborhood_NOVA PALESTINA          0.075127     0.002391\n",
       "neighborhood_PARQUE MOSCOSO          0.085632    -0.002684\n",
       "neighborhood_PIEDADE                 0.026587     0.002058\n",
       "neighborhood_PONTAL DE CAMBURI       0.025396    -0.001830\n",
       "neighborhood_PRAIA DO CANTO          0.051145    -0.007635\n",
       "neighborhood_PRAIA DO SUÁ            0.167640     0.004365\n",
       "neighborhood_REDENÇÃO                0.056657    -0.002739\n",
       "neighborhood_REPÚBLICA              -0.132546    -0.011136\n",
       "neighborhood_RESISTÊNCIA             0.037161     0.009998\n",
       "neighborhood_ROMÃO                   0.135896     0.004999\n",
       "neighborhood_SANTA CECÍLIA           0.273838     0.009560\n",
       "neighborhood_SANTA CLARA             0.192198     0.008108\n",
       "neighborhood_SANTA HELENA            0.051422    -0.000697\n",
       "neighborhood_SANTA LUÍZA            -0.265724    -0.008151\n",
       "neighborhood_SANTA LÚCIA             0.059669    -0.004528\n",
       "neighborhood_SANTA MARTHA           -0.044650    -0.000164\n",
       "neighborhood_SANTA TEREZA           -0.144815    -0.005020\n",
       "neighborhood_SANTO ANDRÉ             0.141239     0.003908\n",
       "neighborhood_SANTO ANTÔNIO          -0.047946    -0.011231\n",
       "neighborhood_SANTOS DUMONT           0.288667     0.016241\n",
       "neighborhood_SANTOS REIS            -0.034322    -0.001866\n",
       "neighborhood_SEGURANÇA DO LAR       -0.204313    -0.004509\n",
       "neighborhood_SOLON BORGES           -0.649419    -0.015078\n",
       "neighborhood_SÃO BENEDITO            0.058303     0.005796\n",
       "neighborhood_SÃO CRISTÓVÃO          -0.051301    -0.003465\n",
       "neighborhood_SÃO JOSÉ                0.030793    -0.003005\n",
       "neighborhood_SÃO PEDRO               0.035948    -0.002099\n",
       "neighborhood_TABUAZEIRO             -0.048662    -0.004768\n",
       "neighborhood_UNIVERSITÁRIO           0.213514    -0.000682\n",
       "neighborhood_VILA RUBIM             -0.193976    -0.012552\n",
       "\n",
       "[79 rows x 2 columns]"
      ]
     },
     "execution_count": 280,
     "metadata": {},
     "output_type": "execute_result"
    }
   ],
   "source": [
    "# make coefficients in the data frame to merge with correlations\n",
    "coefficients = pd.DataFrame(\n",
    "    data=model.coef_[0],\n",
    "    index=x.columns,\n",
    "    columns=['coefficient']\n",
    ")\n",
    "    \n",
    "# calculate correlations     \n",
    "correlations = appointments_dummies.corr()\n",
    "correlations = correlations.loc[features_neighborhood,'no_show']    \n",
    "\n",
    "correlations = pd.DataFrame(\n",
    "    data=correlations.values,\n",
    "    index=correlations.index,\n",
    "    columns=['correlation']\n",
    ")\n",
    "\n",
    "# join the 2\n",
    "coefficients.merge(correlations,left_index=True,right_index=True)"
   ]
  },
  {
   "cell_type": "markdown",
   "metadata": {},
   "source": [
    "<div class='alert alert-info'>\n",
    "why do some of these neighborhoods have such high coefficients, even though their \n",
    "correlations are very low?\n",
    "<li>coefficient does not mean correlation\n",
    "these neighborhoods have higher coefficients than my other features, but my guess is that there are so many of them that they decrease the precision by adding a lot of noise. does that mean there is potential to improve this model by removing some of these neighborhoods but not all? if so,which ones?\n",
    "<li>a bad predictor is better than no predictor. you do not need to remove columns unless you are trying to optimize for time constraints, or explanatory power.\n",
    "</div>"
   ]
  },
  {
   "cell_type": "markdown",
   "metadata": {},
   "source": [
    "## ideas\n",
    "https://en.wikipedia.org/wiki/Stepwise_regression"
   ]
  }
 ],
 "metadata": {
  "kernelspec": {
   "display_name": "Python 3",
   "language": "python",
   "name": "python3"
  },
  "language_info": {
   "codemirror_mode": {
    "name": "ipython",
    "version": 3
   },
   "file_extension": ".py",
   "mimetype": "text/x-python",
   "name": "python",
   "nbconvert_exporter": "python",
   "pygments_lexer": "ipython3",
   "version": "3.6.2"
  },
  "toc": {
   "nav_menu": {},
   "number_sections": false,
   "sideBar": true,
   "skip_h1_title": false,
   "toc_cell": false,
   "toc_position": {
    "height": "499px",
    "left": "0px",
    "right": "1067.01px",
    "top": "67px",
    "width": "213px"
   },
   "toc_section_display": "block",
   "toc_window_display": true
  }
 },
 "nbformat": 4,
 "nbformat_minor": 2
}
